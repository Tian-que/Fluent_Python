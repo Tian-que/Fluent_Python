{
 "cells": [
  {
   "cell_type": "code",
   "execution_count": null,
   "metadata": {},
   "outputs": [],
   "source": [
    "import bisect\n",
    "import sys\n",
    "\n",
    "HAYSTACK = [1, 4, 5, 6, 8, 12, 15, 20, 21, 23, 23, 26, 29, 30]\n",
    "NEEDLES = [0, 1, 2, 5, 8, 10, 22, 23, 29, 30, 31]\n",
    "\n",
    "ROW_FMT = '{0:2d} @ {1:2d}  {2}{0:<2d}'\n",
    "\n",
    "def demo(bisect_fn):\n",
    "    for neddle in reversed(NEEDLES):\n",
    "        position = bisect_fn(HAYSTACK, neddle)\n",
    "        offset = position * '   |'\n",
    "        print(ROW_FMT.format(neddle, position, offset))\n",
    "\n",
    "if __name__ == '__main__':\n",
    "    if sys.argv[-1] == 'left':\n",
    "        bisect_fn = bisect.bisect_left\n",
    "    else:\n",
    "        bisect_fn = bisect.bisect\n",
    "    \n",
    "    print('DEMO: ', bisect_fn.__name__)\n",
    "    print('haystack->', '  '.join('%2d' % n for n in HAYSTACK))\n",
    "    demo(bisect_fn)\n",
    "pass"
   ]
  },
  {
   "cell_type": "code",
   "execution_count": null,
   "metadata": {},
   "outputs": [],
   "source": [
    "def garde(score, breakpoints = [60, 70, 80, 90], grades = 'FDCBA'):\n",
    "    i = bisect.bisect(breakpoints, score)\n",
    "    return grades[i]\n",
    "\n",
    "[garde(score) for score in [33, 99, 77, 70, 89, 90, 100]]"
   ]
  },
  {
   "cell_type": "markdown",
   "metadata": {},
   "source": [
    "2.8.2 用 bisect.insort 插入新元素"
   ]
  },
  {
   "cell_type": "code",
   "execution_count": 14,
   "metadata": {},
   "outputs": [
    {
     "name": "stdout",
     "output_type": "stream",
     "text": [
      "10  -> [10]\n",
      " 0  -> [0, 10]\n",
      " 6  -> [0, 6, 10]\n",
      " 8  -> [0, 6, 8, 10]\n",
      " 7  -> [0, 6, 7, 8, 10]\n",
      " 2  -> [0, 2, 6, 7, 8, 10]\n",
      "10  -> [0, 2, 6, 7, 8, 10, 10]\n"
     ]
    }
   ],
   "source": [
    "import bisect\n",
    "import random\n",
    "\n",
    "SIZE = 7\n",
    "\n",
    "random.seed(1729)\n",
    "\n",
    "my_list = []\n",
    "for i in range(SIZE):\n",
    "    new_item = random.randrange(SIZE*2)\n",
    "    bisect.insort(my_list, new_item)\n",
    "    print('%2d  ->' % new_item, my_list)"
   ]
  }
 ],
 "metadata": {
  "interpreter": {
   "hash": "3648eb3f7f4630f95e394f9f35792eb27dd4017d60edd3fc045930b560630e51"
  },
  "kernelspec": {
   "display_name": "Python 3.9.1 64-bit",
   "language": "python",
   "name": "python3"
  },
  "language_info": {
   "codemirror_mode": {
    "name": "ipython",
    "version": 3
   },
   "file_extension": ".py",
   "mimetype": "text/x-python",
   "name": "python",
   "nbconvert_exporter": "python",
   "pygments_lexer": "ipython3",
   "version": "3.9.1"
  },
  "orig_nbformat": 4
 },
 "nbformat": 4,
 "nbformat_minor": 2
}
