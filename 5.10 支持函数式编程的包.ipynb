{
 "cells": [
  {
   "cell_type": "markdown",
   "metadata": {},
   "source": [
    "##### operator 模块"
   ]
  },
  {
   "cell_type": "code",
   "execution_count": 1,
   "metadata": {},
   "outputs": [],
   "source": [
    "# 使用 reduce 函数和一个匿名函数计算阶乘\n",
    "from functools import reduce\n",
    "def fact(n):\n",
    "    return reduce(lambda a, b: a*b, range(1, n+1))"
   ]
  },
  {
   "cell_type": "code",
   "execution_count": null,
   "metadata": {},
   "outputs": [],
   "source": [
    "# 使用 reduce 和 operator.mul 计算阶乘\n",
    "from functools import reduce\n",
    "from operator import mul\n",
    "\n",
    "def fact(n):\n",
    "    return reduce(mul, range(1, n+1))"
   ]
  },
  {
   "cell_type": "markdown",
   "metadata": {},
   "source": [
    "operator 模块还有一类函数，能替代从序列中取出元素或读取对象属性的 lanbda 表达式：itemgetter 和 attrgetter 会自行构建函数"
   ]
  },
  {
   "cell_type": "code",
   "execution_count": 4,
   "metadata": {},
   "outputs": [
    {
     "name": "stdout",
     "output_type": "stream",
     "text": [
      "('Sao Paulo', 'BR', 19.649, (1, 2))\n",
      "('Delhi NCR', 'IN', 21.935, (1, 2))\n",
      "('Tokyo', 'JP', 36.933, (1, 2))\n",
      "('Mexico City', 'MX', 20.142, (1, 2))\n"
     ]
    }
   ],
   "source": [
    "# 按照第 2 个字段顺序打印城市信息\n",
    "# itergetter(1) 的作用等同于 lambda fields: fields[1]\n",
    "metro_data = [\n",
    "    ('Tokyo', 'JP', 36.933, (1, 2)),\n",
    "    ('Delhi NCR', 'IN', 21.935, (1, 2)),\n",
    "    ('Mexico City', 'MX', 20.142, (1, 2)),\n",
    "    ('Sao Paulo', 'BR', 19.649, (1, 2)),\n",
    "]\n",
    "\n",
    "from operator import itemgetter\n",
    "for city in sorted(metro_data, key=itemgetter(1)):\n",
    "    print(city)"
   ]
  },
  {
   "cell_type": "code",
   "execution_count": 3,
   "metadata": {},
   "outputs": [
    {
     "name": "stdout",
     "output_type": "stream",
     "text": [
      "('JP', 'Tokyo')\n",
      "('IN', 'Delhi NCR')\n",
      "('MX', 'Mexico City')\n",
      "('BR', 'Sao Paulo')\n"
     ]
    }
   ],
   "source": [
    "# 如果把多个参数给 itemgetter 它构建的函数会返回提取的值构成的元组\n",
    "cc_name = itemgetter(1, 0)\n",
    "for city in metro_data:\n",
    "    print(cc_name(city))"
   ]
  },
  {
   "cell_type": "code",
   "execution_count": 8,
   "metadata": {},
   "outputs": [
    {
     "data": {
      "text/plain": [
       "Metropolis(name='Tokyo', cc='JP', pop=36.933, coord=Latlong(lat=1, long=2))"
      ]
     },
     "execution_count": 8,
     "metadata": {},
     "output_type": "execute_result"
    }
   ],
   "source": [
    "# 使用 attrgetter\n",
    "from collections import namedtuple\n",
    "Latlong = namedtuple('Latlong', 'lat long')\n",
    "Metropoils = namedtuple('Metropolis', 'name cc pop coord')\n",
    "metro_areas = [Metropoils(name, cc, pop, Latlong(lat, long)) for name, cc, pop, (lat, long) in metro_data]\n",
    "metro_areas[0]"
   ]
  },
  {
   "cell_type": "code",
   "execution_count": 9,
   "metadata": {},
   "outputs": [
    {
     "data": {
      "text/plain": [
       "1"
      ]
     },
     "execution_count": 9,
     "metadata": {},
     "output_type": "execute_result"
    }
   ],
   "source": [
    "metro_areas[0].coord.lat"
   ]
  },
  {
   "cell_type": "code",
   "execution_count": 11,
   "metadata": {},
   "outputs": [
    {
     "name": "stdout",
     "output_type": "stream",
     "text": [
      "('Tokyo', 1)\n",
      "('Delhi NCR', 1)\n",
      "('Mexico City', 1)\n",
      "('Sao Paulo', 1)\n"
     ]
    }
   ],
   "source": [
    "from operator import attrgetter\n",
    "name_lat = attrgetter('name', 'coord.lat')\n",
    "\n",
    "for city in sorted(metro_areas, key = attrgetter('coord.lat')):\n",
    "    print(name_lat(city))"
   ]
  },
  {
   "cell_type": "code",
   "execution_count": 13,
   "metadata": {},
   "outputs": [
    {
     "data": {
      "text/plain": [
       "'THE TIME HAS COME'"
      ]
     },
     "execution_count": 13,
     "metadata": {},
     "output_type": "execute_result"
    }
   ],
   "source": [
    "# operator.methodcaller 它的作用与 attrgetter 类似，它会自行创建函数。methodcaller 创建的函数会在对象上调用参数指定的方法\n",
    "from operator import methodcaller\n",
    "s = 'The time has come'\n",
    "upcase = methodcaller('upper') # s.upper()\n",
    "upcase(s)"
   ]
  },
  {
   "cell_type": "code",
   "execution_count": 14,
   "metadata": {},
   "outputs": [
    {
     "data": {
      "text/plain": [
       "'The-time-has-come'"
      ]
     },
     "execution_count": 14,
     "metadata": {},
     "output_type": "execute_result"
    }
   ],
   "source": [
    "hiphenate = methodcaller('replace', ' ', '-') # s.replace(' ', '-')\n",
    "hiphenate(s)"
   ]
  }
 ],
 "metadata": {
  "interpreter": {
   "hash": "5fd5d179b353a7924b2269f9ae30affc58451699efad8dcc09c53f37c011c4ba"
  },
  "kernelspec": {
   "display_name": "Python 3.9.1 64-bit ('.venv': venv)",
   "language": "python",
   "name": "python3"
  },
  "language_info": {
   "codemirror_mode": {
    "name": "ipython",
    "version": 3
   },
   "file_extension": ".py",
   "mimetype": "text/x-python",
   "name": "python",
   "nbconvert_exporter": "python",
   "pygments_lexer": "ipython3",
   "version": "3.9.1"
  },
  "orig_nbformat": 4
 },
 "nbformat": 4,
 "nbformat_minor": 2
}
