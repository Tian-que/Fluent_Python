{
 "cells": [
  {
   "cell_type": "markdown",
   "metadata": {},
   "source": [
    "# 字符\n",
    "\n",
    "##### 概念\n",
    "* Unicode ：码位，是 0~1,114,111 的数字，在 Unicode 标准中以 4~6 个十六进制数字表示，并且加前缀 \"U+\"，如 A 的码位是 U+0041，约 10% 的有效码位有对应的字符，字符范围为人类可读的文本\n",
    "* ASCII、utf-8、utf-16 等：编码，是码位和字节序列间转换使用的算法\n",
    "* b'caf\\xc\\xa9'：字节序列，供以机器读取的文本\n",
    "##### 各个字节值可能由以下三种方式显示\n",
    "* 可打印的 ASCII 范围内的字节 (从空格到 ~ )，使用 ASCII 字符本身\n",
    "* 制表符、换行符、回车符和 \\ 对应的字节，使用转义序列 \\t、\\n、\\r 和 \\\\\n",
    "* 其他字节的值，使用十六进制转义序列，如 \\x00 是空字节"
   ]
  },
  {
   "cell_type": "code",
   "execution_count": 1,
   "metadata": {},
   "outputs": [
    {
     "data": {
      "text/plain": [
       "4"
      ]
     },
     "execution_count": 1,
     "metadata": {},
     "output_type": "execute_result"
    }
   ],
   "source": [
    "# 'café' 字符串有 4 个 Unicode 字符\n",
    "s  = 'café'\n",
    "len(s)"
   ]
  },
  {
   "cell_type": "code",
   "execution_count": 2,
   "metadata": {},
   "outputs": [
    {
     "data": {
      "text/plain": [
       "b'caf\\xc3\\xa9'"
      ]
     },
     "execution_count": 2,
     "metadata": {},
     "output_type": "execute_result"
    }
   ],
   "source": [
    "# 使用 UTF-8 把 str 对象编码成 bytes 对象\n",
    "b = s.encode('utf-8')\n",
    "b"
   ]
  },
  {
   "cell_type": "code",
   "execution_count": 3,
   "metadata": {},
   "outputs": [
    {
     "data": {
      "text/plain": [
       "5"
      ]
     },
     "execution_count": 3,
     "metadata": {},
     "output_type": "execute_result"
    }
   ],
   "source": [
    "# 字节序列有5个字节，其中 'é' 在 UTF-8 编码中为 2 个字节\n",
    "len(b)"
   ]
  },
  {
   "cell_type": "code",
   "execution_count": 4,
   "metadata": {},
   "outputs": [
    {
     "data": {
      "text/plain": [
       "'café'"
      ]
     },
     "execution_count": 4,
     "metadata": {},
     "output_type": "execute_result"
    }
   ],
   "source": [
    "# 使用 UTF-8 把 bytes 对象解码成 str 对象\n",
    "b.decode('utf-8')"
   ]
  },
  {
   "cell_type": "code",
   "execution_count": 5,
   "metadata": {},
   "outputs": [
    {
     "data": {
      "text/plain": [
       "99"
      ]
     },
     "execution_count": 5,
     "metadata": {},
     "output_type": "execute_result"
    }
   ],
   "source": [
    "# 各个元素是 range(256) 内的整数\n",
    "b[0]"
   ]
  },
  {
   "cell_type": "code",
   "execution_count": 6,
   "metadata": {},
   "outputs": [
    {
     "data": {
      "text/plain": [
       "b'c'"
      ]
     },
     "execution_count": 6,
     "metadata": {},
     "output_type": "execute_result"
    }
   ],
   "source": [
    "# bytes 对象的切片仍是 bytes 对象，即时只是一个字节的切片\n",
    "b[:1]"
   ]
  },
  {
   "cell_type": "markdown",
   "metadata": {},
   "source": [
    "二进制序列有个类方法是 str 没有的，名为 fromhex，它的作用是解析十六进制数字对(数字对之间的空格是可选的)，构建二进制序列"
   ]
  },
  {
   "cell_type": "code",
   "execution_count": 7,
   "metadata": {},
   "outputs": [
    {
     "data": {
      "text/plain": [
       "b'1K\\xce\\xa9'"
      ]
     },
     "execution_count": 7,
     "metadata": {},
     "output_type": "execute_result"
    }
   ],
   "source": [
    "bytes.fromhex('31 4B CE A9')"
   ]
  },
  {
   "cell_type": "code",
   "execution_count": 8,
   "metadata": {},
   "outputs": [
    {
     "data": {
      "text/plain": [
       "b'\\xfe\\xff\\xff\\xff\\x00\\x00\\x01\\x00\\x02\\x00'"
      ]
     },
     "execution_count": 8,
     "metadata": {},
     "output_type": "execute_result"
    }
   ],
   "source": [
    "# 使用数组中的原始数据初始化 bytes 对象\n",
    "import array\n",
    "numbers = array.array('h', [-2, -1, 0, 1, 2])\n",
    "otcets = bytes(numbers)\n",
    "otcets"
   ]
  },
  {
   "cell_type": "markdown",
   "metadata": {},
   "source": [
    "##### 结构体和内存视图\n",
    "struct 模块提供了一些函数，把打包的字节序列转换成不同类型字段组成的元组，还有一些函数用于执行反向转换，把元组转换成打包的字节序列。  \n",
    "struct 模块能处理 bytes、bytearray 和 memoryview 对象"
   ]
  },
  {
   "cell_type": "code",
   "execution_count": 11,
   "metadata": {},
   "outputs": [
    {
     "data": {
      "text/plain": [
       "b'GIF89a\\xfa\\x00\\x02\\x01'"
      ]
     },
     "execution_count": 11,
     "metadata": {},
     "output_type": "execute_result"
    }
   ],
   "source": [
    "# 使用 memoryview 和 struct 查看一个 GIF 图像的首部\n",
    "import struct\n",
    "fmt = '<3s3sHH' # < 是小字节序，3s3s 是两个 3 字节序列，HH 是两个 16 位二进制整数\n",
    "with open('filter.gif', 'rb') as fp:\n",
    "    img = memoryview(fp.read())\n",
    "\n",
    "header = img[:10]\n",
    "bytes(header) "
   ]
  },
  {
   "cell_type": "code",
   "execution_count": 12,
   "metadata": {},
   "outputs": [
    {
     "data": {
      "text/plain": [
       "(b'GIF', b'89a', 250, 258)"
      ]
     },
     "execution_count": 12,
     "metadata": {},
     "output_type": "execute_result"
    }
   ],
   "source": [
    "# 拆包 memoryview 对象，得到一个元组，包含类型、版本、宽度和高度\n",
    "struct.unpack(fmt, header)"
   ]
  },
  {
   "cell_type": "code",
   "execution_count": 13,
   "metadata": {},
   "outputs": [],
   "source": [
    "# 删除引用，释放内存\n",
    "del header\n",
    "del img"
   ]
  },
  {
   "cell_type": "markdown",
   "metadata": {},
   "source": [
    "# 4.4 处理编码问题"
   ]
  },
  {
   "cell_type": "markdown",
   "metadata": {},
   "source": [
    "##### 判断字符编码\n",
    "统一字符编码侦测包 Chardet"
   ]
  },
  {
   "cell_type": "markdown",
   "metadata": {},
   "source": [
    "# 4.6 为了正确比较而规范化 Unicode 字符串"
   ]
  },
  {
   "cell_type": "code",
   "execution_count": null,
   "metadata": {},
   "outputs": [
    {
     "data": {
      "text/plain": [
       "('café', 'café')"
      ]
     },
     "metadata": {},
     "output_type": "display_data"
    }
   ],
   "source": [
    "# U+0301 是 COMBINING ACUTE ACCENT，加在 'e' 后得到 'é'，在 Unicode 中，他们被称为“标准等价物”，应用程序应将他们视作相同的字符。但 Python 看到的是不同的码位序列，因此判定二者不同\n",
    "s1 = 'café'\n",
    "s2 = 'cafe\\u0301'\n",
    "s1, s2"
   ]
  },
  {
   "cell_type": "code",
   "execution_count": null,
   "metadata": {},
   "outputs": [
    {
     "data": {
      "text/plain": [
       "(4, 5)"
      ]
     },
     "metadata": {},
     "output_type": "display_data"
    }
   ],
   "source": [
    "len(s1), len(s2) "
   ]
  },
  {
   "cell_type": "code",
   "execution_count": null,
   "metadata": {},
   "outputs": [
    {
     "data": {
      "text/plain": [
       "False"
      ]
     },
     "metadata": {},
     "output_type": "display_data"
    }
   ],
   "source": [
    "s1 == s2"
   ]
  },
  {
   "cell_type": "markdown",
   "metadata": {},
   "source": [
    "这个问题的解决方案是使用 unicodedata.normalize 函数提供的 Unicode 规范化。这个函数的第一个参数位这 4 个字符串中的一个：\n",
    "* 'NFC'\n",
    "* 'NFD'\n",
    "* 'NFKC'\n",
    "* 'NFKD'"
   ]
  },
  {
   "cell_type": "code",
   "execution_count": null,
   "metadata": {},
   "outputs": [
    {
     "data": {
      "text/plain": [
       "(4, 5)"
      ]
     },
     "metadata": {},
     "output_type": "display_data"
    }
   ],
   "source": [
    "# NFC (Normalization Form C) 使用最少的码位构成等价的字符串\n",
    "# NFD 把组合字符解成基字符和单独的组合字符\n",
    "# 这两种规范化方式都能让比较行为符合预期\n",
    "from unicodedata import normalize\n",
    "s1 = 'café'\n",
    "s2 = 'cafe\\u0301'\n",
    "len(s1), len(s2)"
   ]
  },
  {
   "cell_type": "code",
   "execution_count": null,
   "metadata": {},
   "outputs": [
    {
     "data": {
      "text/plain": [
       "(4, 4)"
      ]
     },
     "metadata": {},
     "output_type": "display_data"
    }
   ],
   "source": [
    "len(normalize('NFC', s1)), len(normalize('NFC', s2))"
   ]
  },
  {
   "cell_type": "code",
   "execution_count": null,
   "metadata": {},
   "outputs": [
    {
     "data": {
      "text/plain": [
       "(5, 5)"
      ]
     },
     "metadata": {},
     "output_type": "display_data"
    }
   ],
   "source": [
    "len(normalize('NFD', s1)), len(normalize('NFD', s2))"
   ]
  },
  {
   "cell_type": "code",
   "execution_count": null,
   "metadata": {},
   "outputs": [
    {
     "data": {
      "text/plain": [
       "True"
      ]
     },
     "metadata": {},
     "output_type": "display_data"
    }
   ],
   "source": [
    "normalize('NFC', s1) == normalize('NFC', s2)"
   ]
  },
  {
   "cell_type": "code",
   "execution_count": null,
   "metadata": {},
   "outputs": [
    {
     "data": {
      "text/plain": [
       "True"
      ]
     },
     "metadata": {},
     "output_type": "display_data"
    }
   ],
   "source": [
    "normalize('NFD', s1) == normalize('NFD', s2)"
   ]
  },
  {
   "cell_type": "code",
   "execution_count": null,
   "metadata": {},
   "outputs": [
    {
     "data": {
      "text/plain": [
       "'1⁄2'"
      ]
     },
     "metadata": {},
     "output_type": "display_data"
    }
   ],
   "source": [
    "# 在另外两个规范化形式 (NFKC 和 NFKD) 的首字母缩写词中，K 表示 compatibility (兼容性)\n",
    "# 他们对 \"兼容字符\" 有英雄。虽然 Unicode 的目标是为各个字符提供规范的码位，但为了兼容现有标准，有些字符会出现多次\n",
    "# 如 \"μ\" 这个字符，码位是 U+03BC，但同时也有 U+00B5 以便与 latin1 互相转换。所以它是一个兼容字符\n",
    "# 在 NFKC 和 NFKD 模式中，各个兼容字符会被替换成一个或多个兼容分解字符，即使格式有所损失\n",
    "# 例：\"½\" 二分之一通过兼容分解后得到的是三个字符序列 \"1⁄2\"\n",
    "from unicodedata import normalize, name\n",
    "half = '½'\n",
    "normalize('NFKC', half)"
   ]
  },
  {
   "cell_type": "code",
   "execution_count": null,
   "metadata": {},
   "outputs": [
    {
     "data": {
      "text/plain": [
       "'42'"
      ]
     },
     "metadata": {},
     "output_type": "display_data"
    }
   ],
   "source": [
    "four_squared = '4²'\n",
    "normalize('NFKC', four_squared)"
   ]
  },
  {
   "cell_type": "markdown",
   "metadata": {},
   "source": [
    "因此 NFKD 与 NFKC 有可能会损失或曲解信息，尽量不要在存储时使用，但它相当适合在查询时使用"
   ]
  },
  {
   "cell_type": "markdown",
   "metadata": {},
   "source": [
    "大小写折叠\n",
    "将所有文本变为小写再做其他转换。这个功能由 str.casefold() 方法支持\n",
    "注意它与 str.lower() 不同"
   ]
  },
  {
   "cell_type": "markdown",
   "metadata": {},
   "source": [
    "## 4.6.2 规范化文本匹配实用函数"
   ]
  },
  {
   "cell_type": "code",
   "execution_count": null,
   "metadata": {},
   "outputs": [],
   "source": [
    "from unicodedata import normalize\n",
    "\n",
    "# Unicode 标准等价物比较\n",
    "def nfc_equal(str1, str2):\n",
    "    return normalize('NFC', str1) == normalize('NFC', str2)\n",
    "\n",
    "# 不区分大小写比较\n",
    "def fold_equal(str1, str2):\n",
    "    return (normalize('NFC', str1).casefold() == normalize('NFC', str2).casefold())"
   ]
  },
  {
   "cell_type": "markdown",
   "metadata": {},
   "source": [
    "## 4.6.3 极端规范化 去掉变音符号"
   ]
  },
  {
   "cell_type": "code",
   "execution_count": null,
   "metadata": {},
   "outputs": [],
   "source": [
    "import unicodedata\n",
    "import string\n",
    "\n",
    "def shave_marks(txt):\n",
    "    \"\"\"去掉全部变音符号\"\"\"\n",
    "    norm_txt = unicodedata.normalize('NFD', txt)\n",
    "    shaved = ''.join(c for c in norm_txt\n",
    "                    if not unicodedata.combining(c)) # 过滤掉所有组合记号\n",
    "    return unicodedata.normalize('NFC', shaved)"
   ]
  },
  {
   "cell_type": "code",
   "execution_count": null,
   "metadata": {},
   "outputs": [
    {
     "data": {
      "text/plain": [
       "'cafe'"
      ]
     },
     "metadata": {},
     "output_type": "display_data"
    }
   ],
   "source": [
    "s1 = 'café'\n",
    "shave_marks(s1)"
   ]
  },
  {
   "cell_type": "code",
   "execution_count": null,
   "metadata": {},
   "outputs": [
    {
     "data": {
      "text/plain": [
       "'a6b7c8as9df5'"
      ]
     },
     "metadata": {},
     "output_type": "display_data"
    }
   ],
   "source": [
    "# str.translate() 进行映射\n",
    "single_map = str.maketrans(\"\"\"01234\"\"\",\"\"\"56789\"\"\")\n",
    "multi_map = str.maketrans({\n",
    "    'q': 'as',\n",
    "    'w': 'df'\n",
    "})\n",
    "multi_map.update(single_map)\n",
    "'a1b2c3q4w5'.translate(multi_map)"
   ]
  },
  {
   "cell_type": "markdown",
   "metadata": {},
   "source": [
    "# 4.7 Unicode 文本排序"
   ]
  },
  {
   "cell_type": "code",
   "execution_count": null,
   "metadata": {},
   "outputs": [],
   "source": [
    "# 使用 pyuca.Collator.sort_key 方法\n",
    "# PyUCA 是 Unicode 排序算法的纯 Python 实现\n",
    "import pyuca\n",
    "coll = pyuca.Collator()\n",
    "sorted = sorted(txt, key = coll.sort_key)"
   ]
  },
  {
   "cell_type": "markdown",
   "metadata": {},
   "source": [
    "# 4.8 Unicode 数据库与正则表达式 re 对其的支持"
   ]
  },
  {
   "cell_type": "markdown",
   "metadata": {},
   "source": [
    "Unicode 提供了一个完整的数据库，不仅包括码位与字符名称之间的映射，还有各个字符的元数据一级字符之间的关系。  \n",
    "例如：字符是否可以打印、是不是字母、是不是数字、是不是其他数值服号"
   ]
  },
  {
   "cell_type": "code",
   "execution_count": null,
   "metadata": {},
   "outputs": [
    {
     "name": "stdout",
     "output_type": "stream",
     "text": [
      "U+0031\t  1   \tre_dig\tisdig\tisnum\t 1.00\tDIGIT ONE\n",
      "U+00bc\t  ¼   \t-\t-\tisnum\t 0.25\tVULGAR FRACTION ONE QUARTER\n",
      "U+00b2\t  ²   \t-\tisdig\tisnum\t 2.00\tSUPERSCRIPT TWO\n",
      "U+0969\t  ३   \tre_dig\tisdig\tisnum\t 3.00\tDEVANAGARI DIGIT THREE\n",
      "U+136b\t  ፫   \t-\tisdig\tisnum\t 3.00\tETHIOPIC DIGIT THREE\n",
      "U+216b\t  Ⅻ   \t-\t-\tisnum\t12.00\tROMAN NUMERAL TWELVE\n",
      "U+2466\t  ⑦   \t-\tisdig\tisnum\t 7.00\tCIRCLED DIGIT SEVEN\n",
      "U+2480\t  ⒀   \t-\t-\tisnum\t13.00\tPARENTHESIZED NUMBER THIRTEEN\n",
      "U+3285\t  ㊅   \t-\t-\tisnum\t 6.00\tCIRCLED IDEOGRAPH SIX\n"
     ]
    }
   ],
   "source": [
    "# tag::NUMERICS_DEMO[]\n",
    "import unicodedata\n",
    "import re\n",
    "\n",
    "re_digit = re.compile(r'\\d')\n",
    "\n",
    "sample = '1\\xbc\\xb2\\u0969\\u136b\\u216b\\u2466\\u2480\\u3285'\n",
    "\n",
    "for char in sample:\n",
    "    print(f'U+{ord(char):04x}',                       # U+0000 格式的码位\n",
    "          char.center(6),                             # 在长度为 6 的字符串中居中显示字符\n",
    "          're_dig' if re_digit.match(char) else '-',  # 如果字符匹配正则表达式 r'\\d'，显示 re_dig\n",
    "          'isdig' if char.isdigit() else '-',         # 如果 char.isdiget() 返回 True，显示 isdig\n",
    "          'isnum' if char.isnumeric() else '-',       # 如果 char.isnumeric() 返回 True，显示 isnum\n",
    "          f'{unicodedata.numeric(char):5.2f}',        # 使用长度为 5、小数点后保留 2 位的浮点数显示数值\n",
    "          unicodedata.name(char),                     # Unicode 标准中字符的名称\n",
    "          sep='\\t')\n",
    "# end::NUMERICS_DEMO[]"
   ]
  },
  {
   "cell_type": "markdown",
   "metadata": {},
   "source": [
    "正则表达式并不能完全匹配 isdigit 方法判断为数字的字符。re 模块对 Unicode 的支持并不充分。\n",
    "而 regex 模块可以提供更好的 Unicode 支持"
   ]
  },
  {
   "cell_type": "markdown",
   "metadata": {},
   "source": [
    "在正则表达式中 \\d \\w 等模式只能匹配 ASCII字符  \n",
    "但如果是字符串模式，就能匹配 ASCII 之外的 Unicode 数字或字母。\n",
    "* 字节序列只能由字节序列正则表达式搜索，字节序列即编码后的 Unicode ，即 str.encode('utf-8') 等 \n",
    "* 字符串模式 r'\\d+' 能匹配泰米尔数字和 ASCII 数字\n",
    "* 字节序列模式 rb'\\d+' 只能匹配 ASCII 字节中的数字\n",
    "* 字符串模式 r'\\w+' 能匹配字幕、上标、泰米尔数字和 ASCII 数字\n",
    "* 字节序列模式 rb'\\w+' 只能匹配 ASCII 字节中的字母和数字\n",
    "\n",
    "字符串正则表达式有个 re.ASCII 标志，它让表达式只能匹配 ASCII 字符"
   ]
  }
 ],
 "metadata": {
  "interpreter": {
   "hash": "5fd5d179b353a7924b2269f9ae30affc58451699efad8dcc09c53f37c011c4ba"
  },
  "kernelspec": {
   "display_name": "Python 3.9.1 64-bit ('.venv': venv)",
   "language": "python",
   "name": "python3"
  },
  "language_info": {
   "codemirror_mode": {
    "name": "ipython",
    "version": 3
   },
   "file_extension": ".py",
   "mimetype": "text/x-python",
   "name": "python",
   "nbconvert_exporter": "python",
   "pygments_lexer": "ipython3",
   "version": "3.9.1"
  },
  "orig_nbformat": 4
 },
 "nbformat": 4,
 "nbformat_minor": 2
}
