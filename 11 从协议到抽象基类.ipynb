{
 "cells": [
  {
   "cell_type": "markdown",
   "metadata": {},
   "source": [
    "# 11.3 使用猴子补丁在运行时实现协议"
   ]
  },
  {
   "cell_type": "code",
   "execution_count": 1,
   "metadata": {},
   "outputs": [],
   "source": [
    "import collections\n",
    "\n",
    "Card = collections.namedtuple('Card', ['rank', 'suit'])\n",
    "\n",
    "class FrenchDeck:\n",
    "    ranks = [str(n) for n in range(2, 11)] + list('JQKA')\n",
    "    suits = 'R B W Y'.split()\n",
    "\n",
    "    def __init__(self) -> None:\n",
    "        self._cards = [Card(rank, suit) for suit in self.suits \n",
    "                                        for rank in self.ranks]\n",
    "\n",
    "    # 调用len(self)\n",
    "    def __len__(self):\n",
    "        return len(self._cards)\n",
    "\n",
    "    # 调用self[position]\n",
    "    def __getitem__(self, position):\n",
    "        return self._cards[position]\n"
   ]
  },
  {
   "cell_type": "markdown",
   "metadata": {},
   "source": [
    "上面的 FrenchDeck 类有一个重大缺陷：无法洗牌。"
   ]
  },
  {
   "cell_type": "code",
   "execution_count": 2,
   "metadata": {},
   "outputs": [
    {
     "ename": "TypeError",
     "evalue": "'FrenchDeck' object does not support item assignment",
     "output_type": "error",
     "traceback": [
      "\u001b[1;31m---------------------------------------------------------------------------\u001b[0m",
      "\u001b[1;31mTypeError\u001b[0m                                 Traceback (most recent call last)",
      "\u001b[1;32m~\\AppData\\Local\\Temp/ipykernel_6844/2878375240.py\u001b[0m in \u001b[0;36m<module>\u001b[1;34m\u001b[0m\n\u001b[0;32m      1\u001b[0m \u001b[1;32mfrom\u001b[0m \u001b[0mrandom\u001b[0m \u001b[1;32mimport\u001b[0m \u001b[0mshuffle\u001b[0m\u001b[1;33m\u001b[0m\u001b[1;33m\u001b[0m\u001b[0m\n\u001b[0;32m      2\u001b[0m \u001b[0mdeck\u001b[0m \u001b[1;33m=\u001b[0m \u001b[0mFrenchDeck\u001b[0m\u001b[1;33m(\u001b[0m\u001b[1;33m)\u001b[0m\u001b[1;33m\u001b[0m\u001b[1;33m\u001b[0m\u001b[0m\n\u001b[1;32m----> 3\u001b[1;33m \u001b[0mshuffle\u001b[0m\u001b[1;33m(\u001b[0m\u001b[0mdeck\u001b[0m\u001b[1;33m)\u001b[0m\u001b[1;33m\u001b[0m\u001b[1;33m\u001b[0m\u001b[0m\n\u001b[0m",
      "\u001b[1;32mE:\\python3.9.1\\lib\\random.py\u001b[0m in \u001b[0;36mshuffle\u001b[1;34m(self, x, random)\u001b[0m\n\u001b[0;32m    360\u001b[0m                 \u001b[1;31m# pick an element in x[:i+1] with which to exchange x[i]\u001b[0m\u001b[1;33m\u001b[0m\u001b[1;33m\u001b[0m\u001b[1;33m\u001b[0m\u001b[0m\n\u001b[0;32m    361\u001b[0m                 \u001b[0mj\u001b[0m \u001b[1;33m=\u001b[0m \u001b[0mrandbelow\u001b[0m\u001b[1;33m(\u001b[0m\u001b[0mi\u001b[0m \u001b[1;33m+\u001b[0m \u001b[1;36m1\u001b[0m\u001b[1;33m)\u001b[0m\u001b[1;33m\u001b[0m\u001b[1;33m\u001b[0m\u001b[0m\n\u001b[1;32m--> 362\u001b[1;33m                 \u001b[0mx\u001b[0m\u001b[1;33m[\u001b[0m\u001b[0mi\u001b[0m\u001b[1;33m]\u001b[0m\u001b[1;33m,\u001b[0m \u001b[0mx\u001b[0m\u001b[1;33m[\u001b[0m\u001b[0mj\u001b[0m\u001b[1;33m]\u001b[0m \u001b[1;33m=\u001b[0m \u001b[0mx\u001b[0m\u001b[1;33m[\u001b[0m\u001b[0mj\u001b[0m\u001b[1;33m]\u001b[0m\u001b[1;33m,\u001b[0m \u001b[0mx\u001b[0m\u001b[1;33m[\u001b[0m\u001b[0mi\u001b[0m\u001b[1;33m]\u001b[0m\u001b[1;33m\u001b[0m\u001b[1;33m\u001b[0m\u001b[0m\n\u001b[0m\u001b[0;32m    363\u001b[0m         \u001b[1;32melse\u001b[0m\u001b[1;33m:\u001b[0m\u001b[1;33m\u001b[0m\u001b[1;33m\u001b[0m\u001b[0m\n\u001b[0;32m    364\u001b[0m             _warn('The *random* parameter to shuffle() has been deprecated\\n'\n",
      "\u001b[1;31mTypeError\u001b[0m: 'FrenchDeck' object does not support item assignment"
     ]
    }
   ],
   "source": [
    "from random import shuffle\n",
    "deck = FrenchDeck()\n",
    "shuffle(deck)"
   ]
  },
  {
   "cell_type": "markdown",
   "metadata": {},
   "source": [
    "'FrenchDeck' object does not support item assignment，对象不支持为元素赋值。这个问题的原因是 FrenchDeck 只实现了 _不可变_ 的序列协议。可变的序列还必须提供 \\_\\_setitem__ 方法。\n",
    "\n",
    "Python 是动态语言，因此我们可以在运行时修正这个问题，甚至还可以在交互式控制台中。"
   ]
  },
  {
   "cell_type": "code",
   "execution_count": 3,
   "metadata": {},
   "outputs": [
    {
     "data": {
      "text/plain": [
       "[Card(rank='A', suit='W'),\n",
       " Card(rank='J', suit='B'),\n",
       " Card(rank='6', suit='R'),\n",
       " Card(rank='5', suit='Y'),\n",
       " Card(rank='3', suit='R')]"
      ]
     },
     "execution_count": 3,
     "metadata": {},
     "output_type": "execute_result"
    }
   ],
   "source": [
    "# 为 FrenchDeck 打猴子补丁，把它变成可变的，让 random.shuffle 可以使用\n",
    "def set_card(deck, position, card):\n",
    "    deck._cards[position] = card\n",
    "\n",
    "FrenchDeck.__setitem__ = set_card\n",
    "shuffle(deck)\n",
    "deck[:5]"
   ]
  },
  {
   "cell_type": "markdown",
   "metadata": {},
   "source": [
    "# 11.4 鸭子类型和抽象基类"
   ]
  },
  {
   "cell_type": "code",
   "execution_count": null,
   "metadata": {},
   "outputs": [],
   "source": [
    "# 使用鸭子类型处理单个字符串或由字符串组成的可迭代对象\n",
    "try:    # 假设是单个字符串\n",
    "    field_names = field_names.replace(',', ' ').split() # 把 , 替换成空格然后拆分成列表\n",
    "except AttributeError:  # 如果它不是字符串则引发一场\n",
    "    pass    # 假设是由名称组成的可迭代对象\n",
    "field_names = tuple(field_names)    # 为了确保是可迭代对象，也为了保存一份副本，使用所得值创建一个元组"
   ]
  },
  {
   "cell_type": "markdown",
   "metadata": {},
   "source": [
    "# 11.5 定义抽象基类的子类"
   ]
  },
  {
   "cell_type": "code",
   "execution_count": null,
   "metadata": {},
   "outputs": [],
   "source": [
    "# FrenchDeck2, collections.MutableSequence 的子类\n",
    "import collections\n",
    "\n",
    "Card = collections.namedtuple('Card', ['rank', 'suit'])\n",
    "\n",
    "class FrenchDeck(collections.MutableSequence):\n",
    "    ranks = [str(n) for n in range(2, 11)] + list('JQKA')\n",
    "    suits = 'R B W Y'.split()\n",
    "\n",
    "    def __init__(self) -> None:\n",
    "        self._cards = [Card(rank, suit) for suit in self.suits \n",
    "                                        for rank in self.ranks]\n",
    "\n",
    "    def __len__(self):\n",
    "        return len(self._cards)\n",
    "\n",
    "    def __getitem__(self, position):\n",
    "        return self._cards[position]\n",
    "\n",
    "    # 为了支持洗牌，只需实现 __setitem__ 方法\n",
    "    def __setitem__(self, position, value):\n",
    "        self._cards[position] = value\n",
    "    \n",
    "    # 继承 MutableSequence 的类必须实现 __delitem__ 方法，这是 MutableSequence 的一个抽象方法\n",
    "    def __delitem__(self, position):\n",
    "        self._cards[position]\n",
    "    \n",
    "    # 此外，要实现 insetr 方法，这是 MutableSequence 的第三个抽象方法\n",
    "    def insert(self, positon, value):\n",
    "        self._cards.insert(positon, value)"
   ]
  },
  {
   "cell_type": "markdown",
   "metadata": {},
   "source": [
    "导入时(加载并编译 .py 模块时)，Python 不会加尼察抽象方法的实现，在运行时实例化的时候猜会真正检查。"
   ]
  },
  {
   "cell_type": "markdown",
   "metadata": {},
   "source": [
    "# 11.6 标准库中的抽象基类\n",
    "大多数抽象基类都在 collections.abc 模块中，不过其他地方也有。比如 numbers 和 io 包中有一些抽象基类"
   ]
  },
  {
   "cell_type": "markdown",
   "metadata": {},
   "source": [
    "## 11.6.1 collections.abc 中的抽象基类  \n",
    "  \n",
    "<img src=.\\Figure11-3.png width=600 height=300>\n"
   ]
  },
  {
   "cell_type": "markdown",
   "metadata": {},
   "source": [
    "* Iterable、Contatiner 和 sized\n",
    "\n",
    "各个集合都应该继承这三个抽象基类，或者至少实现兼容的协议。Iterable 通过 \\_\\_iter__ 方法支持迭代，Contatiner 通过 \\_\\_contains__ 方法支持 in 运算符，Sized 通过 \\_\\_len__ 方法支持 len() 函数。\n",
    "\n",
    "* Sequence、Mapping 和 Set\n",
    "\n",
    "这三个是主要的不可变集合类型，而且各有各的可变子类。\n",
    "\n",
    "* MappingView\n",
    "\n",
    "在 Python 3 中，映射方法 .items()、.keys() 和 .values() 返回的对象分别是 ItemsView、KeysView 和 ValueView 的实例，前两个类还从 Set 类继承了丰富的接口。\n",
    "\n",
    "* Callable 和 Hashable\n",
    "\n",
    "这两个抽象记基类与集合没有太大关系，只不过因为 collections.abc 是标准库中定义抽象基类的第一个模块，它们又太重要了，因此才把他们放入 collections.abc 模块中  \n",
    "这两个抽象函数的主要作用是为内组织函数 isinstance 提供支持，以一种安全的方式判断对象能不能调用或散列\n",
    "\n",
    "* Iterator\n",
    "\n",
    "注意它是 Iterable 的子类\n",
    "    "
   ]
  },
  {
   "cell_type": "markdown",
   "metadata": {},
   "source": [
    "## 11.6.2 抽象基类的数字塔\n",
    "\n",
    "numbers 包定义的是 \"数字塔\" （各个抽象基类的层次结构是线性的），其中 Number 是位于最顶端的超类，随后是 Complex 子类，依次往下，最低端的是 Integral 类：\n",
    "* Number\n",
    "* Complex\n",
    "* Real\n",
    "* Rational\n",
    "* Integral\n",
    "\n",
    "因此，如果想检查一个数是不是整数，可以使用 isinstance(x, numbers.Integral)，这样的代码能接受 int，bool(int 的子类)，或者外部库使用 numbers 抽象基类注册的其他类型。  \n",
    "与之类似，如果一个值可能是浮点数类型，可以使用 isinstance(x, numbers.Real)检查，这样代码能接受 int、bool、float、fractions.Fraction，或者外部库提供的非复数类型。  "
   ]
  },
  {
   "cell_type": "markdown",
   "metadata": {},
   "source": [
    "# 11.7 定义并使用一个抽象基类\n",
    "\n",
    "有这样一个场景，需要在网站或移动应用中显示随机广告，但在整个广告清单轮转一边之前，不重复显示广告。假设我们在构建一个广告管理框架，名为 ADAM。它的职责之一是，支持用户提供随机挑选的无重复类。为了让用户明确理解\"随机挑选的无重复\"组件是什么意思，我们将定义一个抽象基类\n",
    "\n",
    "收到“栈”和“队列”启发，我将使用现实世界中的物品命名这个抽象基类：宾果机和彩票机是随即从有限的集合中挑选物品的机器，选出的物品没有重复，直到选完为止。\n",
    "\n",
    "我们把这个抽象基类命名为 Tombola，这是打乱数字的滚动容器的意大利名。它有四个方法，其中两个是抽象方法\n",
    "* .load(...)：把元素放入容器\n",
    "* .pick()：从容器中随机拿出一个元素，返回选中的元素\n",
    "\n",
    "另外两个是具体方法\n",
    "* .loaded()：如果容器中至少有一个元素，返回 True\n",
    "* .inspect()：返回一个有序元组，由容器中的现有元素构成，不会修改容器的内容(内部顺序不保留)"
   ]
  },
  {
   "cell_type": "code",
   "execution_count": 4,
   "metadata": {},
   "outputs": [],
   "source": [
    "import abc\n",
    "\n",
    "class Tombola(abc.ABC): # 自己定义的抽象基类要继承 abc.ABC\n",
    "\n",
    "    @abc.abstractmethod # 抽象方法用 @abc.abstractmethod 标记，并且定义体中通常只有文档字符串\n",
    "    def load(self, iterable):\n",
    "        \"\"\"从可迭代对象中添加元素\"\"\"\n",
    "    \n",
    "    @abc.abstractmethod\n",
    "    def pick(self):\n",
    "        \"\"\"随机删除元素，然后将其返回。\n",
    "        \n",
    "        如果实例为空，这个方法应抛出 LookupError\n",
    "        \"\"\"\n",
    "\n",
    "    def loaded(self):   # 抽象基类可以包含具体方法\n",
    "        \"\"\"如果至少有一个元素，返回 True，否则返回 False\"\"\"\n",
    "        return bool(self.inspect()) # 抽象基类的具体方法只能依赖抽象基类定义的接口\n",
    "    \n",
    "    def inspect(self): \n",
    "        \"\"\"返回一个有序元组，由当前元素构成\"\"\"\n",
    "        items = []\n",
    "        while True: # 我们不知道子类如何储存元素，不过为了得到结果，我们可以不断调用 pick() 方法，把 Tombola 清空\n",
    "            try:\n",
    "                items.append(self.pick())\n",
    "            except LookupError:\n",
    "                break\n",
    "        self.load(items)    # 然后再用 load() 把元素放回去\n",
    "        return tuple(sorted(items))"
   ]
  },
  {
   "cell_type": "markdown",
   "metadata": {},
   "source": [
    "抽象方法可以有实现代码，即时实现了，子类也必须覆盖抽象方法，但是在子类中可以使用 super() 函数调用抽象方法，为它添加功能而不是从头开始实现。"
   ]
  },
  {
   "cell_type": "markdown",
   "metadata": {},
   "source": [
    "异常类的部分层次结构\n",
    "```\n",
    "BaseException\n",
    " ├── SystemExit\n",
    " ├── KeyboardInterrupt\n",
    " ├── GeneratorExit\n",
    " └── Exception\n",
    "      ├── StopIteration\n",
    "      ├── ArithmeticError\n",
    "      │    ├── FloatingPointError\n",
    "      │    ├── OverflowError\n",
    "      │    └── ZeroDivisionError\n",
    "      ├── AssertionError\n",
    "      ├── AttributeError\n",
    "      ├── BufferError\n",
    "      ├── EOFError\n",
    "      ├── ImportError\n",
    "      ├── LookupError\n",
    "      │    ├── IndexError\n",
    "      │    └── KeyError\n",
    "      ├── MemoryError\n",
    "      ... etc.\n",
    "```\n"
   ]
  },
  {
   "cell_type": "markdown",
   "metadata": {},
   "source": [
    "下面创建一个有缺陷的实现来糊弄 Tombola"
   ]
  },
  {
   "cell_type": "code",
   "execution_count": 5,
   "metadata": {},
   "outputs": [
    {
     "data": {
      "text/plain": [
       "__main__.Fake"
      ]
     },
     "execution_count": 5,
     "metadata": {},
     "output_type": "execute_result"
    }
   ],
   "source": [
    "class Fake(Tombola):\n",
    "    def pick(self):\n",
    "        return 13\n",
    "\n",
    "Fake    # 可以创建类"
   ]
  },
  {
   "cell_type": "code",
   "execution_count": 6,
   "metadata": {},
   "outputs": [
    {
     "ename": "TypeError",
     "evalue": "Can't instantiate abstract class Fake with abstract method load",
     "output_type": "error",
     "traceback": [
      "\u001b[1;31m---------------------------------------------------------------------------\u001b[0m",
      "\u001b[1;31mTypeError\u001b[0m                                 Traceback (most recent call last)",
      "\u001b[1;32m~\\AppData\\Local\\Temp/ipykernel_6844/3283169823.py\u001b[0m in \u001b[0;36m<module>\u001b[1;34m\u001b[0m\n\u001b[1;32m----> 1\u001b[1;33m \u001b[0mf\u001b[0m \u001b[1;33m=\u001b[0m \u001b[0mFake\u001b[0m\u001b[1;33m(\u001b[0m\u001b[1;33m)\u001b[0m\u001b[1;33m\u001b[0m\u001b[1;33m\u001b[0m\u001b[0m\n\u001b[0m",
      "\u001b[1;31mTypeError\u001b[0m: Can't instantiate abstract class Fake with abstract method load"
     ]
    }
   ],
   "source": [
    "f = Fake()  #实例化时抛出错误"
   ]
  },
  {
   "cell_type": "markdown",
   "metadata": {},
   "source": [
    "## 11.7.1 抽象基类语法详解\n",
    "\n",
    "除了 @abstractmechod 外，abc 模块还定义了 @abstractclassmethod、@abstractstaticmethod 和 @abstractpropety 三个装饰器，不过它们从 Python 3.3 起废弃了，因为装饰器可以嵌套使用  \n",
    "比如声明抽象类方法的推荐方法"
   ]
  },
  {
   "cell_type": "code",
   "execution_count": null,
   "metadata": {},
   "outputs": [],
   "source": [
    "class MyABC(abc.ABC):\n",
    "    @classmethod\n",
    "    @abc.abstractmethod\n",
    "    def an_abstract_classmethod(cls, args):\n",
    "        pass"
   ]
  },
  {
   "cell_type": "markdown",
   "metadata": {},
   "source": [
    "## 11.7.2 定义 Tombola 抽象基类的子类"
   ]
  },
  {
   "cell_type": "code",
   "execution_count": 7,
   "metadata": {},
   "outputs": [],
   "source": [
    "# BingoCage 类\n",
    "import random\n",
    "\n",
    "class BingoCage(Tombola):   # 指明 BingoCage 类扩展 Tombola 类\n",
    "\n",
    "    def __init__(self, items) -> None:\n",
    "        self._randomizer = random.SystemRandom()    # random.SystemRandom 使用 os.urandom(...) 函数实现 random API。\n",
    "        self._items = []\n",
    "        self.load(items)    # 委托 load 方法实现初始加载\n",
    "    \n",
    "    def load(self, items):\n",
    "        self._items.extend(items)\n",
    "        self._randomizer.shuffle(self._items)   # 没有使用 random.shuffle() 而是使用 SystemRandom 实例的 .shuffle() 方法\n",
    "    \n",
    "    def pick(self):\n",
    "        try:\n",
    "            return self._items.pop()\n",
    "        except IndexError:\n",
    "            raise LookupError('pick from empty BingoCage')\n",
    "    \n",
    "    def __call__(self):\n",
    "        self.pick()"
   ]
  },
  {
   "cell_type": "code",
   "execution_count": 8,
   "metadata": {},
   "outputs": [],
   "source": [
    "bingo = BingoCage([1,2,3])"
   ]
  },
  {
   "cell_type": "code",
   "execution_count": null,
   "metadata": {},
   "outputs": [],
   "source": [
    "# LotteryBlower，Tombola 的另一个子类\n",
    "import random\n",
    "\n",
    "class LotteryBlower(Tombola):\n",
    "\n",
    "    def __init__(self, iterable):\n",
    "        self._balls = list(iterable)    # 把参数构建成列表\n",
    "\n",
    "    def load(self, iterable):\n",
    "        self._balls.extend(iterable)\n",
    "    \n",
    "    def pick(self):\n",
    "        try:\n",
    "            position = random.randrange(len(self._balls))   \n",
    "        except ValueError:\n",
    "            raise LookupError('pick from empty LotteryBlower')\n",
    "        return self._balls.pop(position)\n",
    "    \n",
    "    def loaded(self):   # 覆盖 loaded 方法，避免使用 inspect 方法\n",
    "        return bool(self._balls)\n",
    "    \n",
    "    def inspect(self):  # 覆盖 inspect 方法\n",
    "        return tuple(sorted(self._balls))"
   ]
  },
  {
   "cell_type": "markdown",
   "metadata": {},
   "source": [
    "## 11.7.3 Tombola 的虚拟子类\n",
    "\n",
    "白鹅类型的一个基本特性：即便不继承，也有办法把一个类注册为抽象基类的虚拟子类。这样做时，我们保证注册的类忠实地实现了抽象基类定义的接口，而 Python 会相信我们，从而不做检查。\n",
    "\n",
    "注册虚拟子类的方式是在抽象基类上调用 register 方法，这么做后，注册的类会变成抽象基类的虚拟子类。而且 issubclass 和 isinstance 等函数都能识别，但是注册的类不会从抽象基类中继承任何方法和属性\n",
    "\n",
    "register 方法通常作为普通的函数调用，不过也可以作为装饰器使用"
   ]
  },
  {
   "cell_type": "code",
   "execution_count": 11,
   "metadata": {},
   "outputs": [],
   "source": [
    "# TomboList 是 Tombola 的虚拟子类\n",
    "from random import randrange\n",
    "\n",
    "@Tombola.register   # 把 TomboList 注册为 Tombola 的虚拟子类\n",
    "class TomboList(list):  # TomboList 扩展 List\n",
    "    def pick(self):\n",
    "        if self:\n",
    "            position = randrange(len(self))\n",
    "            return self.pop(position)\n",
    "        else:\n",
    "            raise LookupError('pop from empty TomboList')\n",
    "    \n",
    "    load = list.extend\n",
    "\n",
    "    def loaded(self):\n",
    "        return bool(self)\n",
    "\n",
    "    def inspect(self):\n",
    "        return tuple(sorted(self))\n",
    "\n",
    "# Tombola.register(TomboList)"
   ]
  },
  {
   "cell_type": "markdown",
   "metadata": {},
   "source": [
    "类的继承关系在一个特殊的类属性中指定 —— \\_\\_mro__，即方法解析顺序(Method Resolution Order)。这个属性的作用很简单，按顺序列出类及其超类，Python 会按照这个顺序搜索方法。  \n",
    "查看 TomboList 的 \\_\\_mro__ 属性，会发现它只列出了最真实的超类，即 list 和 object"
   ]
  },
  {
   "cell_type": "code",
   "execution_count": 13,
   "metadata": {},
   "outputs": [
    {
     "data": {
      "text/plain": [
       "(__main__.TomboList, list, object)"
      ]
     },
     "execution_count": 13,
     "metadata": {},
     "output_type": "execute_result"
    }
   ],
   "source": [
    "TomboList.__mro__"
   ]
  },
  {
   "cell_type": "markdown",
   "metadata": {},
   "source": [
    "# 11.8 Tombola 子类的测试方法\n",
    "\n",
    "用它们内省类的继承关系\n",
    "* \\_\\_subclassess__()   ：返回类的直接子类列表，不含虚拟子类，这里的直接是指内存中存在的直接子代，只要导入切是子代就会包含在返回中\n",
    "* _abc_registry ：只有抽象基类有这个数据属性，其值是一个 WeakSet 对象，即抽象类注册的虚拟子类的弱引用"
   ]
  },
  {
   "cell_type": "markdown",
   "metadata": {},
   "source": [
    "# 11.10 鹅的行为有可能像鸭子"
   ]
  }
 ],
 "metadata": {
  "interpreter": {
   "hash": "5fd5d179b353a7924b2269f9ae30affc58451699efad8dcc09c53f37c011c4ba"
  },
  "kernelspec": {
   "display_name": "Python 3.9.1 64-bit ('.venv': venv)",
   "language": "python",
   "name": "python3"
  },
  "language_info": {
   "codemirror_mode": {
    "name": "ipython",
    "version": 3
   },
   "file_extension": ".py",
   "mimetype": "text/x-python",
   "name": "python",
   "nbconvert_exporter": "python",
   "pygments_lexer": "ipython3",
   "version": "3.9.1"
  },
  "orig_nbformat": 4
 },
 "nbformat": 4,
 "nbformat_minor": 2
}
