{
 "cells": [
  {
   "cell_type": "markdown",
   "metadata": {},
   "source": [
    "# 13.1 运算符重载基础\n",
    "\n",
    "Python 做了一些限制：\n",
    "* 不能重载内置类型的运算符\n",
    "* 不能新建运算符，只能重载现有的\n",
    "* 某些运算符不能重载 —— is、and、or 和 not (不过位运算符 &、| 和 ~ 可以)"
   ]
  },
  {
   "cell_type": "markdown",
   "metadata": {},
   "source": [
    "# 13.2 一元运算符\n",
    "\n",
    "* \\- (\\_\\_neg__) :一元取负算数运算符。如果 x 是 -2，那么 -x == 2\n",
    "* \\+ (\\_\\_pos__) :一元取正运算符，通常 x == +x，但也有一些例外。\n",
    "* \\~ (\\_\\_invert__)  :对整数按位取反，定义为 ~x == -(x+1)。如果 x 是 2，那么 ~x == -3"
   ]
  },
  {
   "cell_type": "code",
   "execution_count": null,
   "metadata": {},
   "outputs": [],
   "source": [
    "# 实现 - + 的vector\n",
    "import math\n",
    "\n",
    "def __abs__(self):\n",
    "    return math.sqrt(sum(x * x for x in self))\n",
    "\n",
    "def __pos__(self):\n",
    "    return Vector(self)\n",
    "\n",
    "def __neg__(self):\n",
    "    return Vector(-x for x in self)"
   ]
  },
  {
   "cell_type": "markdown",
   "metadata": {},
   "source": [
    "# 13.3 重载向量加法运算符"
   ]
  },
  {
   "cell_type": "code",
   "execution_count": null,
   "metadata": {},
   "outputs": [],
   "source": [
    "# Vector.__add__ 方法 v1\n",
    "import itertools\n",
    "\n",
    "def __add__(self, other):\n",
    "    # pairs 是一个生成器，生成(a, b)形式的元组，其中 a 来自 self，b 来自 other。如果它们长度不同，使用 fillvalue 填充较短的可迭代对象\n",
    "    pairs = itertools.zip_longest(self, other, fillvalue = 0.0)\n",
    "    return Vector(a + b for a,b in pairs)"
   ]
  },
  {
   "cell_type": "markdown",
   "metadata": {},
   "source": [
    "v1 版的加法可以适配任何可迭代对象，但如果对调操作数(新内容为左值)，混合类型的加法就会失效"
   ]
  },
  {
   "cell_type": "markdown",
   "metadata": {},
   "source": [
    "为了支持涉及不同类型的运算，Python 为中缀运算符特殊方法提供了特殊的分派机制。对表达式 a + b 来说，解释器会执行一下几步操作：\n",
    "1. 如果 a 有 \\_\\_add__ 方法，而且返回值不是 NotImplemented，调用 a.\\_\\_add__(b)，返回结果\n",
    "2. 如果 a 没有 \\_\\_add__ 方法，或 a.\\_\\_add__(b) 返回 NotImplemented，调用 b.\\_\\_radd__(a)，返回结果\n",
    "3. 如果 b 没有 \\_\\_radd__ 方法，或 b.\\_\\_radd__(a) 返回 NotImplemented，抛出 TypeError，并在错误消息中指明操作数类型不支持\n",
    "\n",
    "所以我们需要实现 Vector.\\_\\_radd__ 方法以支持对调操作数"
   ]
  },
  {
   "cell_type": "code",
   "execution_count": null,
   "metadata": {},
   "outputs": [],
   "source": [
    "# Vector.__radd__ 方法支持\n",
    "import itertools\n",
    "\n",
    "def __add__(self, other):\n",
    "    # pairs 是一个生成器，生成(a, b)形式的元组，其中 a 来自 self，b 来自 other。如果它们长度不同，使用 fillvalue 填充较短的可迭代对象\n",
    "    pairs = itertools.zip_longest(self, other, fillvalue = 0.0)\n",
    "    return Vector(a + b for a,b in pairs)\n",
    "\n",
    "def __radd__(self, other):\n",
    "    return self + other # radd 方法直接委托 add"
   ]
  },
  {
   "cell_type": "markdown",
   "metadata": {},
   "source": [
    "这样实现后，Vector 可以处理任何具有数值元素的可迭代对象，但如果对象不可迭代就无法处理，或操作数是可迭代对象但他的元素不能与 Vector 中的浮点数元素相加\n",
    "\n",
    "如果由于类型不兼容应该返回 NotImplemented，而不是抛出 TypeError。返回 NotImplemented 时，另一个操作数所属的类型还有机会执行运算，Python 会尝试调用反向方法。所以我们需要捕获异常并返回 NotImplemented"
   ]
  },
  {
   "cell_type": "code",
   "execution_count": null,
   "metadata": {},
   "outputs": [],
   "source": [
    "# Vector.__add__ 修改版\n",
    "import itertools\n",
    "\n",
    "def __add__(self, other):\n",
    "    # pairs 是一个生成器，生成(a, b)形式的元组，其中 a 来自 self，b 来自 other。如果它们长度不同，使用 fillvalue 填充较短的可迭代对象\n",
    "    try:\n",
    "        pairs = itertools.zip_longest(self, other, fillvalue = 0.0)\n",
    "        return Vector(a + b for a,b in pairs)\n",
    "    except TypeError:\n",
    "        return NotImplemented\n",
    "\n",
    "def __radd__(self, other):\n",
    "    return self + other # radd 方法直接委托 add"
   ]
  },
  {
   "cell_type": "markdown",
   "metadata": {},
   "source": [
    "# 13.4 重载标量乘法运算符 * \n",
    "\n",
    "我们需要实现 Vector([1, 2, 3]) * 10 = Vector([10.0, 20.0, 30.0])，并且适配反向方法"
   ]
  },
  {
   "cell_type": "code",
   "execution_count": null,
   "metadata": {},
   "outputs": [],
   "source": [
    "def __mul__(self, scalar):\n",
    "    return Vector(n * scalar for n in self)\n",
    "\n",
    "def __rmul__(self, scalar):\n",
    "    return self * scalar"
   ]
  },
  {
   "cell_type": "markdown",
   "metadata": {},
   "source": [
    "这两个方法确实可用，但是提供不兼容的操作数时就会出问题。scalar 参数的值要是数字。不能使用复数，但可以是 int bool 甚至 fractions.Fraction 实例等标量\n",
    "\n",
    "我们可以采用鸭子类型技术，在 __mul__ 方法捕获 TypeError。但我们可以使用白鹅类型"
   ]
  },
  {
   "cell_type": "code",
   "execution_count": null,
   "metadata": {},
   "outputs": [],
   "source": [
    "import numbers\n",
    "def __mul__(self, scalar):\n",
    "    if isinstance(scalar, numbers.Real):\n",
    "        return Vector(n * scalar for n in self)\n",
    "    else:\n",
    "        return NotImplemented\n",
    "\n",
    "def __rmul__(self, scalar):\n",
    "    return self * scalar"
   ]
  },
  {
   "cell_type": "markdown",
   "metadata": {},
   "source": [
    "# 13.5 众多比较运算符\n",
    "\n",
    "Python 解释器对众多比较运算符 (==、 !=、 >、 <、 >=、 <=) 的处理与前文类似，不过在两个方面有重大区别\n",
    "* 正向和反向调用的是同一系列方法，只是把参数对调了，比如 大于等于 和 小于 是互相对应的\n",
    "* 对 == 和 != 来说，如果反向调用失败。Python 会比较对象的 ID，而不抛出 TypeError"
   ]
  },
  {
   "cell_type": "markdown",
   "metadata": {},
   "source": [
    "了解这些规则后，我们来改进 Vector.\\_\\_eq__ 方法的行为，它之前是这么定义的"
   ]
  },
  {
   "cell_type": "code",
   "execution_count": null,
   "metadata": {},
   "outputs": [],
   "source": [
    "class Vector:\n",
    "    # 省略\n",
    "\n",
    "    def __eq__(self, other) -> bool:\n",
    "        return (len(self) == len(self) and all(a == b for a,b in zip(self, other)))"
   ]
  },
  {
   "cell_type": "code",
   "execution_count": null,
   "metadata": {},
   "outputs": [],
   "source": [
    "# 这样定义的缺陷，Vector 实例的分量与元组或其他任何可迭代对象的元组相等，那么对象也相等\n",
    "va = Vector([1.0, 2.0, 3.0])\n",
    "t3 = (1, 2, 3)\n",
    "va == t3"
   ]
  },
  {
   "cell_type": "markdown",
   "metadata": {},
   "source": [
    "因此，我们需要类型检查已确认第二个操作数为 Vector 实例 (或 Vector 子类的实例)"
   ]
  },
  {
   "cell_type": "code",
   "execution_count": null,
   "metadata": {},
   "outputs": [],
   "source": [
    "class Vector:\n",
    "    # 省略\n",
    "\n",
    "    def __eq__(self, other) -> bool:\n",
    "        if isinstance(other, Vector):\n",
    "            return (len(self) == len(self) and all(a == b for a,b in zip(self, other)))\n",
    "        else:\n",
    "            return NotImplemented"
   ]
  },
  {
   "cell_type": "markdown",
   "metadata": {},
   "source": [
    "# 13.6 增量赋值运算符\n",
    "\n",
    "Vector 类已经支持增量赋值运算符 += 和 *= 了\n",
    "\n",
    "如果一个类没有实现就地运算符，那增量运算符只是语法糖：a += b 等同于 a = a + b，会返回新的实例，但如果实现了就地运算符，那么 Python 解释器就会调用它，并且会修改左操作数而不是创建新的实例。\n",
    "\n",
    "要注意的是，不可变类型一定不能实现就地特殊方法"
   ]
  },
  {
   "cell_type": "markdown",
   "metadata": {},
   "source": [
    "与 + 相比，+= 运算符对第二个操作舒适更为宽容， + 运算符需要两个相同类型，而 += 运算符只需要右边操作数可以扩展到左边就行了"
   ]
  },
  {
   "cell_type": "code",
   "execution_count": null,
   "metadata": {},
   "outputs": [],
   "source": [
    "# BingoCage 类\n",
    "import random\n",
    "\n",
    "class BingoCage(Tombola):   # 指明 BingoCage 类扩展 Tombola 类\n",
    "\n",
    "    def __init__(self, items) -> None:\n",
    "        self._randomizer = random.SystemRandom()    # random.SystemRandom 使用 os.urandom(...) 函数实现 random API。\n",
    "        self._items = []\n",
    "        self.load(items)    # 委托 load 方法实现初始加载\n",
    "    \n",
    "    def load(self, items):\n",
    "        self._items.extend(items)\n",
    "        self._randomizer.shuffle(self._items)   # 没有使用 random.shuffle() 而是使用 SystemRandom 实例的 .shuffle() 方法\n",
    "    \n",
    "    def pick(self):\n",
    "        try:\n",
    "            return self._items.pop()\n",
    "        except IndexError:\n",
    "            raise LookupError('pick from empty BingoCage')\n",
    "    \n",
    "    def __call__(self):\n",
    "        self.pick()"
   ]
  },
  {
   "cell_type": "code",
   "execution_count": null,
   "metadata": {},
   "outputs": [],
   "source": [
    "# 实现就地运算的 AddableBingoCage\n",
    "import itertools\n",
    "\n",
    "class AddableBingoCage(BingoCage):\n",
    "\n",
    "    def __add__(self, other):\n",
    "        if isinstance(other, Tombola):\n",
    "            return AddableBingoCage(self.inspect() + other.inspect())\n",
    "        else:\n",
    "            return NotImplemented\n",
    "    \n",
    "    def __iadd__(self, other):\n",
    "        if isinstance(other, Tombola):\n",
    "            other_iterable = other.inspect()\n",
    "        else:\n",
    "            try:\n",
    "                other_iterable = iter(other)\n",
    "            except TypeError:\n",
    "                self_cls = type(self).__name__\n",
    "                msg = \"right operand in += must be {!r} or an iterable\"\n",
    "                raise TypeError(msg.format(self_cls))\n",
    "        self.load(other_iterable)\n",
    "        return self"
   ]
  }
 ],
 "metadata": {
  "interpreter": {
   "hash": "5fd5d179b353a7924b2269f9ae30affc58451699efad8dcc09c53f37c011c4ba"
  },
  "kernelspec": {
   "display_name": "Python 3.9.1 64-bit ('.venv': venv)",
   "language": "python",
   "name": "python3"
  },
  "language_info": {
   "codemirror_mode": {
    "name": "ipython",
    "version": 3
   },
   "file_extension": ".py",
   "mimetype": "text/x-python",
   "name": "python",
   "nbconvert_exporter": "python",
   "pygments_lexer": "ipython3",
   "version": "3.9.1"
  },
  "orig_nbformat": 4
 },
 "nbformat": 4,
 "nbformat_minor": 2
}
