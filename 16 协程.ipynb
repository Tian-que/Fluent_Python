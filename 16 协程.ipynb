{
 "cells": [
  {
   "cell_type": "markdown",
   "metadata": {},
   "source": [
    "# 16.1 生成器如何进化成协程\n",
    "\n",
    "PEP 380 对生成器函数的语法做了两处改动，以便更好地作为协程使用:\n",
    "* 现在，生成器可以返回一个值: 以前，如果在生成器中给 return 语句提供值，会抛出 SyntaxError 异常。\n",
    "* 新引入 yield from 语法，使用它可以把复杂的生成器冲构成小型的嵌套生成器，省去了之前把生成器的工作委托给子生成器所需的大量样板代码"
   ]
  },
  {
   "cell_type": "markdown",
   "metadata": {},
   "source": [
    "# 16.2 用作协程的生成器的基本行为"
   ]
  },
  {
   "cell_type": "code",
   "execution_count": 6,
   "metadata": {},
   "outputs": [
    {
     "data": {
      "text/plain": [
       "<generator object simple_coroutine at 0x000001C11D9DF120>"
      ]
     },
     "execution_count": 6,
     "metadata": {},
     "output_type": "execute_result"
    }
   ],
   "source": [
    "# 协程的简单使用演示\n",
    "def simple_coroutine():\n",
    "    print('-> coroutine started')\n",
    "    x = yield\n",
    "    print('-> coroutine recived:', x)\n",
    "\n",
    "my_coro = simple_coroutine()\n",
    "my_coro"
   ]
  },
  {
   "cell_type": "code",
   "execution_count": 7,
   "metadata": {},
   "outputs": [
    {
     "name": "stdout",
     "output_type": "stream",
     "text": [
      "-> coroutine started\n"
     ]
    }
   ],
   "source": [
    "next(my_coro)"
   ]
  },
  {
   "cell_type": "code",
   "execution_count": 8,
   "metadata": {},
   "outputs": [
    {
     "name": "stdout",
     "output_type": "stream",
     "text": [
      "-> coroutine recived: 42\n"
     ]
    },
    {
     "ename": "StopIteration",
     "evalue": "",
     "output_type": "error",
     "traceback": [
      "\u001b[1;31m---------------------------------------------------------------------------\u001b[0m",
      "\u001b[1;31mStopIteration\u001b[0m                             Traceback (most recent call last)",
      "\u001b[1;32m~\\AppData\\Local\\Temp/ipykernel_15184/516530369.py\u001b[0m in \u001b[0;36m<module>\u001b[1;34m\u001b[0m\n\u001b[1;32m----> 1\u001b[1;33m \u001b[0mmy_coro\u001b[0m\u001b[1;33m.\u001b[0m\u001b[0msend\u001b[0m\u001b[1;33m(\u001b[0m\u001b[1;36m42\u001b[0m\u001b[1;33m)\u001b[0m\u001b[1;33m\u001b[0m\u001b[1;33m\u001b[0m\u001b[0m\n\u001b[0m",
      "\u001b[1;31mStopIteration\u001b[0m: "
     ]
    }
   ],
   "source": [
    "my_coro.send(42)"
   ]
  },
  {
   "cell_type": "markdown",
   "metadata": {},
   "source": [
    "协程可以身处四个状态中的一个。当前状态可以使用 inspect.getgeneratorstate(...) 函数确定:\n",
    "* 'GEN_CREATED': 等待开始执行\n",
    "* 'GEN_RUNNING': 解释器正在执行\n",
    "* 'GEN_SUSPENDED': 在 yield 表达式处暂停\n",
    "* 'GEN_CLOSED': 执行结束\n",
    "\n",
    "因为 send 方法的参数会成为暂停的 yield 表达式的值，所以，仅当协程处于暂停状态时才可以调用 send 方法。如果协程还没激活，情况就不同了。所以在创建协程时一定要使用 next(gen) 激活协程，也可以调用 gen.send(None) 效果一样。\n",
    "\n",
    "最先调用 next(gen) 函数的这一步通常称为 预激(prime) 协程"
   ]
  },
  {
   "cell_type": "code",
   "execution_count": 9,
   "metadata": {},
   "outputs": [
    {
     "data": {
      "text/plain": [
       "'GEN_CREATED'"
      ]
     },
     "execution_count": 9,
     "metadata": {},
     "output_type": "execute_result"
    }
   ],
   "source": [
    "# 产出两个值的协程\n",
    "def simple_coco2(a):\n",
    "    print('-> Started: a=', a)\n",
    "    b = yield a\n",
    "    print('-> Received: b=', b)\n",
    "    c = yield a + b\n",
    "    print('-> Received: c=', c)\n",
    "\n",
    "my_coro = simple_coco2(14)\n",
    "from inspect import getgeneratorstate\n",
    "getgeneratorstate(my_coro)"
   ]
  },
  {
   "cell_type": "code",
   "execution_count": 10,
   "metadata": {},
   "outputs": [
    {
     "name": "stdout",
     "output_type": "stream",
     "text": [
      "-> Started: a= 14\n"
     ]
    },
    {
     "data": {
      "text/plain": [
       "14"
      ]
     },
     "execution_count": 10,
     "metadata": {},
     "output_type": "execute_result"
    }
   ],
   "source": [
    "next(my_coro)"
   ]
  },
  {
   "cell_type": "code",
   "execution_count": 11,
   "metadata": {},
   "outputs": [
    {
     "data": {
      "text/plain": [
       "'GEN_SUSPENDED'"
      ]
     },
     "execution_count": 11,
     "metadata": {},
     "output_type": "execute_result"
    }
   ],
   "source": [
    "getgeneratorstate(my_coro)"
   ]
  },
  {
   "cell_type": "code",
   "execution_count": 12,
   "metadata": {},
   "outputs": [
    {
     "name": "stdout",
     "output_type": "stream",
     "text": [
      "-> Received: b= 28\n"
     ]
    },
    {
     "data": {
      "text/plain": [
       "42"
      ]
     },
     "execution_count": 12,
     "metadata": {},
     "output_type": "execute_result"
    }
   ],
   "source": [
    "my_coro.send(28)"
   ]
  },
  {
   "cell_type": "code",
   "execution_count": 13,
   "metadata": {},
   "outputs": [
    {
     "name": "stdout",
     "output_type": "stream",
     "text": [
      "-> Received: c= 99\n"
     ]
    },
    {
     "ename": "StopIteration",
     "evalue": "",
     "output_type": "error",
     "traceback": [
      "\u001b[1;31m---------------------------------------------------------------------------\u001b[0m",
      "\u001b[1;31mStopIteration\u001b[0m                             Traceback (most recent call last)",
      "\u001b[1;32m~\\AppData\\Local\\Temp/ipykernel_15184/371750437.py\u001b[0m in \u001b[0;36m<module>\u001b[1;34m\u001b[0m\n\u001b[1;32m----> 1\u001b[1;33m \u001b[0mmy_coro\u001b[0m\u001b[1;33m.\u001b[0m\u001b[0msend\u001b[0m\u001b[1;33m(\u001b[0m\u001b[1;36m99\u001b[0m\u001b[1;33m)\u001b[0m\u001b[1;33m\u001b[0m\u001b[1;33m\u001b[0m\u001b[0m\n\u001b[0m",
      "\u001b[1;31mStopIteration\u001b[0m: "
     ]
    }
   ],
   "source": [
    "my_coro.send(99)"
   ]
  },
  {
   "cell_type": "markdown",
   "metadata": {},
   "source": [
    "# 16.3 示例: 使用协程计算移动平均值"
   ]
  },
  {
   "cell_type": "code",
   "execution_count": 14,
   "metadata": {},
   "outputs": [],
   "source": [
    "def averager():\n",
    "    total = 0.0\n",
    "    count = 0\n",
    "    average = None\n",
    "    while True:\n",
    "        term = yield average\n",
    "        total += term\n",
    "        count += 1\n",
    "        average = total/count"
   ]
  },
  {
   "cell_type": "markdown",
   "metadata": {},
   "source": [
    "# 16.4 预激协程的装饰器"
   ]
  },
  {
   "cell_type": "code",
   "execution_count": 15,
   "metadata": {},
   "outputs": [],
   "source": [
    "# 预激协程的装饰器\n",
    "from functools import wraps\n",
    "\n",
    "def corountine(func):\n",
    "\n",
    "    @wraps(func)\n",
    "    def primer(*args, **kwargs):\n",
    "        gen = func(*args, **kwargs)\n",
    "        next(gen)\n",
    "        return gen\n",
    "    return primer"
   ]
  },
  {
   "cell_type": "markdown",
   "metadata": {},
   "source": [
    "# 16.5 终止协程和异常处理"
   ]
  },
  {
   "cell_type": "code",
   "execution_count": 16,
   "metadata": {},
   "outputs": [
    {
     "data": {
      "text/plain": [
       "40.0"
      ]
     },
     "execution_count": 16,
     "metadata": {},
     "output_type": "execute_result"
    }
   ],
   "source": [
    "# 未处理的异常会导致协程中止\n",
    "@corountine\n",
    "def averager():\n",
    "    total = 0.0\n",
    "    count = 0\n",
    "    average = None\n",
    "    while True:\n",
    "        term = yield average\n",
    "        total += term\n",
    "        count += 1\n",
    "        average = total/count\n",
    "\n",
    "coro_avg= averager()\n",
    "coro_avg.send(40)"
   ]
  },
  {
   "cell_type": "code",
   "execution_count": 17,
   "metadata": {},
   "outputs": [
    {
     "data": {
      "text/plain": [
       "45.0"
      ]
     },
     "execution_count": 17,
     "metadata": {},
     "output_type": "execute_result"
    }
   ],
   "source": [
    "coro_avg.send(50)"
   ]
  },
  {
   "cell_type": "code",
   "execution_count": 18,
   "metadata": {},
   "outputs": [
    {
     "ename": "TypeError",
     "evalue": "unsupported operand type(s) for +=: 'float' and 'str'",
     "output_type": "error",
     "traceback": [
      "\u001b[1;31m---------------------------------------------------------------------------\u001b[0m",
      "\u001b[1;31mTypeError\u001b[0m                                 Traceback (most recent call last)",
      "\u001b[1;32m~\\AppData\\Local\\Temp/ipykernel_15184/1853123861.py\u001b[0m in \u001b[0;36m<module>\u001b[1;34m\u001b[0m\n\u001b[1;32m----> 1\u001b[1;33m \u001b[0mcoro_avg\u001b[0m\u001b[1;33m.\u001b[0m\u001b[0msend\u001b[0m\u001b[1;33m(\u001b[0m\u001b[1;34m'spam'\u001b[0m\u001b[1;33m)\u001b[0m\u001b[1;33m\u001b[0m\u001b[1;33m\u001b[0m\u001b[0m\n\u001b[0m",
      "\u001b[1;32m~\\AppData\\Local\\Temp/ipykernel_15184/1602882105.py\u001b[0m in \u001b[0;36maverager\u001b[1;34m()\u001b[0m\n\u001b[0;32m      7\u001b[0m     \u001b[1;32mwhile\u001b[0m \u001b[1;32mTrue\u001b[0m\u001b[1;33m:\u001b[0m\u001b[1;33m\u001b[0m\u001b[1;33m\u001b[0m\u001b[0m\n\u001b[0;32m      8\u001b[0m         \u001b[0mterm\u001b[0m \u001b[1;33m=\u001b[0m \u001b[1;32myield\u001b[0m \u001b[0maverage\u001b[0m\u001b[1;33m\u001b[0m\u001b[1;33m\u001b[0m\u001b[0m\n\u001b[1;32m----> 9\u001b[1;33m         \u001b[0mtotal\u001b[0m \u001b[1;33m+=\u001b[0m \u001b[0mterm\u001b[0m\u001b[1;33m\u001b[0m\u001b[1;33m\u001b[0m\u001b[0m\n\u001b[0m\u001b[0;32m     10\u001b[0m         \u001b[0mcount\u001b[0m \u001b[1;33m+=\u001b[0m \u001b[1;36m1\u001b[0m\u001b[1;33m\u001b[0m\u001b[1;33m\u001b[0m\u001b[0m\n\u001b[0;32m     11\u001b[0m         \u001b[0maverage\u001b[0m \u001b[1;33m=\u001b[0m \u001b[0mtotal\u001b[0m\u001b[1;33m/\u001b[0m\u001b[0mcount\u001b[0m\u001b[1;33m\u001b[0m\u001b[1;33m\u001b[0m\u001b[0m\n",
      "\u001b[1;31mTypeError\u001b[0m: unsupported operand type(s) for +=: 'float' and 'str'"
     ]
    }
   ],
   "source": [
    "coro_avg.send('spam')"
   ]
  },
  {
   "cell_type": "code",
   "execution_count": 19,
   "metadata": {},
   "outputs": [
    {
     "ename": "StopIteration",
     "evalue": "",
     "output_type": "error",
     "traceback": [
      "\u001b[1;31m---------------------------------------------------------------------------\u001b[0m",
      "\u001b[1;31mStopIteration\u001b[0m                             Traceback (most recent call last)",
      "\u001b[1;32m~\\AppData\\Local\\Temp/ipykernel_15184/1701226314.py\u001b[0m in \u001b[0;36m<module>\u001b[1;34m\u001b[0m\n\u001b[1;32m----> 1\u001b[1;33m \u001b[0mcoro_avg\u001b[0m\u001b[1;33m.\u001b[0m\u001b[0msend\u001b[0m\u001b[1;33m(\u001b[0m\u001b[1;36m40\u001b[0m\u001b[1;33m)\u001b[0m\u001b[1;33m\u001b[0m\u001b[1;33m\u001b[0m\u001b[0m\n\u001b[0m",
      "\u001b[1;31mStopIteration\u001b[0m: "
     ]
    }
   ],
   "source": [
    "coro_avg.send(40)"
   ]
  },
  {
   "cell_type": "markdown",
   "metadata": {},
   "source": [
    "从 Python 2.5 开始，客户代码可以在生成器对象上调用两个方法，显式地把异常发给协程，这两个方法是 throw 和 close\n",
    "\n",
    "generator.throw(exc_type[, exc_value[, traceback])  \n",
    "致使生成器在暂停的 yield 表达式处抛出指定的异常。如果生成器处理了抛出的异常，代码会向前执行到下一个 yield 表达式，而产出的值会变成 generator.throw 方法得到的返回值。如果生成器没有处理抛出的异常，异常会向上冒泡，传到调用方的上下文中。\n",
    "\n",
    "generator.close()  \n",
    "致使生成器在暂停的 yield 表达式抛出 GeneratorExit 异常。如果生成器没有处理这个异常或者抛出了 StopIteration 异常(通常是运行到结尾)，调用方不会报错。如果收到 GeneratorExit 异常，生成器一定不能产出值，否则解释器会抛出 RuntimeError 异常。"
   ]
  },
  {
   "cell_type": "code",
   "execution_count": 26,
   "metadata": {},
   "outputs": [],
   "source": [
    "# 在协程中处理异常的测试代码\n",
    "class DemoException(Exception):\n",
    "    \"\"\"演示所用的异常类型\"\"\"\n",
    "\n",
    "def demo_exc_handling():\n",
    "    print('-> corotine started')\n",
    "    while True:\n",
    "        try:\n",
    "            x = yield\n",
    "        except DemoException:\n",
    "            print('OKOK')\n",
    "        else:\n",
    "            print('-> coroutine received: {!r}'.format(x))\n",
    "    raise RuntimeError('This line should never run.')"
   ]
  },
  {
   "cell_type": "code",
   "execution_count": 21,
   "metadata": {},
   "outputs": [
    {
     "name": "stdout",
     "output_type": "stream",
     "text": [
      "-> corotine started\n"
     ]
    }
   ],
   "source": [
    "exc_coro = demo_exc_handling()\n",
    "next(exc_coro)"
   ]
  },
  {
   "cell_type": "code",
   "execution_count": 23,
   "metadata": {},
   "outputs": [
    {
     "name": "stdout",
     "output_type": "stream",
     "text": [
      "-> coroutine received: 11\n",
      "-> coroutine received: 22\n"
     ]
    }
   ],
   "source": [
    "exc_coro.send(11)\n",
    "exc_coro.send(22)"
   ]
  },
  {
   "cell_type": "code",
   "execution_count": 25,
   "metadata": {},
   "outputs": [
    {
     "data": {
      "text/plain": [
       "'GEN_CLOSED'"
      ]
     },
     "execution_count": 25,
     "metadata": {},
     "output_type": "execute_result"
    }
   ],
   "source": [
    "exc_coro.close()\n",
    "from inspect import getgeneratorstate\n",
    "getgeneratorstate(exc_coro)"
   ]
  },
  {
   "cell_type": "code",
   "execution_count": 27,
   "metadata": {},
   "outputs": [
    {
     "name": "stdout",
     "output_type": "stream",
     "text": [
      "-> corotine started\n",
      "OKOK\n"
     ]
    }
   ],
   "source": [
    "# 把 DemoExcption 异常传入 demo_exc_handling 不会导致协程中止\n",
    "exc_coro = demo_exc_handling()\n",
    "next(exc_coro)\n",
    "exc_coro.throw(DemoException)"
   ]
  },
  {
   "cell_type": "code",
   "execution_count": 28,
   "metadata": {},
   "outputs": [
    {
     "name": "stdout",
     "output_type": "stream",
     "text": [
      "-> corotine started\n"
     ]
    },
    {
     "ename": "TypeError",
     "evalue": "",
     "output_type": "error",
     "traceback": [
      "\u001b[1;31m---------------------------------------------------------------------------\u001b[0m",
      "\u001b[1;31mTypeError\u001b[0m                                 Traceback (most recent call last)",
      "\u001b[1;32m~\\AppData\\Local\\Temp/ipykernel_15184/3038765078.py\u001b[0m in \u001b[0;36m<module>\u001b[1;34m\u001b[0m\n\u001b[0;32m      2\u001b[0m \u001b[0mexc_coro\u001b[0m \u001b[1;33m=\u001b[0m \u001b[0mdemo_exc_handling\u001b[0m\u001b[1;33m(\u001b[0m\u001b[1;33m)\u001b[0m\u001b[1;33m\u001b[0m\u001b[1;33m\u001b[0m\u001b[0m\n\u001b[0;32m      3\u001b[0m \u001b[0mnext\u001b[0m\u001b[1;33m(\u001b[0m\u001b[0mexc_coro\u001b[0m\u001b[1;33m)\u001b[0m\u001b[1;33m\u001b[0m\u001b[1;33m\u001b[0m\u001b[0m\n\u001b[1;32m----> 4\u001b[1;33m \u001b[0mexc_coro\u001b[0m\u001b[1;33m.\u001b[0m\u001b[0mthrow\u001b[0m\u001b[1;33m(\u001b[0m\u001b[0mTypeError\u001b[0m\u001b[1;33m)\u001b[0m\u001b[1;33m\u001b[0m\u001b[1;33m\u001b[0m\u001b[0m\n\u001b[0m",
      "\u001b[1;32m~\\AppData\\Local\\Temp/ipykernel_15184/1588502048.py\u001b[0m in \u001b[0;36mdemo_exc_handling\u001b[1;34m()\u001b[0m\n\u001b[0;32m      7\u001b[0m     \u001b[1;32mwhile\u001b[0m \u001b[1;32mTrue\u001b[0m\u001b[1;33m:\u001b[0m\u001b[1;33m\u001b[0m\u001b[1;33m\u001b[0m\u001b[0m\n\u001b[0;32m      8\u001b[0m         \u001b[1;32mtry\u001b[0m\u001b[1;33m:\u001b[0m\u001b[1;33m\u001b[0m\u001b[1;33m\u001b[0m\u001b[0m\n\u001b[1;32m----> 9\u001b[1;33m             \u001b[0mx\u001b[0m \u001b[1;33m=\u001b[0m \u001b[1;32myield\u001b[0m\u001b[1;33m\u001b[0m\u001b[1;33m\u001b[0m\u001b[0m\n\u001b[0m\u001b[0;32m     10\u001b[0m         \u001b[1;32mexcept\u001b[0m \u001b[0mDemoException\u001b[0m\u001b[1;33m:\u001b[0m\u001b[1;33m\u001b[0m\u001b[1;33m\u001b[0m\u001b[0m\n\u001b[0;32m     11\u001b[0m             \u001b[0mprint\u001b[0m\u001b[1;33m(\u001b[0m\u001b[1;34m'OKOK'\u001b[0m\u001b[1;33m)\u001b[0m\u001b[1;33m\u001b[0m\u001b[1;33m\u001b[0m\u001b[0m\n",
      "\u001b[1;31mTypeError\u001b[0m: "
     ]
    }
   ],
   "source": [
    "# 如果传入无法处理的异常 协程会中止\n",
    "exc_coro = demo_exc_handling()\n",
    "next(exc_coro)\n",
    "exc_coro.throw(TypeError)"
   ]
  },
  {
   "cell_type": "markdown",
   "metadata": {},
   "source": [
    "如果不管协程如何结束都想做清理工作，要把协程定义体相关内容放入 try/finally 块中"
   ]
  },
  {
   "cell_type": "code",
   "execution_count": null,
   "metadata": {},
   "outputs": [],
   "source": [
    "class DemoException(Exception):\n",
    "    \"\"\"演示所用的异常类型\"\"\"\n",
    "\n",
    "def demo_finally():\n",
    "    print('-> corotine started')\n",
    "    try:\n",
    "        while True:\n",
    "            try:\n",
    "                x = yield\n",
    "            except DemoException:\n",
    "                print('OKOK')\n",
    "            else:\n",
    "                print('-> coroutine received: {!r}'.format(x))\n",
    "    finally:\n",
    "        print('ending')"
   ]
  },
  {
   "cell_type": "markdown",
   "metadata": {},
   "source": [
    "# 16.6 让协程返回值"
   ]
  },
  {
   "cell_type": "code",
   "execution_count": 30,
   "metadata": {},
   "outputs": [],
   "source": [
    "# 可以返回值的协程\n",
    "from collections import namedtuple\n",
    "\n",
    "Result = namedtuple('Result', 'count average')  # 项数和平均值\n",
    "\n",
    "def averager():\n",
    "    total = 0.0\n",
    "    count = 0\n",
    "    average = None\n",
    "    while True:\n",
    "        term = yield average\n",
    "        if term is None:\n",
    "            break\n",
    "        total += term\n",
    "        count += 1\n",
    "        average = total/count\n",
    "    return Result(count, average)\n",
    "    "
   ]
  },
  {
   "cell_type": "code",
   "execution_count": 31,
   "metadata": {},
   "outputs": [
    {
     "ename": "StopIteration",
     "evalue": "Result(count=3, average=15.5)",
     "output_type": "error",
     "traceback": [
      "\u001b[1;31m---------------------------------------------------------------------------\u001b[0m",
      "\u001b[1;31mStopIteration\u001b[0m                             Traceback (most recent call last)",
      "\u001b[1;32m~\\AppData\\Local\\Temp/ipykernel_15184/335597613.py\u001b[0m in \u001b[0;36m<module>\u001b[1;34m\u001b[0m\n\u001b[0;32m      5\u001b[0m \u001b[0mcoro_avg\u001b[0m\u001b[1;33m.\u001b[0m\u001b[0msend\u001b[0m\u001b[1;33m(\u001b[0m\u001b[1;36m30\u001b[0m\u001b[1;33m)\u001b[0m\u001b[1;33m\u001b[0m\u001b[1;33m\u001b[0m\u001b[0m\n\u001b[0;32m      6\u001b[0m \u001b[0mcoro_avg\u001b[0m\u001b[1;33m.\u001b[0m\u001b[0msend\u001b[0m\u001b[1;33m(\u001b[0m\u001b[1;36m6.5\u001b[0m\u001b[1;33m)\u001b[0m\u001b[1;33m\u001b[0m\u001b[1;33m\u001b[0m\u001b[0m\n\u001b[1;32m----> 7\u001b[1;33m \u001b[0mcoro_avg\u001b[0m\u001b[1;33m.\u001b[0m\u001b[0msend\u001b[0m\u001b[1;33m(\u001b[0m\u001b[1;32mNone\u001b[0m\u001b[1;33m)\u001b[0m\u001b[1;33m\u001b[0m\u001b[1;33m\u001b[0m\u001b[0m\n\u001b[0m",
      "\u001b[1;31mStopIteration\u001b[0m: Result(count=3, average=15.5)"
     ]
    }
   ],
   "source": [
    "# 使用新版 averager\n",
    "coro_avg = averager()\n",
    "next(coro_avg)\n",
    "coro_avg.send(10)\n",
    "coro_avg.send(30)\n",
    "coro_avg.send(6.5)\n",
    "coro_avg.send(None)"
   ]
  },
  {
   "cell_type": "markdown",
   "metadata": {},
   "source": [
    "发送 None 会终止循环，导致协程结束，返回结果\n",
    "\n",
    "注意：return 表达式的值会偷偷传给调用方，赋值给 StopIteration 异常的一个属性。这样做有点不合常理，但是能保留生成器对象的常规行为 —— 耗尽时抛出 StopIteration 异常"
   ]
  },
  {
   "cell_type": "code",
   "execution_count": 32,
   "metadata": {},
   "outputs": [
    {
     "data": {
      "text/plain": [
       "Result(count=3, average=15.5)"
      ]
     },
     "execution_count": 32,
     "metadata": {},
     "output_type": "execute_result"
    }
   ],
   "source": [
    "# 获取 averager 返回的值\n",
    "coro_avg = averager()\n",
    "next(coro_avg)\n",
    "coro_avg.send(10)\n",
    "coro_avg.send(30)\n",
    "coro_avg.send(6.5)\n",
    "try:\n",
    "    coro_avg.send(None)\n",
    "except StopIteration as exc:\n",
    "    result = exc.value\n",
    "result"
   ]
  },
  {
   "cell_type": "markdown",
   "metadata": {},
   "source": [
    "虽然饶了一个圈子，但这是 PEP 380 定义的方式，而这也表明，yield from 结构会在内部自动捕获 StopIteration 异常并将 value 属性的值变成外部 yield from 表达式的值"
   ]
  },
  {
   "cell_type": "markdown",
   "metadata": {},
   "source": [
    "# 16.7 使用 yield from\n",
    "\n",
    "在生成器 gen 中使用  yield from subgen() 时，subgen() 获得控制权，把产出的值传给 gen 的调用方，即调用方可以直接控制 subgen。与此同时，gen 会阻塞，等待 subgen 停止"
   ]
  },
  {
   "cell_type": "code",
   "execution_count": 33,
   "metadata": {},
   "outputs": [
    {
     "data": {
      "text/plain": [
       "['A', 'B', 1, 2]"
      ]
     },
     "execution_count": 33,
     "metadata": {},
     "output_type": "execute_result"
    }
   ],
   "source": [
    "def gen():\n",
    "    for c in 'AB':\n",
    "        yield c\n",
    "    for i in range(1, 3):\n",
    "        yield i\n",
    "list(gen())"
   ]
  },
  {
   "cell_type": "code",
   "execution_count": 35,
   "metadata": {},
   "outputs": [
    {
     "data": {
      "text/plain": [
       "['A', 'B', 1, 2]"
      ]
     },
     "execution_count": 35,
     "metadata": {},
     "output_type": "execute_result"
    }
   ],
   "source": [
    "# 可以改写为\n",
    "def gen():\n",
    "    yield from 'AB'\n",
    "    yield from range(1, 3)\n",
    "\n",
    "list(gen())"
   ]
  },
  {
   "cell_type": "markdown",
   "metadata": {},
   "source": [
    "yield from x 表达式对 x 对象所做的第一件事是，调用 iter(x), 从中获取迭代器。因此，x 可以是任何可迭代对象\n",
    "\n",
    "可是，如果 yield from 结构唯一的作用是替代产出值的嵌套 for 循环，这个结构很有可能不会添加到 Python 语言中。yield from 结构的本质作用无法通过简单的可迭代对象说明，而要散发四维，使用嵌套的生成器。\n",
    "\n",
    "yield from 的主要功能是打开双向通道，把最外层的调用方与最内层的子生成器连接起来，这样而这可以直接发送和产出值，还可以直接传入异常，而不用在位于中间的协程中添加大量处理异常的样板代码。有了这个结构，协程可以通过以前不可能的方式委托职责\n",
    "\n",
    "下面是一些专门术语: \n",
    "* 委派生成器: 包含 yield from <iterable> 的生成器函数 \n",
    "* 子生成器: 从 <iterable> 部分获取的生成器\n",
    "* 调用方: 调用委派生成器的客户端代码"
   ]
  },
  {
   "cell_type": "code",
   "execution_count": 39,
   "metadata": {},
   "outputs": [
    {
     "name": "stdout",
     "output_type": "stream",
     "text": [
      " 9 boys  averaging 40.42kg\n",
      " 9 boys  averaging 1.39m\n",
      "10 girls averaging 42.04kg\n",
      "10 girls averaging 1.43m\n"
     ]
    }
   ],
   "source": [
    "# 从一个字典中读取虚构的男女学生的体重和身高，然后生成一个报告\n",
    "\n",
    "from collections import namedtuple\n",
    "\n",
    "Result = namedtuple('Result', 'count average')  # 项数和平均值\n",
    "\n",
    "# 子生成器\n",
    "def averager():\n",
    "    total = 0.0\n",
    "    count = 0\n",
    "    average = None\n",
    "    while True:\n",
    "        term = yield # main 函数中的客户代码发送的各个值绑定到这里的 term 变量上\n",
    "        if term is None:    # 终止条件\n",
    "            break\n",
    "        total += term\n",
    "        count += 1\n",
    "        average = total/count\n",
    "    return Result(count, average) # 返回的 Result 会称为 grouper 函数中 yield from 表达式的值\n",
    "\n",
    "# 委派生成器\n",
    "def grouper(results, key):\n",
    "    while True: # 这个循环每次迭代时会新建一个 averager 实例，每个实例都是作为协程使用的生成器对象\n",
    "        # 写死循环的原因是防止在赋值后生成器结束，抛出 StopIteration 异常\n",
    "        results[key] = yield from averager()\n",
    "\n",
    "# 客户端代码,即调用方\n",
    "def main(data):\n",
    "    results = {}\n",
    "    for key,values in data.items():\n",
    "        group = grouper(results, key)   \n",
    "        # group 是调用 grouper 函数得到的生成器对象，传给 grouper 函数的第一个参数是 results，用于收集结果\n",
    "        next(group) # 预激 group\n",
    "        for value in values:    \n",
    "            # 把各个 value 传给 grouper，传入的值最终到达 averager 函数中 term = yield 那一行，grouper 永远不知道传入的值是什么\n",
    "            group.send(value)\n",
    "        group.send(None)    # 当前 averager 实例中止，grouper继续运行，再创建一个 averager 实例，处理下一组值\n",
    "    # print(results)\n",
    "    report(results)\n",
    "\n",
    "# 输出报告\n",
    "def report(results):\n",
    "    for key,result in sorted(results.items()):\n",
    "        group, unit = key.split(';')\n",
    "        print('{:2} {:5} averaging {:.2f}{}'.format(\n",
    "            result.count, group, result.average, unit\n",
    "        ))\n",
    "\n",
    "data={ 'girls;kg':\n",
    "        [40.9, 38.5, 44.3, 42.2, 45.2, 41.7, 44.5, 38.0, 40.6, 44.5],\n",
    "    'girls;m':\n",
    "        [1.6, 1.51, 1.4, 1.3, 1.41, 1.39, 1.33, 1.46, 1.45, 1.43],\n",
    "    'boys;kg':\n",
    "        [39.0, 40.8, 43.2, 40.8, 43.1, 38.6, 41.4, 40.6, 36.3],\n",
    "    'boys;m':\n",
    "        [1.38, 1.5, 1.32, 1.25, 1.37, 1.48, 1.25, 1.49, 1.46],\n",
    "}\n",
    "\n",
    "if __name__ == '__main__':\n",
    "    main(data)\n"
   ]
  },
  {
   "cell_type": "markdown",
   "metadata": {},
   "source": [
    "* 外层 for 循环每次迭代会新建一个 grouper 实例，赋值给 group 变量，group 是委派生成器\n",
    "* 调用 next(group)，预激委派生成器 grouper，此时进入 while True 循环，调用子生成器 averager 后，在 yield from 表达式处暂停\n",
    "* 内层 for 循环调用 group.send(value)，直接把值传给 子生成器 avrager。同时，当前的 grouper 实例在 yield from 处暂停\n",
    "* 内层循环结束后，group 实例依旧在 yield from 表达式处暂停，因此 grouper 函数定义体中为 results[key] 赋值的语句还未执行\n",
    "* 如果外层 for 循环的末尾没有 group.send(None), 那么 averager 子生成器永远不会中止，委派生成器 group 永远不会再次激活，因此永远不会为 results[key] 赋值\n",
    "* 外层 for 循环重新迭代时会新建一个 grouper 实例，绑定在 group 变量上，前一个 grouper 实例被垃圾回收程序回收"
   ]
  },
  {
   "cell_type": "markdown",
   "metadata": {},
   "source": [
    "# 16.8 yield from 的意义\n",
    "\n",
    "yield from 的行为:\n",
    "* 子生成器产出的值都会直接传给委派生成器的调用方(即客户端代码)\n",
    "* 使用 send() 方法发给委派生成器的值都直接传给子生成器。如果发送的值是 None，那么会调用子生成器的 \\_\\_next__() 方法。如果发送的值不是 None，那么会调用子生成器的 send() 方法。如果调用的方法抛出 StopIteration 异常，那么委派生成器恢复运行，任何其他异常都会向上冒泡，传给委派生成器\n",
    "* 生成器退出时，子生成器中的 return expr 表达式 会触发 StopIteration(expr) 异常抛出。\n",
    "* yield from 表达式的值是子生成器终止时传给 StopIteration 异常的第一个参数\n",
    "\n",
    "yield from 结构的另外两个特性与异常和终止有关\n",
    "* 传入委派生成器的异常，除了 GeneratorExit 之外都传给子生成器的 throw() 方法。如果调用 therow() 方法时抛出 StopIteration 异常，委派生成器恢复运行。StopIteration 之外的异常会向上冒泡，传给委派生成器。\n",
    "* 如果把 GeneratorExit 异常传入委派生成器，或者在委派生成器上调用 close() 方法，那么在子生成器上调用 close() 方法，如果它有实现的话。如果调用 close() 方法导致异常抛出，那么异常会向上冒泡，传给委派生成器；否则，委派生成器抛出 GeneratorExit 异常\n",
    "\n",
    "假设 yield from 出现在委派生成器中。客户端代码驱动着委派生成器，而委派生成器驱动子生成器。那么，为了简化逻辑，我们假设客户端没有在委派生成器上调用 .throw() 或 .close() 方法。此外，我们还假设子生成器不会抛出异常，而是一直运行到中止，抛出 StopIteration 异常。\n",
    "\n",
    "```python\n",
    "# 简化的伪代码，等效于委派生成器中 RESULT = yield from EXPR 语句\n",
    "_i = iter(EXPR) # EXPR 可以是任意可迭代的对象，因为获取迭代器 _i 使用的是 iter() 函数\n",
    "\n",
    "try:\n",
    "    _y = next(_i) # 预激子生成器，结果保存在 _y 中，作为产出的第一个指\n",
    "except StopIteration as _e:\n",
    "    _r = _e.value # 如果抛出 StopIteration 异常，获取其 value 属性，赋值给 _r ———— 这是最简单情况下的返回值\n",
    "else:\n",
    "    while 1: # 运行这个循环时，委派生成器会阻塞，只作为调用方和子生成器之间的通道\n",
    "        _s = yield _y # 产出子生成器当前产出的元素，等待调用方发送 _s 中保存的值\n",
    "    try:\n",
    "        _y = _i.send(_s) # 尝试让子生成器向前执行，转发调用方发送的 _s\n",
    "    except StopIteration as _e: # 如果子生成器抛出 StopIteration 异常，获取 value 属性的值，赋值给 _r，然后退出循环，让委派生成器恢复运行\n",
    "        _r = _e.value\n",
    "        break\n",
    "\n",
    "RESULT = _r # 返回的结果是 _r，即整个 yield from 表达式的值\n",
    "```\n",
    "这段代码的变量:\n",
    "* _i (迭代器) : 子生成器\n",
    "* _y (产出的值) : 子生成器产出的值(即子生成器运行结束后 yield from 表达式的值)\n",
    "* _r (结果) : 最终的结果\n",
    "* _s (发送的值) : 调用方发给委派生成器的值，这个值会转发给子生成器\n",
    "* _e (异常) : 异常对象、\n",
    "\n",
    "除了没有处理 throw 和 colse 方法之外，这段简化的伪代码还在子生成器上调用 .send 方法，以此达到客户调用 next 函数或 send 方法的目的。\n",
    "\n",
    "但是，现实情况要复杂一些，因为要处理客户对 throw 和 close 方法的调用，而这两个方法执行的操作必须传入子生成器。此外，子生成器可能只是纯脆的迭代器，不支持 throw 和 close 方法，因此 yield from 结果的逻辑必须处理这种情况。如果子生成器实现了这两个方法，而在子生成器内部，这两个方法都会触发异常抛出，这种情况也必须由 yield from 机制处理。调用方可能会无缘无故地让子生成器自己抛出异常，实现 yield from 结果也必须处理这种情况。最后，为了优化，如果调用方调用 next 函数或 send(None) 方法，都要转交职责，在子生成器上调用 next 函数，仅当调用方法发送的值不是 None 时，才使用子生成器的 send 方法\n",
    "\n",
    "下面列出 PEP 380 中扩充 yield from 表达式的完整伪代码，它等效于委派生成器中的 RESULT = yield from EXPR 语句\n",
    "\n",
    "```python\n",
    "_i = iter(EXPR) # EXPR 可以是任意可迭代对象，因为获取迭代器 _i 使用的是 iter() 函数\n",
    "try:\n",
    "    _y = next(_i) # 预激子生成器；结果保存在 _y 中，作为产出的第一个值\n",
    "except StopIteration as _e:\n",
    "    _r = _e.value # 如果抛出 StopIteration 异常，获取异常对象的 value 属性，赋值给 _r，即返回值\n",
    "else:\n",
    "    while 1: # 运行这个循环时，委派生成器会阻塞，只作为调用方和子生成器之间的通信\n",
    "        try:\n",
    "            _s = yield _y # 产出子生成器当前产出的元素；等待调用方发送 _s 中保存的值\n",
    "        except GeneratorExit as _e: # 这一部分用于关闭委派生成器和子生成器。因为子生成器可以是任何可迭代的对象，可能没有 close 方法\n",
    "            try:\n",
    "                _m = _i.close\n",
    "            except AttributeError: \n",
    "                pass\n",
    "            else: \n",
    "                _m()\n",
    "            raise _e\n",
    "        except BaseException as _e: \n",
    "            # 这一部分处理调用方法通过 .throw(...) 传入的异常。\n",
    "            # 同样，子生成器可以是迭代器，从而没有 throw 方法可调用，这种情况会导致委派生成器抛出异常\n",
    "            _x = sys.exc_info() \n",
    "            try:\n",
    "                _m = _i.throw \n",
    "            except AttributeError:\n",
    "                raise _e \n",
    "            else: \n",
    "                # 如果子生成器有 throw 方法，则传入异常。\n",
    "                # 子生成器可能会处理传入的异常(然后继续循环)，可能抛出 StopIteration 异常(从中获取结果，赋值给 _r)\n",
    "                # 还可能不处理，而是抛出相同或不协调的异常，向上冒泡，传给委托生成器\n",
    "                try:\n",
    "                    _y = _m(*_x)\n",
    "                except StopIteration as _e: \n",
    "                    _r = _e.value\n",
    "                    break \n",
    "        else: # 如果产出值时没有异常\n",
    "            try: # 尝试让子生成器向前执行\n",
    "                if _s is None: # 如果调用方法最后发送的是 None，则在子生成器上调用 next 函数，否则将 _s 传入子生成器\n",
    "                    _y = next(_i) \n",
    "                else:\n",
    "                    _y = _i.send(_s) \n",
    "            except StopIteration as _e: # 如果子生成器抛出 StopIteration 异常，获取 value 的属性，赋值给 _r，然后退出循环，让委派生成器继续执行\n",
    "                _r = _e.value \n",
    "                break\n",
    "\n",
    "RESULT = _r # 返回的结果是 _r，即整个 yield from 表达式的值\n",
    "```\n",
    "\n",
    "注意：用于预激的装饰器 与 yield from 结果不兼容\n"
   ]
  },
  {
   "cell_type": "markdown",
   "metadata": {},
   "source": [
    "# 16.9 使用案例: 使用协程做离散事件仿真"
   ]
  },
  {
   "cell_type": "markdown",
   "metadata": {},
   "source": [
    "## 16.9.1 离散事件仿真简介\n",
    "\n",
    "离散事件仿真(Discrete Event Simulation, DES)是以中把系统建模成一系列事件的仿真类型，在离散事件仿真中，仿真“钟”向前推进的量是不固定的，而是直接推进到下一个事件模型的模拟时间。使用 DES 可以在不到一秒钟的时间内模拟一年的出租车运营过程。这与连续仿真不同，连续放真的仿真钟以固定的量不断向前推进。"
   ]
  },
  {
   "cell_type": "markdown",
   "metadata": {},
   "source": [
    "## 16.9.2 出租车对运营仿真\n",
    "\n",
    "仿真程序会创建几辆出租车，每辆车会拉几个乘客，然后回家，出租车首先驶离车库，四处徘徊，寻找乘客；拉到乘客后，形成开始；乘客下车后继续四处徘徊\n",
    "\n",
    "* 出租车每隔 5 分钟从车库出发\n",
    "* 所有排定的时间都在默认的仿真时间内(180 分钟)完成，最后一次事件发生在 time = 110 时。\n",
    "* 仿真结束时可能还有未完成的事件。如果是这种情况，最后一条消息会是这样: \n",
    "\\*** end of simulation time: 3 events pending ***\n",
    "* 这不是完整代码，只列出了与协程相关的部分。真正重要的函数只有两个 taxi_process(一个协程)，以及执行仿真主循环的 Simulator.run 方法\n",
    "* 这个协程用到了别处定义的两个对象: compute_delay函数，返回单位为分钟的间隔时间: Event 类，一个 namedtuple，定义方式如下:  \n",
    "  Event = collections.namedtuple('Event', 'time proc action')\n",
    "  * time: 事件发生时的仿真时间\n",
    "  * proc: 出租车进程实例的编号\n",
    "  * action: 描述活动的字符串"
   ]
  },
  {
   "cell_type": "code",
   "execution_count": 40,
   "metadata": {},
   "outputs": [],
   "source": [
    "# taxi_process 协程，实现各辆出租车的活动\n",
    "import collections\n",
    "\n",
    "Event = collections.namedtuple('Event', 'time proc action')\n",
    "\n",
    "def taxi_process(ident, trips, start_time=0):  \n",
    "    \"\"\"每次改变状态时创建时间，把控制权让给仿真器\"\"\" \n",
    "    # 每辆出租车调用一次 taxi_process 函数，创建一个生成器对象，表示各辆出租车的运营过程\n",
    "    # ident 是出租车的编号；trips 是出租车回家之前的行程数量；start_time 是出租车离开车库的时间  \n",
    " \n",
    "    # 产出的第一个 Event 是 leave garage。执行到这一行，协程会暂停，让仿真主循环着手处理下一个事件。\n",
    "    # 需要激活这个进程时，主循环会发送当前的仿真时间，赋值给 time\n",
    "    time = yield Event(start_time, ident, 'leave garage')\n",
    "\n",
    "    # 每次行程都会执行这个代码块\n",
    "    for i in range(trips):\n",
    "        # 产出一个 Event 实例，表示拉到乘客了。协程在这里暂停\n",
    "        time = yield Event(time, ident, 'pick up passenger') \n",
    "        # 产出一个 Event 实例，表示乘客下车了\n",
    "        time = yield Event(time, ident, 'drop off passenger')\n",
    "\n",
    "    # 指定的形参数量完成后，for 循环结束，最后产出 going home事件，此时，协程最后一次暂停。\n",
    "    # 仿真主循环发送时间后，协程重新激活；不过这里没有把产出的值赋值给变量，因为用不到了\n",
    "    yield Event(time, ident, 'going home') \n",
    "    # 出租车进程结束，即协程执行到最后，生成器对象抛出 StopIteration 异常"
   ]
  },
  {
   "cell_type": "code",
   "execution_count": 41,
   "metadata": {},
   "outputs": [
    {
     "data": {
      "text/plain": [
       "Event(time=0, proc=13, action='leave garage')"
      ]
     },
     "execution_count": 41,
     "metadata": {},
     "output_type": "execute_result"
    }
   ],
   "source": [
    "# 驱动 taxi_process 协程\n",
    "taxi = taxi_process(ident=13, trips=2, start_time=0)\n",
    "next(taxi)"
   ]
  },
  {
   "cell_type": "code",
   "execution_count": 42,
   "metadata": {},
   "outputs": [
    {
     "data": {
      "text/plain": [
       "Event(time=7, proc=13, action='pick up passenger')"
      ]
     },
     "execution_count": 42,
     "metadata": {},
     "output_type": "execute_result"
    }
   ],
   "source": [
    "# 现在可以发送当前时间。在控制台中，_ 变量绑定的是前一个结果；\n",
    "# 这里在时间上加 7，意思是这俩出租车 7 分钟后找道第一个乘客\n",
    "taxi.send(_.time + 7)"
   ]
  },
  {
   "cell_type": "code",
   "execution_count": 44,
   "metadata": {},
   "outputs": [
    {
     "data": {
      "text/plain": [
       "Event(time=30, proc=13, action='drop off passenger')"
      ]
     },
     "execution_count": 44,
     "metadata": {},
     "output_type": "execute_result"
    }
   ],
   "source": [
    "taxi.send(_.time + 23)"
   ]
  },
  {
   "cell_type": "code",
   "execution_count": 45,
   "metadata": {},
   "outputs": [
    {
     "data": {
      "text/plain": [
       "Event(time=35, proc=13, action='pick up passenger')"
      ]
     },
     "execution_count": 45,
     "metadata": {},
     "output_type": "execute_result"
    }
   ],
   "source": [
    "taxi.send(_.time + 5)"
   ]
  },
  {
   "cell_type": "code",
   "execution_count": 46,
   "metadata": {},
   "outputs": [
    {
     "data": {
      "text/plain": [
       "Event(time=83, proc=13, action='drop off passenger')"
      ]
     },
     "execution_count": 46,
     "metadata": {},
     "output_type": "execute_result"
    }
   ],
   "source": [
    "taxi.send(_.time + 48)"
   ]
  },
  {
   "cell_type": "code",
   "execution_count": 47,
   "metadata": {},
   "outputs": [
    {
     "data": {
      "text/plain": [
       "Event(time=84, proc=13, action='going home')"
      ]
     },
     "execution_count": 47,
     "metadata": {},
     "output_type": "execute_result"
    }
   ],
   "source": [
    "taxi.send(_.time + 1)"
   ]
  },
  {
   "cell_type": "code",
   "execution_count": 48,
   "metadata": {},
   "outputs": [
    {
     "ename": "StopIteration",
     "evalue": "",
     "output_type": "error",
     "traceback": [
      "\u001b[1;31m---------------------------------------------------------------------------\u001b[0m",
      "\u001b[1;31mStopIteration\u001b[0m                             Traceback (most recent call last)",
      "\u001b[1;32m~\\AppData\\Local\\Temp/ipykernel_15184/2622986262.py\u001b[0m in \u001b[0;36m<module>\u001b[1;34m\u001b[0m\n\u001b[1;32m----> 1\u001b[1;33m \u001b[0mtaxi\u001b[0m\u001b[1;33m.\u001b[0m\u001b[0msend\u001b[0m\u001b[1;33m(\u001b[0m\u001b[0m_\u001b[0m\u001b[1;33m.\u001b[0m\u001b[0mtime\u001b[0m \u001b[1;33m+\u001b[0m \u001b[1;36m10\u001b[0m\u001b[1;33m)\u001b[0m\u001b[1;33m\u001b[0m\u001b[1;33m\u001b[0m\u001b[0m\n\u001b[0m",
      "\u001b[1;31mStopIteration\u001b[0m: "
     ]
    }
   ],
   "source": [
    "taxi.send(_.time + 10)"
   ]
  },
  {
   "cell_type": "markdown",
   "metadata": {},
   "source": [
    "在这个仿真系统中，各个出租车由 Simulator.run 方法中的主循环驱动，仿真钟保存在 sim_time 变量中，每次产出事件时都会更新仿真钟。\n",
    "\n",
    "为了实例化 Simulator 类，脚本的 main 函数构建了一个 taxis 字典"
   ]
  },
  {
   "cell_type": "code",
   "execution_count": null,
   "metadata": {},
   "outputs": [],
   "source": [
    "DEPARTURE_INTERVAL = 5 # 发车间隔\n",
    "taxis = {i: taxi_process(i, (i+1) * 2, i * DEPARTURE_INTERVAL) for i in range(num_taxis)}\n",
    "sim = Simulator(taxis)"
   ]
  },
  {
   "cell_type": "markdown",
   "metadata": {},
   "source": [
    "taxis 字典的值是三个参数不同的生成器对象。  \n",
    "Simulator 的初始化方法如下，它的主要数据结构是:\n",
    "* self.events : Priority 对象，保存 Event 实例。元素可以放进 PriorityQueue 对象中，然后按 item[0](即 Event 对象的 time 属性) 依次取出\n",
    "* self.procs : 一个字典，拔出租租车的编号映射到仿真过程中激活的进程。这个属性会绑定前面所示的 taxis 字典副本"
   ]
  },
  {
   "cell_type": "code",
   "execution_count": null,
   "metadata": {},
   "outputs": [],
   "source": [
    "# Simlator 类的初始化方法\n",
    "import queue\n",
    "class Simlator:\n",
    "\n",
    "    def __init__(self, procs_map):\n",
    "        self.events = queue.PriorityQueue()\n",
    "        self.procs = dict(procs_map)"
   ]
  },
  {
   "cell_type": "markdown",
   "metadata": {},
   "source": [
    "优先队列 PriorityQueue 是离散仿真系统的基础构件: 创建事件的顺序补丁，放入这种队列后，可以按照各个事件排定的顺序取出。\n",
    "\n",
    "下面分析这个仿真系统的住算法 ———— Simulator.run 方法。在 main 函数中，实例化 Simulator 类之后立即就调用了这个方法\n",
    "```python\n",
    "    sim = Simulator(taxis)\n",
    "    sim.run(end_time)\n",
    "```\n",
    "Simulator.run 方法实现的算法:\n",
    "1. 迭代表示各辆出租车的进程\n",
    "   * 在各辆出租车上调用 next() 函数，预激协程。这样会产出各辆出租车的第一个事件\n",
    "   * 把各个事件放入 Simulator 类的 self.events 队列中\n",
    "2. 满足 sim_time < end_time 条件时，运行仿真系统的主循环\n",
    "   * 检查 self.events 属性是否为空：如果为空，跳出循环\n",
    "   * 从 self.events 中获取当前事件 (current_event),即 PriorityQueue 对象中时间值最小的 Event 对象。\n",
    "   * 显示获取的 Event 对象\n",
    "   * 获取 current_event 的 time 属性，更新仿真时间\n",
    "   * 把时间发给 current_event 的 proc 属性标识的协程，产出下一个事件 (next_event)\n",
    "   * 把 next_event 添加到 self.events 队列中，排定 next_event"
   ]
  },
  {
   "cell_type": "code",
   "execution_count": null,
   "metadata": {},
   "outputs": [],
   "source": [
    "class Simulator:\n",
    "\n",
    "    def __init__(self, procs_map):\n",
    "        self.events = queue.PriorityQueue()\n",
    "        self.procs = dict(procs_map)\n",
    "\n",
    "    def run(self, end_time):  # run 方法只需要仿真结束时间 end_time 这一个参数\n",
    "        \"\"\"排定并显示事件，直到时间结束\"\"\"\n",
    "\n",
    "        # 排定各辆出租车的第一个事件\n",
    "        for _, proc in sorted(self.procs.items()):  # 使用 sorted 获取 self.procs 中按键排序的元素，用不到键，所以赋值给 _\n",
    "            first_event = next(proc)  # 调用 next 预激各个协程，向前执行到第一个 yield 表达式，做好接收数据的准备。产出一个 event 对象\n",
    "            self.events.put(first_event)  # 把各个事件添加到 self.events 属性表示的 PriorityQueue 对象中。\n",
    "\n",
    "        # 仿真系统的主循环\n",
    "        sim_time = 0  # 把仿真钟归零\n",
    "        while sim_time < end_time:  # 在结束之前持续运行\n",
    "            if self.events.empty():  # 如果队列中无未完成的事件，则退出主循环\n",
    "                print('*** end of events ***')\n",
    "                break\n",
    "\n",
    "            current_event = self.events.get()  # 获取优先队列中 time 属性最小的 Event 对象\n",
    "            sim_time, proc_id, previous_action = current_event  # 拆包 Event 对象的数据，这一行代码会更新仿真钟，对应于事件发生的事件\n",
    "            print('taxi:', proc_id, proc_id * '   ', current_event)  # 打印 Event 对象，指明是哪辆车，并根据车的编号缩进\n",
    "            active_proc = self.procs[proc_id]  # 从 self.procs 字典钟获取当前活动的出租车的协程。\n",
    "\n",
    "            # 调用 compute_duration(...) 函数，传入前一个动作，把结果加到 sim_time 上，计算下一次活动的时间\n",
    "            next_time = sim_time + compute_duration(previous_action)\n",
    "            try:\n",
    "                # 把计算得到的时间发给出租车协程。协程会产出下一个事件(next_event)，或者抛出 StopIteration 异常\n",
    "                next_event = active_proc.send(next_time)  \n",
    "            except StopIteration:\n",
    "                del self.procs[proc_id]  # 如果抛出 StopIteration 异常，代表收车，从字典中删除那个协程\n",
    "            else:\n",
    "                self.events.put(next_event)  # 否则将 next_event 放入队列中\n",
    "        else:  # 如果循环由于仿真时间到了而退出，显示待完成的事件数量(有时可能碰巧是0)\n",
    "            msg = '*** end of simulation time: {} events pending ***'\n",
    "            print(msg.format(self.events.qsize()))"
   ]
  },
  {
   "cell_type": "markdown",
   "metadata": {},
   "source": [
    "注意：上述代码中两处用到了 else 块，而且都不在 if 语句中:\n",
    "1. 主 while 循环有一个 else 语句，报告仿真系统由于达到结束时间而结束，而不是由于没有事件处理而结束\n",
    "2. 靠近主 while 循环底部的 try 语句把 next_time 发给当前的出租车进程，尝试获取下一个事件，如果成功，执行 else 块，把 next_event 放入队列中"
   ]
  }
 ],
 "metadata": {
  "interpreter": {
   "hash": "5fd5d179b353a7924b2269f9ae30affc58451699efad8dcc09c53f37c011c4ba"
  },
  "kernelspec": {
   "display_name": "Python 3.9.1 64-bit ('.venv': venv)",
   "language": "python",
   "name": "python3"
  },
  "language_info": {
   "codemirror_mode": {
    "name": "ipython",
    "version": 3
   },
   "file_extension": ".py",
   "mimetype": "text/x-python",
   "name": "python",
   "nbconvert_exporter": "python",
   "pygments_lexer": "ipython3",
   "version": "3.9.1"
  },
  "orig_nbformat": 4
 },
 "nbformat": 4,
 "nbformat_minor": 2
}
