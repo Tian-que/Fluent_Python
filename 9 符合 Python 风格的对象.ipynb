{
 "cells": [
  {
   "cell_type": "markdown",
   "metadata": {},
   "source": [
    "# 9.2 再谈向量类"
   ]
  },
  {
   "cell_type": "code",
   "execution_count": 3,
   "metadata": {},
   "outputs": [],
   "source": [
    "from array import array\n",
    "import math\n",
    "\n",
    "class Vector2d:\n",
    "    typecode = 'd'  # 类属性，在实例和字节序列之间转换时使用\n",
    "\n",
    "    def __init__(self, x, y) -> None:\n",
    "        self.x = float(x)\n",
    "        self.y = float(y)\n",
    "    \n",
    "    def __iter__(self): # 将实例变成可迭代的对象\n",
    "        return (i for i in (self.x, self.y))\n",
    "    \n",
    "    def __repr__(self) -> str:\n",
    "        class_name = type(self).__name__\n",
    "        return '{}({!r}, {!r})'.format(class_name, *self)   # 用 !r 获取各个分量的表示形式，因为实例是可迭代对象，所以 *self 会把 x 和 y 分量提供给 format 函数\n",
    "\n",
    "    def __str__(self) -> str:\n",
    "        return str(tuple(self))\n",
    "    \n",
    "    def __bytes__(self):\n",
    "        return (bytes([ord(self.typecode)]) + \n",
    "                bytes(array(self.typecode, self)))\n",
    "    \n",
    "    def __eq__(self, other):\n",
    "        return tuple(self) == tuple(other)\n",
    "    \n",
    "    def __abs__(self):\n",
    "        return math.hypot(self.x, self.y)\n",
    "    \n",
    "    def __bool__(self):\n",
    "        return bool(abs(self))"
   ]
  },
  {
   "cell_type": "code",
   "execution_count": 6,
   "metadata": {},
   "outputs": [
    {
     "name": "stdout",
     "output_type": "stream",
     "text": [
      "3.0 4.0\n",
      "3.0 4.0\n",
      "(3.0, 4.0)\n"
     ]
    },
    {
     "data": {
      "text/plain": [
       "Vector2d(3.0, 4.0)"
      ]
     },
     "execution_count": 6,
     "metadata": {},
     "output_type": "execute_result"
    }
   ],
   "source": [
    "v1 = Vector2d(3,4)\n",
    "print(v1.x, v1.y)\n",
    "x, y = v1\n",
    "print(x,y)\n",
    "print(v1)\n",
    "v1"
   ]
  },
  {
   "cell_type": "code",
   "execution_count": 9,
   "metadata": {},
   "outputs": [
    {
     "data": {
      "text/plain": [
       "True"
      ]
     },
     "execution_count": 9,
     "metadata": {},
     "output_type": "execute_result"
    }
   ],
   "source": [
    "v1_clone = eval(repr(v1))\n",
    "v1 == v1_clone"
   ]
  },
  {
   "cell_type": "code",
   "execution_count": 11,
   "metadata": {},
   "outputs": [
    {
     "data": {
      "text/plain": [
       "b'd\\x00\\x00\\x00\\x00\\x00\\x00\\x08@\\x00\\x00\\x00\\x00\\x00\\x00\\x10@'"
      ]
     },
     "execution_count": 11,
     "metadata": {},
     "output_type": "execute_result"
    }
   ],
   "source": [
    "octets = bytes(v1)\n",
    "octets"
   ]
  },
  {
   "cell_type": "code",
   "execution_count": 13,
   "metadata": {},
   "outputs": [
    {
     "data": {
      "text/plain": [
       "b'd\\x00\\x00\\x00\\x00\\x00\\x00\\x08@\\x00\\x00\\x00\\x00\\x00\\x00\\x10@'"
      ]
     },
     "execution_count": 13,
     "metadata": {},
     "output_type": "execute_result"
    }
   ],
   "source": [
    "(bytes([ord(v1.typecode)]) + bytes(array(v1.typecode, v1)))"
   ]
  },
  {
   "cell_type": "code",
   "execution_count": 20,
   "metadata": {},
   "outputs": [
    {
     "data": {
      "text/plain": [
       "b'\\x00\\x00\\x00\\x00\\x00\\x00\\x08@\\x00\\x00\\x00\\x00\\x00\\x00\\x10@'"
      ]
     },
     "execution_count": 20,
     "metadata": {},
     "output_type": "execute_result"
    }
   ],
   "source": [
    "bytes(array(v1.typecode, v1))"
   ]
  },
  {
   "cell_type": "markdown",
   "metadata": {},
   "source": [
    "# 9.3 备选构造方法\n",
    "我们可以将 Vector2d 实例转换成字节序列了，也应该能从字节序列转换成 Vector2d 实例。"
   ]
  },
  {
   "cell_type": "code",
   "execution_count": 1,
   "metadata": {},
   "outputs": [],
   "source": [
    "from array import array\n",
    "import math\n",
    "\n",
    "class Vector2d:\n",
    "    typecode = 'd'  # 类属性，在实例和字节序列之间转换时使用\n",
    "\n",
    "    def __init__(self, x, y) -> None:\n",
    "        self.x = float(x)\n",
    "        self.y = float(y)\n",
    "    \n",
    "    def __iter__(self): # 将实例变成可迭代的对象\n",
    "        return (i for i in (self.x, self.y))\n",
    "    \n",
    "    def __repr__(self) -> str:\n",
    "        class_name = type(self).__name__\n",
    "        return '{}({!r}, {!r})'.format(class_name, *self)   # 用 !r 获取各个分量的表示形式，因为实例是可迭代对象，所以 *self 会把 x 和 y 分量提供给 format 函数\n",
    "\n",
    "    def __str__(self) -> str:\n",
    "        return str(tuple(self))\n",
    "    \n",
    "    def __bytes__(self):\n",
    "        return (bytes([ord(self.typecode)]) + \n",
    "                bytes(array(self.typecode, self)))\n",
    "    \n",
    "    def __eq__(self, other):\n",
    "        return tuple(self) == tuple(other)\n",
    "    \n",
    "    def __abs__(self):\n",
    "        return math.hypot(self.x, self.y)\n",
    "    \n",
    "    def __bool__(self):\n",
    "        return bool(abs(self))\n",
    "\n",
    "    @classmethod\n",
    "    def frombytes(cls, octets):\n",
    "        typecode = chr(octets[0])\n",
    "        memv = memoryview(octets[1:]).cast(typecode)\n",
    "        return cls(*memv)"
   ]
  },
  {
   "cell_type": "code",
   "execution_count": 33,
   "metadata": {},
   "outputs": [
    {
     "data": {
      "text/plain": [
       "b'd\\x00\\x00\\x00\\x00\\x00\\x00\\x08@\\x00\\x00\\x00\\x00\\x00\\x00\\x10@'"
      ]
     },
     "execution_count": 33,
     "metadata": {},
     "output_type": "execute_result"
    }
   ],
   "source": [
    "octets = bytes(v1)\n",
    "octets"
   ]
  },
  {
   "cell_type": "code",
   "execution_count": 38,
   "metadata": {},
   "outputs": [
    {
     "data": {
      "text/plain": [
       "Vector2d(3.0, 4.0)"
      ]
     },
     "execution_count": 38,
     "metadata": {},
     "output_type": "execute_result"
    }
   ],
   "source": [
    "v3 = Vector2d.frombytes(octets)\n",
    "v3"
   ]
  },
  {
   "cell_type": "markdown",
   "metadata": {},
   "source": [
    "# 9.4 classmethod 与 staticmethod\n",
    "classmethod：定义操作类，而不是操作实例的方法。它改变了调用方法的方式，因此类方法的第一个参数是类本身，而不是实例。它最常见的用途是定义备选构造方法，按照约定，类方法的第一个参数名为 cls  \n",
    "staticmethod：它也会改变方法的调用方式，但第一个参数不是特殊的值。其实静态方法就是普通的函数，只是碰巧在类的定义体中，而不是在模块层定义"
   ]
  },
  {
   "cell_type": "code",
   "execution_count": 39,
   "metadata": {},
   "outputs": [
    {
     "data": {
      "text/plain": [
       "<bound method Demo.klassmeth of <class '__main__.Demo'>>"
      ]
     },
     "execution_count": 39,
     "metadata": {},
     "output_type": "execute_result"
    }
   ],
   "source": [
    "class Demo:\n",
    "    @classmethod\n",
    "    def klassmeth(*args):\n",
    "        return args\n",
    "    @staticmethod\n",
    "    def statmeth(*args):\n",
    "        return args\n",
    "\n",
    "\n",
    "Demo.klassmeth"
   ]
  },
  {
   "cell_type": "code",
   "execution_count": 41,
   "metadata": {},
   "outputs": [
    {
     "data": {
      "text/plain": [
       "(__main__.Demo, 'a')"
      ]
     },
     "execution_count": 41,
     "metadata": {},
     "output_type": "execute_result"
    }
   ],
   "source": [
    "# 不管怎样调用 Demo.klassmeth，它的第一个参数始终是 Demo 类\n",
    "Demo.klassmeth('a')"
   ]
  },
  {
   "cell_type": "code",
   "execution_count": 40,
   "metadata": {},
   "outputs": [
    {
     "data": {
      "text/plain": [
       "<function __main__.Demo.statmeth(*args)>"
      ]
     },
     "execution_count": 40,
     "metadata": {},
     "output_type": "execute_result"
    }
   ],
   "source": [
    "Demo.statmeth"
   ]
  },
  {
   "cell_type": "code",
   "execution_count": 43,
   "metadata": {},
   "outputs": [
    {
     "data": {
      "text/plain": [
       "('a',)"
      ]
     },
     "execution_count": 43,
     "metadata": {},
     "output_type": "execute_result"
    }
   ],
   "source": [
    "# Demo.statmeth 的行为与普通函数相似\n",
    "Demo.statmeth('a')"
   ]
  },
  {
   "cell_type": "markdown",
   "metadata": {},
   "source": [
    "# 9.5 格式化显示\n",
    "内置的 format() 函数和 str.format() 方法把各个类型的格式化方式委托给相应的 .\\_\\_format__(format_spec) 方法。format_spec 是格式说明符，它是\n",
    "* format(my_obj, format_spec) 的第二个参数，或者\n",
    "* str.format() 方法里的格式字符串，{} 里代换字段中冒号后面的部分\n",
    "\n",
    "如果类没有定义 \\_\\_format__ 方法，从 object 继承的方法会返回 str(my_obj)，我们为 Vector2d 类定义了 \\_\\_str__ 方法，因此可以这么做："
   ]
  },
  {
   "cell_type": "code",
   "execution_count": 2,
   "metadata": {},
   "outputs": [
    {
     "data": {
      "text/plain": [
       "'(3.0, 4.0)'"
      ]
     },
     "execution_count": 2,
     "metadata": {},
     "output_type": "execute_result"
    }
   ],
   "source": [
    "v1 = Vector2d(3, 4)\n",
    "format(v1)"
   ]
  },
  {
   "cell_type": "markdown",
   "metadata": {},
   "source": [
    "但这种方式无法传入格式说明符，所以需要自行实现 \\_\\_format__ 方法"
   ]
  },
  {
   "cell_type": "code",
   "execution_count": 6,
   "metadata": {},
   "outputs": [],
   "source": [
    "from array import array\n",
    "import math\n",
    "\n",
    "class Vector2d:\n",
    "    typecode = 'd'  # 类属性，在实例和字节序列之间转换时使用\n",
    "\n",
    "    def __init__(self, x, y) -> None:\n",
    "        self.x = float(x)\n",
    "        self.y = float(y)\n",
    "    \n",
    "    def __iter__(self): # 将实例变成可迭代的对象\n",
    "        return (i for i in (self.x, self.y))\n",
    "    \n",
    "    def __repr__(self) -> str:\n",
    "        class_name = type(self).__name__\n",
    "        return '{}({!r}, {!r})'.format(class_name, *self)   # 用 !r 获取各个分量的表示形式，因为实例是可迭代对象，所以 *self 会把 x 和 y 分量提供给 format 函数\n",
    "\n",
    "    def __str__(self) -> str:\n",
    "        return str(tuple(self))\n",
    "    \n",
    "    def __bytes__(self):\n",
    "        return (bytes([ord(self.typecode)]) + \n",
    "                bytes(array(self.typecode, self)))\n",
    "    \n",
    "    def __eq__(self, other):\n",
    "        return tuple(self) == tuple(other)\n",
    "    \n",
    "    def __abs__(self):\n",
    "        return math.hypot(self.x, self.y)\n",
    "    \n",
    "    def __bool__(self):\n",
    "        return bool(abs(self))\n",
    "\n",
    "    @classmethod\n",
    "    def frombytes(cls, octets):\n",
    "        typecode = chr(octets[0])\n",
    "        memv = memoryview(octets[1:]).cast(typecode)\n",
    "        return cls(*memv)\n",
    "    \n",
    "    # 实现 format(self)\n",
    "    def __format__(self, format_spec: str = '') -> str:\n",
    "        components = (format(c, format_spec) for c in self)\n",
    "        return '({}, {})'.format(*components)"
   ]
  },
  {
   "cell_type": "code",
   "execution_count": 7,
   "metadata": {},
   "outputs": [
    {
     "data": {
      "text/plain": [
       "'(3.0, 4.0)'"
      ]
     },
     "execution_count": 7,
     "metadata": {},
     "output_type": "execute_result"
    }
   ],
   "source": [
    "v1 = Vector2d(3, 4)\n",
    "format(v1)"
   ]
  },
  {
   "cell_type": "code",
   "execution_count": 8,
   "metadata": {},
   "outputs": [
    {
     "data": {
      "text/plain": [
       "'(3.00, 4.00)'"
      ]
     },
     "execution_count": 8,
     "metadata": {},
     "output_type": "execute_result"
    }
   ],
   "source": [
    "format(v1, '.2f')"
   ]
  },
  {
   "cell_type": "markdown",
   "metadata": {},
   "source": [
    "下面要在微语言中添加一个自定义的格式代码：如果格式符以 'p' 结尾，那么在极坐标中显示向量，即 <r, θ>"
   ]
  },
  {
   "cell_type": "code",
   "execution_count": 13,
   "metadata": {},
   "outputs": [],
   "source": [
    "class Vector2d:\n",
    "    typecode = 'd'  # 类属性，在实例和字节序列之间转换时使用\n",
    "\n",
    "    \n",
    "    # 首先需要定义一个简单的 angle 方法来计算角度\n",
    "    def angle(self):\n",
    "        return math.atan2(self.y, self.x)\n",
    "\n",
    "    \n",
    "    # 增强的 __format__ 方法\n",
    "    def __format__(self, format_spec: str = '') -> str:\n",
    "        if format_spec.endswith('p'):\n",
    "            format_spec = format_spec[:-1]\n",
    "            coords = (abs(self), self.angle())\n",
    "            outer_fmt = '<{}, {}>'\n",
    "        else:\n",
    "            coords = self\n",
    "            outer_fmt = '({}, {})'\n",
    "        components = (format(c, format_spec) for c in coords)\n",
    "        return outer_fmt.format(*components)\n",
    "\n",
    "    def __init__(self, x, y) -> None:\n",
    "        self.x = float(x)\n",
    "        self.y = float(y)\n",
    "    \n",
    "    def __iter__(self): # 将实例变成可迭代的对象\n",
    "        return (i for i in (self.x, self.y))\n",
    "    \n",
    "    def __repr__(self) -> str:\n",
    "        class_name = type(self).__name__\n",
    "        return '{}({!r}, {!r})'.format(class_name, *self)   # 用 !r 获取各个分量的表示形式，因为实例是可迭代对象，所以 *self 会把 x 和 y 分量提供给 format 函数\n",
    "\n",
    "    def __str__(self) -> str:\n",
    "        return str(tuple(self))\n",
    "    \n",
    "    def __bytes__(self):\n",
    "        return (bytes([ord(self.typecode)]) + \n",
    "                bytes(array(self.typecode, self)))\n",
    "    \n",
    "    def __eq__(self, other):\n",
    "        return tuple(self) == tuple(other)\n",
    "    \n",
    "    def __abs__(self):\n",
    "        return math.hypot(self.x, self.y)\n",
    "    \n",
    "    def __bool__(self):\n",
    "        return bool(abs(self))\n",
    "\n",
    "    @classmethod\n",
    "    def frombytes(cls, octets):\n",
    "        typecode = chr(octets[0])\n",
    "        memv = memoryview(octets[1:]).cast(typecode)\n",
    "        return cls(*memv)\n",
    "    \n"
   ]
  },
  {
   "cell_type": "code",
   "execution_count": 14,
   "metadata": {},
   "outputs": [
    {
     "data": {
      "text/plain": [
       "'<1.4142135623730951, 0.7853981633974483>'"
      ]
     },
     "execution_count": 14,
     "metadata": {},
     "output_type": "execute_result"
    }
   ],
   "source": [
    "format(Vector2d(1, 1), 'p')"
   ]
  },
  {
   "cell_type": "code",
   "execution_count": 15,
   "metadata": {},
   "outputs": [
    {
     "data": {
      "text/plain": [
       "'<1.414e+00, 7.854e-01>'"
      ]
     },
     "execution_count": 15,
     "metadata": {},
     "output_type": "execute_result"
    }
   ],
   "source": [
    "format(Vector2d(1, 1), '.3ep')"
   ]
  },
  {
   "cell_type": "code",
   "execution_count": 16,
   "metadata": {},
   "outputs": [
    {
     "data": {
      "text/plain": [
       "'<1.41421, 0.78540>'"
      ]
     },
     "execution_count": 16,
     "metadata": {},
     "output_type": "execute_result"
    }
   ],
   "source": [
    "format(Vector2d(1, 1), '.5fp')"
   ]
  },
  {
   "cell_type": "code",
   "execution_count": 17,
   "metadata": {},
   "outputs": [
    {
     "data": {
      "text/plain": [
       "'(1.00000, 1.00000)'"
      ]
     },
     "execution_count": 17,
     "metadata": {},
     "output_type": "execute_result"
    }
   ],
   "source": [
    "format(Vector2d(1, 1), '.5f')"
   ]
  },
  {
   "cell_type": "markdown",
   "metadata": {},
   "source": [
    "# 9.6 可散列的 Vector2d\n",
    "为了将 Vector2d 实例变成可散列的，必须使用 \\_\\_hash__ 方法(还需要 \\_\\_eq__ 方法，已经实现了)，此外，还要让向量不可变"
   ]
  },
  {
   "cell_type": "code",
   "execution_count": 18,
   "metadata": {},
   "outputs": [],
   "source": [
    "class Vector2d:\n",
    "    typecode = 'd'  # 类属性，在实例和字节序列之间转换时使用\n",
    "\n",
    "    # 使用两个前导下划线将属性标记为私有的\n",
    "    def __init__(self, x, y) -> None:\n",
    "        self.__x = float(x)\n",
    "        self.__y = float(y)\n",
    "    \n",
    "    # property 装饰器将读值方法标记为特性\n",
    "    @property\n",
    "    def x(self):\n",
    "        return self.__x\n",
    "    \n",
    "    @property\n",
    "    def y(self):\n",
    "        return self.__y\n",
    "    \n",
    "    # 向量不可变后才能实现 __hash__ 方法。它需要返回一个整数，理想情况下要考虑对象属性的散列值。因为相等的对象应该具有相同的散列值。\n",
    "    # 根据特殊方法 __hash__ 的文档，最好使用运算符异或 (^) 混合各分量的散列值\n",
    "    def __hash__(self) -> int:\n",
    "        return hash(self.x) ^ hash(self.y)\n",
    "        \n"
   ]
  },
  {
   "cell_type": "code",
   "execution_count": 19,
   "metadata": {},
   "outputs": [],
   "source": [
    "# 完整代码\n",
    "class Vector2d:\n",
    "    typecode = 'd'  # 类属性，在实例和字节序列之间转换时使用\n",
    "\n",
    "    # 使用两个前导下划线将属性标记为私有的\n",
    "    def __init__(self, x, y) -> None:\n",
    "        self.__x = float(x)\n",
    "        self.__y = float(y)\n",
    "    \n",
    "    # property 装饰器将读值方法标记为特性\n",
    "    @property\n",
    "    def x(self):\n",
    "        return self.__x\n",
    "    \n",
    "    @property\n",
    "    def y(self):\n",
    "        return self.__y\n",
    "    \n",
    "    # 向量不可变后才能实现 __hash__ 方法。它需要返回一个整数，理想情况下要考虑对象属性的散列值。因为相等的对象应该具有相同的散列值。\n",
    "    # 根据特殊方法 __hash__ 的文档，最好使用运算符异或 (^) 混合各分量的散列值\n",
    "    def __hash__(self) -> int:\n",
    "        return hash(self.x) ^ hash(self.y)\n",
    "\n",
    "   \n",
    "    def angle(self):\n",
    "        return math.atan2(self.y, self.x)\n",
    "\n",
    "    \n",
    "    def __format__(self, format_spec: str = '') -> str:\n",
    "        if format_spec.endswith('p'):\n",
    "            format_spec = format_spec[:-1]\n",
    "            coords = (abs(self), self.angle())\n",
    "            outer_fmt = '<{}, {}>'\n",
    "        else:\n",
    "            coords = self\n",
    "            outer_fmt = '({}, {})'\n",
    "        components = (format(c, format_spec) for c in coords)\n",
    "        return outer_fmt.format(*components)\n",
    "    \n",
    "    def __iter__(self): # 将实例变成可迭代的对象\n",
    "        return (i for i in (self.x, self.y))\n",
    "    \n",
    "    def __repr__(self) -> str:\n",
    "        class_name = type(self).__name__\n",
    "        return '{}({!r}, {!r})'.format(class_name, *self)   # 用 !r 获取各个分量的表示形式，因为实例是可迭代对象，所以 *self 会把 x 和 y 分量提供给 format 函数\n",
    "\n",
    "    def __str__(self) -> str:\n",
    "        return str(tuple(self))\n",
    "    \n",
    "    def __bytes__(self):\n",
    "        return (bytes([ord(self.typecode)]) + \n",
    "                bytes(array(self.typecode, self)))\n",
    "    \n",
    "    def __eq__(self, other):\n",
    "        return tuple(self) == tuple(other)\n",
    "    \n",
    "    def __abs__(self):\n",
    "        return math.hypot(self.x, self.y)\n",
    "    \n",
    "    def __bool__(self):\n",
    "        return bool(abs(self))\n",
    "\n",
    "    @classmethod\n",
    "    def frombytes(cls, octets):\n",
    "        typecode = chr(octets[0])\n",
    "        memv = memoryview(octets[1:]).cast(typecode)\n",
    "        return cls(*memv)\n",
    "    "
   ]
  },
  {
   "cell_type": "code",
   "execution_count": 20,
   "metadata": {},
   "outputs": [
    {
     "data": {
      "text/plain": [
       "(7, 384307168202284039)"
      ]
     },
     "execution_count": 20,
     "metadata": {},
     "output_type": "execute_result"
    }
   ],
   "source": [
    "v1 = Vector2d(3, 4)\n",
    "v2 = Vector2d(3.1, 4.2)\n",
    "hash(v1), hash(v2)"
   ]
  },
  {
   "cell_type": "code",
   "execution_count": 21,
   "metadata": {},
   "outputs": [
    {
     "data": {
      "text/plain": [
       "{Vector2d(3.0, 4.0), Vector2d(3.1, 4.2)}"
      ]
     },
     "execution_count": 21,
     "metadata": {},
     "output_type": "execute_result"
    }
   ],
   "source": [
    "set([v1, v2])"
   ]
  },
  {
   "cell_type": "markdown",
   "metadata": {},
   "source": [
    "要想创建可散列的类型，不一定要实现特性，也不一定需要保护实例属性。只需正确地实现 \\_\\_hash__ 和 \\_\\_eq__ 方法。但是，实例的散列值绝不应该变化。\n",
    "\n",
    "如果定义的类型有标量数值，可能还需要实现 \\_\\_int__ 和 \\_\\_float__ 方法，被 int() 和 float() 构造函数调用，以便在某些情况下用于强制转换类型。此外，还有用于支持内置 complex() 构造函数的 \\_\\_complex__ 方法。"
   ]
  },
  {
   "cell_type": "markdown",
   "metadata": {},
   "source": [
    "# 9.7 Python 私有属性和 “受保护的” 属性\n",
    "如果以 \\_\\_mood 的形式命名实例属性，Python 会把属性名存入实例的 \\_\\_dict__ 属性中，并且会在前面加上一个下划线和类名。  \n",
    "因此，对于 Dog 类来说 \\_\\_mood 会变成 \\_Dog\\_\\_mood，这个语言特性叫 _名称改写_"
   ]
  },
  {
   "cell_type": "code",
   "execution_count": 22,
   "metadata": {},
   "outputs": [
    {
     "data": {
      "text/plain": [
       "{'_Vector2d__x': 3.0, '_Vector2d__y': 4.0}"
      ]
     },
     "execution_count": 22,
     "metadata": {},
     "output_type": "execute_result"
    }
   ],
   "source": [
    "v1 = Vector2d(3, 4)\n",
    "v1.__dict__"
   ]
  },
  {
   "cell_type": "markdown",
   "metadata": {},
   "source": [
    "# 9.8 使用 \\_\\_solts__ 类节省空间\n",
    "默认情况下，Python 在各个实例中名为 \\_\\_dict__ 的字典里存储实例属性。为了使用底层的散列表提升访问速度，字典会消耗大量内存。  \n",
    "而通过 \\_\\_solts__ 类属性，能节省大量内存，方法是让解释器在元组中储存实例属性，而不用字典。  \n",
    "继承自超类的 \\_\\_solts__ 属性没有效果。Python 只会使用各个类中定义的 \\_\\_solts__ 属性。"
   ]
  },
  {
   "cell_type": "code",
   "execution_count": null,
   "metadata": {},
   "outputs": [],
   "source": [
    "class Vector2d:\n",
    "    __solts__ = ('__x', '__y')\n",
    "\n",
    "    typecode = 'd'\n",
    "\n",
    "    # 省略"
   ]
  },
  {
   "cell_type": "markdown",
   "metadata": {},
   "source": [
    "\\_\\_solt__ 的问题：\n",
    "* 每个子类都要定义 \\_\\_solt__ 属性，因为解释器会忽略继承的 \\_\\_solt__ 属性\n",
    "* 实例只能拥有 \\_\\_solt__ 中列出的时候，除非把 '\\_\\_dict__' 加入 \\_\\_solt__ 中，但这样会失去节省内存的功效\n",
    "* 如果不把 '\\_\\_weakref__' 加入 \\_\\_solt__，实例就不能作为弱引用的目标"
   ]
  },
  {
   "cell_type": "markdown",
   "metadata": {},
   "source": [
    "# 9.9 覆盖类属性\n",
    "Python 有一个很独特的特效，类属性可用于为实例属性提供默认值。Vector2d 中有个 typecode 类属性，\\_\\_bytes__ 方法两次用到了它，且都是使用 self.typecode 读取。因为 Vector2d 实例本身没有 typecode 属性，所以 self.typecode 默认获取的是 Vector2d.typecode 类属性的值  \n",
    "但是，如果为不存在的实例属性复制，会新建实例属性。加入我们为 typecode 实例属性复制，那么同名类属性不受影响。但自此之后实例读取的 self.typecode 是实例属性 typecode，也就是把同名类属性覆盖了。借助这一特性，可以为各个实例的 typecode 属性定制不同的值。  \n",
    "Vector2d.typecode 属性默认值是 'd'，即转换成字节序列使用 8 字节双精度浮点数表示向量的各个分量。如果在转换之前把 Vector2d 实例的 typecode 属性设为 'f'，那么使用 4 字节单精度浮点数表示各个分量。"
   ]
  },
  {
   "cell_type": "code",
   "execution_count": 23,
   "metadata": {},
   "outputs": [],
   "source": [
    "from array import array\n",
    "import math\n",
    "\n",
    "class Vector2d:\n",
    "    typecode = 'd'  # 类属性，在实例和字节序列之间转换时使用\n",
    "\n",
    "    def __init__(self, x, y) -> None:\n",
    "        self.x = float(x)\n",
    "        self.y = float(y)\n",
    "    \n",
    "    def __iter__(self): # 将实例变成可迭代的对象\n",
    "        return (i for i in (self.x, self.y))\n",
    "    \n",
    "    def __repr__(self) -> str:\n",
    "        class_name = type(self).__name__\n",
    "        return '{}({!r}, {!r})'.format(class_name, *self)   # 用 !r 获取各个分量的表示形式，因为实例是可迭代对象，所以 *self 会把 x 和 y 分量提供给 format 函数\n",
    "\n",
    "    def __str__(self) -> str:\n",
    "        return str(tuple(self))\n",
    "    \n",
    "    def __bytes__(self):\n",
    "        return (bytes([ord(self.typecode)]) + \n",
    "                bytes(array(self.typecode, self)))\n",
    "    \n",
    "    def __eq__(self, other):\n",
    "        return tuple(self) == tuple(other)\n",
    "    \n",
    "    def __abs__(self):\n",
    "        return math.hypot(self.x, self.y)\n",
    "    \n",
    "    def __bool__(self):\n",
    "        return bool(abs(self))"
   ]
  },
  {
   "cell_type": "code",
   "execution_count": 25,
   "metadata": {},
   "outputs": [
    {
     "data": {
      "text/plain": [
       "b'd\\x9a\\x99\\x99\\x99\\x99\\x99\\xf1?\\x9a\\x99\\x99\\x99\\x99\\x99\\x01@'"
      ]
     },
     "execution_count": 25,
     "metadata": {},
     "output_type": "execute_result"
    }
   ],
   "source": [
    "v1 = Vector2d(1.1,2.2)\n",
    "dumpd = bytes(v1)\n",
    "dumpd"
   ]
  },
  {
   "cell_type": "code",
   "execution_count": 26,
   "metadata": {},
   "outputs": [
    {
     "data": {
      "text/plain": [
       "17"
      ]
     },
     "execution_count": 26,
     "metadata": {},
     "output_type": "execute_result"
    }
   ],
   "source": [
    "len(dumpd)"
   ]
  },
  {
   "cell_type": "code",
   "execution_count": 27,
   "metadata": {},
   "outputs": [
    {
     "data": {
      "text/plain": [
       "b'f\\xcd\\xcc\\x8c?\\xcd\\xcc\\x0c@'"
      ]
     },
     "execution_count": 27,
     "metadata": {},
     "output_type": "execute_result"
    }
   ],
   "source": [
    "v1.typecode = 'f'\n",
    "dumpf = bytes(v1)\n",
    "dumpf"
   ]
  },
  {
   "cell_type": "code",
   "execution_count": 28,
   "metadata": {},
   "outputs": [
    {
     "data": {
      "text/plain": [
       "'d'"
      ]
     },
     "execution_count": 28,
     "metadata": {},
     "output_type": "execute_result"
    }
   ],
   "source": [
    "Vector2d.typecode"
   ]
  },
  {
   "cell_type": "markdown",
   "metadata": {},
   "source": [
    "如果想修改类属性的值，必须在类上修改而不是通过实例。"
   ]
  },
  {
   "cell_type": "code",
   "execution_count": null,
   "metadata": {},
   "outputs": [],
   "source": [
    "# 修改类属性的值\n",
    "Vector2d.typecode = 'f'"
   ]
  },
  {
   "cell_type": "code",
   "execution_count": 30,
   "metadata": {},
   "outputs": [
    {
     "name": "stdout",
     "output_type": "stream",
     "text": [
      "(0.09090909090909091, 0.037037037037037035)\n"
     ]
    },
    {
     "data": {
      "text/plain": [
       "b'f\\x8c.\\xba=&\\xb4\\x17='"
      ]
     },
     "execution_count": 30,
     "metadata": {},
     "output_type": "execute_result"
    }
   ],
   "source": [
    "# ShortVector2d 是 Vector2d 的子类，只用于覆盖 typecode 的默认值\n",
    "class ShortVector2d(Vector2d):\n",
    "    typecode = 'f'\n",
    "\n",
    "sv = ShortVector2d(1/11, 1/27)\n",
    "print(sv)\n",
    "bytes(sv)"
   ]
  },
  {
   "cell_type": "markdown",
   "metadata": {},
   "source": [
    "这也说明了我们在 Vector2d.\\_\\_repr__ 中为什么没有硬编吗 class_name 的值，而是使用 type(self)\\_\\_name__ 获取：为了支持继承"
   ]
  }
 ],
 "metadata": {
  "interpreter": {
   "hash": "5fd5d179b353a7924b2269f9ae30affc58451699efad8dcc09c53f37c011c4ba"
  },
  "kernelspec": {
   "display_name": "Python 3.9.1 64-bit ('.venv': venv)",
   "language": "python",
   "name": "python3"
  },
  "language_info": {
   "codemirror_mode": {
    "name": "ipython",
    "version": 3
   },
   "file_extension": ".py",
   "mimetype": "text/x-python",
   "name": "python",
   "nbconvert_exporter": "python",
   "pygments_lexer": "ipython3",
   "version": "3.9.1"
  },
  "orig_nbformat": 4
 },
 "nbformat": 4,
 "nbformat_minor": 2
}
