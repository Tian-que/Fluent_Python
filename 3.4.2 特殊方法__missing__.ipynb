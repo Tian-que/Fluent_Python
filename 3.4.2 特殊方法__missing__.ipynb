{
 "cells": [
  {
   "cell_type": "code",
   "execution_count": null,
   "metadata": {},
   "outputs": [],
   "source": [
    "# 在 __getitem__ 找不到键的时候，python 会自动调用 __missing__ 方法\n",
    "class StrKeyDict0(dict):\n",
    "\n",
    "    def __missing__(self, key):\n",
    "        if isinstance(key, str):\n",
    "            # 如果找不到的 key 本身为 str 那直接抛出 KeyError\n",
    "            raise KeyError(key)\n",
    "        # 否则将其转化为 str 再次查找\n",
    "        return self[str(key)]\n",
    "    \n",
    "    def get(self, key, default=None):\n",
    "        # get 方法把查找工作用 self[key] 的形式委托给 __getitem__\n",
    "        try:\n",
    "            return self[key]\n",
    "        except KeyError:\n",
    "            # 如果 __missing__ 也失败了，则返回默认值\n",
    "            return default\n",
    "\n",
    "    def __contains__(self, key):\n",
    "        # 先按照原本的键值查找, 如果没有则用 str() 转换后再查找一次\n",
    "        return key in self.keys() or str(key) in self.keys()\n"
   ]
  }
 ],
 "metadata": {
  "language_info": {
   "name": "python"
  },
  "orig_nbformat": 4
 },
 "nbformat": 4,
 "nbformat_minor": 2
}
