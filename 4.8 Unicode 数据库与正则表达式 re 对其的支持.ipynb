{
 "cells": [
  {
   "cell_type": "markdown",
   "metadata": {},
   "source": [
    "Unicode 提供了一个完整的数据库，不仅包括码位与字符名称之间的映射，还有各个字符的元数据一级字符之间的关系。  \n",
    "例如：字符是否可以打印、是不是字母、是不是数字、是不是其他数值服号"
   ]
  },
  {
   "cell_type": "code",
   "execution_count": 1,
   "metadata": {},
   "outputs": [
    {
     "name": "stdout",
     "output_type": "stream",
     "text": [
      "U+0031\t  1   \tre_dig\tisdig\tisnum\t 1.00\tDIGIT ONE\n",
      "U+00bc\t  ¼   \t-\t-\tisnum\t 0.25\tVULGAR FRACTION ONE QUARTER\n",
      "U+00b2\t  ²   \t-\tisdig\tisnum\t 2.00\tSUPERSCRIPT TWO\n",
      "U+0969\t  ३   \tre_dig\tisdig\tisnum\t 3.00\tDEVANAGARI DIGIT THREE\n",
      "U+136b\t  ፫   \t-\tisdig\tisnum\t 3.00\tETHIOPIC DIGIT THREE\n",
      "U+216b\t  Ⅻ   \t-\t-\tisnum\t12.00\tROMAN NUMERAL TWELVE\n",
      "U+2466\t  ⑦   \t-\tisdig\tisnum\t 7.00\tCIRCLED DIGIT SEVEN\n",
      "U+2480\t  ⒀   \t-\t-\tisnum\t13.00\tPARENTHESIZED NUMBER THIRTEEN\n",
      "U+3285\t  ㊅   \t-\t-\tisnum\t 6.00\tCIRCLED IDEOGRAPH SIX\n"
     ]
    }
   ],
   "source": [
    "# tag::NUMERICS_DEMO[]\n",
    "import unicodedata\n",
    "import re\n",
    "\n",
    "re_digit = re.compile(r'\\d')\n",
    "\n",
    "sample = '1\\xbc\\xb2\\u0969\\u136b\\u216b\\u2466\\u2480\\u3285'\n",
    "\n",
    "for char in sample:\n",
    "    print(f'U+{ord(char):04x}',                       # U+0000 格式的码位\n",
    "          char.center(6),                             # 在长度为 6 的字符串中居中显示字符\n",
    "          're_dig' if re_digit.match(char) else '-',  # 如果字符匹配正则表达式 r'\\d'，显示 re_dig\n",
    "          'isdig' if char.isdigit() else '-',         # 如果 char.isdiget() 返回 True，显示 isdig\n",
    "          'isnum' if char.isnumeric() else '-',       # 如果 char.isnumeric() 返回 True，显示 isnum\n",
    "          f'{unicodedata.numeric(char):5.2f}',        # 使用长度为 5、小数点后保留 2 位的浮点数显示数值\n",
    "          unicodedata.name(char),                     # Unicode 标准中字符的名称\n",
    "          sep='\\t')\n",
    "# end::NUMERICS_DEMO[]"
   ]
  },
  {
   "cell_type": "markdown",
   "metadata": {},
   "source": [
    "正则表达式并不能完全匹配 isdigit 方法判断为数字的字符。re 模块对 Unicode 的支持并不充分。\n",
    "而 regex 模块可以提供更好的 Unicode 支持"
   ]
  },
  {
   "cell_type": "markdown",
   "metadata": {},
   "source": [
    "在正则表达式中 \\d \\w 等模式只能匹配 ASCII字符  \n",
    "但如果是字符串模式，就能匹配 ASCII 之外的 Unicode 数字或字母。\n",
    "* 字节序列只能由字节序列正则表达式搜索，字节序列即编码后的 Unicode ，即 str.encode('utf-8') 等 \n",
    "* 字符串模式 r'\\d+' 能匹配泰米尔数字和 ASCII 数字\n",
    "* 字节序列模式 rb'\\d+' 只能匹配 ASCII 字节中的数字\n",
    "* 字符串模式 r'\\w+' 能匹配字幕、上标、泰米尔数字和 ASCII 数字\n",
    "* 字节序列模式 rb'\\w+' 只能匹配 ASCII 字节中的字母和数字\n",
    "\n",
    "字符串正则表达式有个 re.ASCII 标志，它让表达式只能匹配 ASCII 字符"
   ]
  }
 ],
 "metadata": {
  "interpreter": {
   "hash": "5fd5d179b353a7924b2269f9ae30affc58451699efad8dcc09c53f37c011c4ba"
  },
  "kernelspec": {
   "display_name": "Python 3.9.1 64-bit ('.venv': venv)",
   "language": "python",
   "name": "python3"
  },
  "language_info": {
   "codemirror_mode": {
    "name": "ipython",
    "version": 3
   },
   "file_extension": ".py",
   "mimetype": "text/x-python",
   "name": "python",
   "nbconvert_exporter": "python",
   "pygments_lexer": "ipython3",
   "version": "3.9.1"
  },
  "orig_nbformat": 4
 },
 "nbformat": 4,
 "nbformat_minor": 2
}
