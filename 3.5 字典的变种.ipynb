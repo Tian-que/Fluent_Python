{
 "cells": [
  {
   "cell_type": "markdown",
   "metadata": {},
   "source": [
    "##### collections.OrdereDict  \n",
    "这个类型添加键的时候会保持顺序，因此键的迭代总是一致的。  \n",
    "OrderedDict 的 popitem 方法默认删除并返回的是字典里的最后一个元素  \n",
    "##### collections.Chainmap  \n",
    "该类型可以容纳数个不同的映射对象，然后在进行键值查找的时候将他们作为一个整体被逐个查找  \n",
    "> ```python\n",
    ">import builtins\n",
    ">pylookup = ChainMap(locals(), globals(), vars(builtins))\n",
    "> ```\n",
    "##### collections.Counter  \n",
    "这个映射器会给键准备一个整数计数器，每次更新一个键的时候都会增加这个计数器"
   ]
  },
  {
   "cell_type": "code",
   "execution_count": null,
   "metadata": {},
   "outputs": [],
   "source": [
    "import collections\n",
    "ct = collections.Counter('abcasdsad')\n",
    "ct\n",
    "ct.update('witch')\n",
    "ct"
   ]
  },
  {
   "cell_type": "markdown",
   "metadata": {},
   "source": [
    "##### collections.UserDict\n",
    "这个类其实就是把标准的 dict 用纯 python 又实现了一遍"
   ]
  }
 ],
 "metadata": {
  "interpreter": {
   "hash": "5fd5d179b353a7924b2269f9ae30affc58451699efad8dcc09c53f37c011c4ba"
  },
  "kernelspec": {
   "display_name": "Python 3.9.1 64-bit ('.venv': venv)",
   "language": "python",
   "name": "python3"
  },
  "language_info": {
   "codemirror_mode": {
    "name": "ipython",
    "version": 3
   },
   "file_extension": ".py",
   "mimetype": "text/x-python",
   "name": "python",
   "nbconvert_exporter": "python",
   "pygments_lexer": "ipython3",
   "version": "3.9.1"
  },
  "orig_nbformat": 4
 },
 "nbformat": 4,
 "nbformat_minor": 2
}
