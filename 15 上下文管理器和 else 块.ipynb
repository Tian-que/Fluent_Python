{
 "cells": [
  {
   "cell_type": "markdown",
   "metadata": {},
   "source": [
    "# 15.1 关于 else：if 之外的 else\n",
    "\n",
    "* for 仅当 for 循环运行完毕时(即 for 循环没有被 break 语句中止)才运行 else 模块\n",
    "* while 仅当 while 循环因为条件为假值而退出时(即 while 循环没有被 break 语句中止) 才运行 else 块\n",
    "* try 仅当 try 块中没有异常抛出时才运行 else 块。\n",
    "\n",
    "在所有情况下，如果异常或者 return、break 或 continue 导致控制器跳到了复合语句的主块之外，else 子句也会被跳过"
   ]
  },
  {
   "cell_type": "markdown",
   "metadata": {},
   "source": [
    "# 15.2 上下文管理和with块\n",
    "\n",
    "上下文管理器协议包含 \\_\\_enter__ 和 \\_\\_exit__ 两个方法，with 语句开始运行时，会在上下文管理器对象上调用 \\_\\_enter__ 方法。with 语句运行结束后，会在上下文管理器对象上调用 \\_\\_exit__ 方法，以此扮演 finally 子句的角色.\n",
    "\n",
    "执行 with 后面的表达式得到的结果是上下文管理器对象，不过，把值绑定到目标变量上 (as 语句) 上在上下文管理器对象上调用 \\_\\_enter__ 方法的结果。\n",
    "\n",
    "不管控制流程以哪种方式退出 with 块，都会在上下文管理器对象上调用 \\_\\_exit__ 方法，而不是在 \\_\\_enter__ 方法返回的对象上 调用\n",
    "\n",
    "with 语句的 as 语句是可选的。对 open 函数来说必须加上 as 子句，以便获取文件的引用。不过有些上下文管理器会返回None，因为没有什么有用的对象提供给用户"
   ]
  },
  {
   "cell_type": "code",
   "execution_count": 12,
   "metadata": {},
   "outputs": [],
   "source": [
    "# LookingGlass 上下文管理器类\n",
    "class LookingGlass:\n",
    "\n",
    "    def __enter__(self):    # 除 self 之外，Python 调用 enter 方法不传入任何参数\n",
    "        import sys\n",
    "        self.original_write = sys.stdout.write  # 把原来的 sys.stdout.write 方法存在一个实例属性中，供后面使用\n",
    "        sys.stdout.write = self.reverse_write   # 为 sys.stdout.write 打猴子补丁，替换成自己编写的方法\n",
    "        return 'JABBERWOCKY'\n",
    "    \n",
    "    def reverse_write(self, text):  # 反转text内容，然后调用原来的实现\n",
    "        self.original_write(text[::-1])\n",
    "    \n",
    "    def __exit__(self, exc_type, exc_value, traceback): \n",
    "        # 如果一切正常，Python 调用 exit 方法时传入的参数是 None，None，None；\n",
    "        # 如果抛出异常，那么它们是异常参数\n",
    "        import sys  # 重复导入模块不会消耗很多资源，因为 Python 会缓存导入的模块\n",
    "        sys.stdout.write = self.original_write  # 还原方法\n",
    "        if exc_type == ZeroDivisionError:   # 如果有异常，而且是指定的异常则打印消息\n",
    "            print(\"Plezse DO NOT divide by zero\")\n",
    "            return True # 返回 True 告诉解释器异常已经处理了\n",
    "        # 如果 exit 方法返回 None，或 True 之外的任何值，with 块中的异常都会向上冒泡"
   ]
  },
  {
   "cell_type": "markdown",
   "metadata": {},
   "source": [
    "解释器传给  \\_\\_exit__ 方法 如下：\n",
    "* exc_type : 异常类\n",
    "* exc_value : 异常实例。有时会有参数传给异常构造方法，例如错误消息，这些参数可以使用 exc_value.args 获取\n",
    "* traceback : traceback 对象"
   ]
  },
  {
   "cell_type": "code",
   "execution_count": 2,
   "metadata": {},
   "outputs": [
    {
     "name": "stdout",
     "output_type": "stream",
     "text": [
      "ecilA\n",
      "YKCOWREBBAJ\n"
     ]
    }
   ],
   "source": [
    "# 测试 LookingGlass 上下文管理器类\n",
    "with LookingGlass() as what:    # enter 方法返回的结果绑定在 what 上\n",
    "    print('Alice')\n",
    "    print(what)\n"
   ]
  },
  {
   "cell_type": "code",
   "execution_count": 13,
   "metadata": {},
   "outputs": [
    {
     "data": {
      "text/plain": [
       "<__main__.LookingGlass at 0x2bf32e772e0>"
      ]
     },
     "execution_count": 13,
     "metadata": {},
     "output_type": "execute_result"
    }
   ],
   "source": [
    "# 在 with 块之外使用 LookingGlass 类\n",
    "manager = LookingGlass()\n",
    "manager"
   ]
  },
  {
   "cell_type": "code",
   "execution_count": 14,
   "metadata": {},
   "outputs": [
    {
     "data": {
      "text/plain": [
       "True"
      ]
     },
     "execution_count": 14,
     "metadata": {},
     "output_type": "execute_result"
    }
   ],
   "source": [
    "monster = manager.__enter__()\n",
    "monster == 'JABBERWOCKY'"
   ]
  },
  {
   "cell_type": "code",
   "execution_count": 9,
   "metadata": {},
   "outputs": [
    {
     "data": {
      "text/plain": [
       "'JABBERWOCKY'"
      ]
     },
     "execution_count": 9,
     "metadata": {},
     "output_type": "execute_result"
    }
   ],
   "source": [
    "monster"
   ]
  },
  {
   "cell_type": "code",
   "execution_count": 11,
   "metadata": {},
   "outputs": [
    {
     "data": {
      "text/plain": [
       "'JABBERWOCKY'"
      ]
     },
     "execution_count": 11,
     "metadata": {},
     "output_type": "execute_result"
    }
   ],
   "source": [
    "manager.__exit__(None, None, None)\n",
    "monster"
   ]
  },
  {
   "cell_type": "markdown",
   "metadata": {},
   "source": [
    "# 15.3 contextlib 模块中的实用工具\n",
    "\n",
    "* closing : 如果对象提供了 close() 方法，但没有实现 \\_\\_enter__/\\_\\_exit__ 协议，那么可以使用这个函数构建上下文管理器\n",
    "* suppress : 构建临时忽略指定异常的上下文管理器\n",
    "* @contextmanager : 这个装饰器把简单的生成器函数变成上下文管理器，这样就不用创建类去实现管理器协议了\n",
    "* ContextDecorator : 这是个基类，用于定义基于类的上下文管理器。这种上下文管理器也能用于装饰函数，在受管理的上下文中运行整个函数\n",
    "* ExitStack : 这个上下文管理器能进入多个 上下文管理器。with 块结束时，ExitStack 按照LIFO顺序调用栈中的各个上下文管理器 \\_\\_exit__ 方法。\n",
    "如果事先不知道 with 块要进入多少个上下文管理器，可以使用这个类。例如同时打开任意一个文件列表中的所有文件"
   ]
  },
  {
   "cell_type": "markdown",
   "metadata": {},
   "source": [
    "# 15.4 使用 @contextmanager\n",
    "\n",
    "@contextmanager 装饰器能减少创建上下文管理器的样板代码量，因为不用编写一个完整的类，只需要实现一个 yield 语句，生成想让 \\_\\_enter__ 方法返回的值。\n",
    "\n",
    "在使用 @contextmanager 装饰的生成器中，yield 语句的作用是把函数的定义体分成两部分 : yield 语句前面的所有代码在 with 块开始执行，yield 语句后面的代码在 with 块结束时执行。"
   ]
  },
  {
   "cell_type": "code",
   "execution_count": null,
   "metadata": {},
   "outputs": [],
   "source": [
    "# 使用 @contextmanager 实现上下文管理器\n",
    "import contextlib\n",
    "\n",
    "@contextlib.contextmanager\n",
    "def looking_glass():\n",
    "    import sys\n",
    "    original_write = sys.stdout.write\n",
    "\n",
    "    def reverse_write(text):\n",
    "        original_write(text[::-1])\n",
    "\n",
    "    sys.stdout.write = reverse_write\n",
    "    yield 'JABBERWOCKY' # 前后分隔\n",
    "    sys.stdout.write = original_write\n"
   ]
  },
  {
   "cell_type": "markdown",
   "metadata": {},
   "source": [
    "contextlib.contextmanager 装饰器会把函数包装成实现了 \\_\\_enter__/\\_\\_exit__ 协议的类\n",
    "\n",
    "这个类的  \\_\\_enter__ 方法有如下作用:\n",
    "1. 调用生成器函数，保存生成器对象(这里把它称为 gen)\n",
    "2. 调用 next(gen)，执行到 yield 关键字所在的位置\n",
    "3. 返回 next(gen) 产出的值，绑定到 as 语句的目标变量上\n",
    "\n",
    "with 块中止时，\\_\\_exit__ 方法会做以下几件事:\n",
    "1. 检查有没有把异常传给 exc_type；如果有，调用 gen.throw(exception)，在生成器函数定义体包含 yield 关键字的那一会抛出异常\n",
    "2. 否则，调用 next(gen)，继续执行 yield 之后的代码\n",
    "\n",
    "上面的代码并没有去处理异常，如果中途抛出异常挑出则会导致 sys.stdout.write 函数无法恢复  \n",
    "下面的代码会修复这个问题"
   ]
  },
  {
   "cell_type": "code",
   "execution_count": null,
   "metadata": {},
   "outputs": [],
   "source": [
    "# 使用 @contextmanager 实现异常处理的上下文管理器\n",
    "import contextlib\n",
    "\n",
    "@contextlib.contextmanager\n",
    "def looking_glass():\n",
    "    import sys\n",
    "    original_write = sys.stdout.write\n",
    "\n",
    "    def reverse_write(text):\n",
    "        original_write(text[::-1])\n",
    "\n",
    "    sys.stdout.write = reverse_write\n",
    "\n",
    "    msg = ''\n",
    "    try:\n",
    "        yield 'JABBERWOCKY' # 前后分隔\n",
    "    except ZeroDivisionError:\n",
    "        msg = 'Please DO NOT divide by zero'\n",
    "    finally:\n",
    "        sys.stdout.write = original_write\n",
    "        if msg:\n",
    "            print(msg)"
   ]
  }
 ],
 "metadata": {
  "interpreter": {
   "hash": "5fd5d179b353a7924b2269f9ae30affc58451699efad8dcc09c53f37c011c4ba"
  },
  "kernelspec": {
   "display_name": "Python 3.9.1 64-bit ('.venv': venv)",
   "language": "python",
   "name": "python3"
  },
  "language_info": {
   "codemirror_mode": {
    "name": "ipython",
    "version": 3
   },
   "file_extension": ".py",
   "mimetype": "text/x-python",
   "name": "python",
   "nbconvert_exporter": "python",
   "pygments_lexer": "ipython3",
   "version": "3.9.1"
  },
  "orig_nbformat": 4
 },
 "nbformat": 4,
 "nbformat_minor": 2
}
