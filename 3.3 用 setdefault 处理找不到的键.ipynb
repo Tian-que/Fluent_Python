{
 "cells": [
  {
   "cell_type": "markdown",
   "metadata": {},
   "source": [
    "对 d.update(m, [**kargs])\n",
    "函数首先检查 m 是否有 keys 方法，如果有， 那么 update 函数就把它当作映射对象处理\n",
    "如果没有， 会把 m 当作包含了键值对 (key, value) 元素的迭代器"
   ]
  },
  {
   "cell_type": "code",
   "execution_count": null,
   "metadata": {},
   "outputs": [],
   "source": [
    "# 用 setdefault 处理找不到的键\n",
    "import sys\n",
    "import re\n",
    "\n",
    "WORE_RE = re.compile('r\\w+')\n",
    "\n",
    "index = {}\n",
    "with open(sys.argv[1], encoding='utf-8') as fp:\n",
    "    for line_no, line in enumerate(fp, 1):\n",
    "        for match in WORE_RE.finditer(line):\n",
    "            word = match.group()\n",
    "            column_no = match.start()+1\n",
    "            location = (line_no, column_no)\n",
    "            # 使用 setdefault 处理这种情况\n",
    "            # occurrences = index.get(word, [])\n",
    "            # occurrences.append(location)\n",
    "            # index[word] = occurrences\n",
    "            index.setdefault(word, []).append(location)\n",
    "\n",
    "for word in sorted(index, key=str.upper):\n",
    "    print(word, index[word])"
   ]
  },
  {
   "cell_type": "code",
   "execution_count": 35,
   "metadata": {},
   "outputs": [],
   "source": [
    "index = {'a': '1', 'b': [5]}\n",
    "index.setdefault('a', []) + '3'\n",
    "index.setdefault('b', []).append(10)\n",
    "c= []\n",
    "d= []\n",
    "d.append(5)\n",
    "e = (c + d)\n",
    "e.append(10)"
   ]
  },
  {
   "cell_type": "code",
   "execution_count": null,
   "metadata": {},
   "outputs": [],
   "source": [
    "my_dict.setdefault(key, []).append(new_value)\n",
    "# 这样与\n",
    "if key not in my_dict:\n",
    "    my_dict[key] = []\n",
    "my_dict[key].append(new_value)\n",
    "#作用相同"
   ]
  }
 ],
 "metadata": {
  "interpreter": {
   "hash": "3648eb3f7f4630f95e394f9f35792eb27dd4017d60edd3fc045930b560630e51"
  },
  "kernelspec": {
   "display_name": "Python 3.9.1 64-bit",
   "language": "python",
   "name": "python3"
  },
  "language_info": {
   "codemirror_mode": {
    "name": "ipython",
    "version": 3
   },
   "file_extension": ".py",
   "mimetype": "text/x-python",
   "name": "python",
   "nbconvert_exporter": "python",
   "pygments_lexer": "ipython3",
   "version": "3.9.1"
  },
  "orig_nbformat": 4
 },
 "nbformat": 4,
 "nbformat_minor": 2
}
