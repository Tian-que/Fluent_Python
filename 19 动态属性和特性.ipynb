{
 "cells": [
  {
   "cell_type": "markdown",
   "metadata": {},
   "source": [
    "在 Python 中，数据的属性和处理方法统称属性。其实，方法是可调用的属性。\n",
    "除了这二者之外，我们还可以创建特性 (prorerty)，在不该变类接口的前提下，使用存取方法修改数据属性。"
   ]
  },
  {
   "cell_type": "markdown",
   "metadata": {},
   "source": [
    "# 19.1 使用动态属性转换数据\n",
    "\n",
    "osconfeed.json 文件的记录示例；节略了部分字段的内容"
   ]
  },
  {
   "cell_type": "code",
   "execution_count": 1,
   "metadata": {},
   "outputs": [],
   "source": [
    "# BEGIN OSCONFEED 下载 json 用的脚本\n",
    "from urllib.request import urlopen\n",
    "import warnings\n",
    "import os\n",
    "import json\n",
    "\n",
    "URL = 'http://www.oreilly.com/pub/sc/osconfeed'\n",
    "JSON = 'data/osconfeed.json'\n",
    "\n",
    "\n",
    "def load():\n",
    "    if not os.path.exists(JSON):\n",
    "        msg = 'downloading {} to {}'.format(URL, JSON)\n",
    "        warnings.warn(msg)  # 如果需要下载，就发出提醒\n",
    "        with urlopen(URL) as remote, open(JSON, 'wb') as local:  # 在 with 语句使用两个上下文管理器分别用于读取和保存远程文件\n",
    "            local.write(remote.read())\n",
    "\n",
    "    with open(JSON) as fp:\n",
    "        return json.load(fp)  # 解析 JSON 文件，返回 Python 原生对象。\n",
    "\n",
    "# END OSCONFEED\n"
   ]
  },
  {
   "cell_type": "code",
   "execution_count": 3,
   "metadata": {},
   "outputs": [
    {
     "data": {
      "text/plain": [
       "['conferences', 'events', 'speakers', 'venues']"
      ]
     },
     "execution_count": 3,
     "metadata": {},
     "output_type": "execute_result"
    }
   ],
   "source": [
    "feed = load()\n",
    "sorted(feed['Schedule'].keys())"
   ]
  },
  {
   "cell_type": "code",
   "execution_count": 4,
   "metadata": {},
   "outputs": [
    {
     "name": "stdout",
     "output_type": "stream",
     "text": [
      "  1 conferences\n",
      "484 events\n",
      "357 speakers\n",
      " 53 venues\n"
     ]
    }
   ],
   "source": [
    "for key, value in sorted(feed['Schedule'].items()):\n",
    "    print('{:3} {}'.format(len(value), key)) "
   ]
  },
  {
   "cell_type": "markdown",
   "metadata": {},
   "source": [
    "## 19.1.1 使用动态属性访问 JSON 类数据\n",
    "\n",
    "我们实现了一个 FrozenJSON 类，只支持读取，即只能访问数据，不过这个类能递归，自动处理嵌套的映射和列表。"
   ]
  },
  {
   "cell_type": "markdown",
   "metadata": {},
   "source": [
    "```python\n",
    "# BEGIN EXPLORE0_DEMO\n",
    "  >>> from osconfeed import load\n",
    "  >>> raw_feed = load()\n",
    "  >>> feed = FrozenJSON(raw_feed)  # 传入嵌套的字典和列表组成的 raw_feed，创建一个 FrozenJSON 实例。\n",
    "  >>> len(feed.Schedule.speakers)  # FrozenJSON 实例能使用属性表示法遍历嵌套的字典；这里，我们获取列表的元素数量\n",
    "  357\n",
    "  >>> sorted(feed.Schedule.keys())  # 也可以使用底层字典的方法，如 keys()\n",
    "  ['conferences', 'events', 'speakers', 'venues']\n",
    "  >>> for key, value in sorted(feed.Schedule.items()): # 使用 items() 方法获取各个记录集合及其内容，然后显示各个记录集合中的元素数量\n",
    "  ...     print('{:3} {}'.format(len(value), key))\n",
    "  ...\n",
    "    1 conferences\n",
    "  484 events\n",
    "  357 speakers\n",
    "    53 venues\n",
    "  >>> feed.Schedule.speakers[-1].name  # 如果内部元素是映射，会转换成 ForzenJSON 对象\n",
    "  'Carina C. Zona'\n",
    "  >>> talk = feed.Schedule.events[40]\n",
    "  >>> type(talk) \n",
    "  <class 'explore0.FrozenJSON'>\n",
    "  >>> talk.name\n",
    "  'There *Will* Be Bugs'\n",
    "  >>> talk.speakers  # 事件记录中有一个 speakers 列表，列出演讲者的编号\n",
    "  [3471, 5199]\n",
    "  >>> talk.flavor  # 读取不存在的记录会抛出 KeyError 异常\n",
    "  Traceback (most recent call last):\n",
    "    ...\n",
    "  KeyError: 'flavor'\n",
    "\n",
    "# END EXPLORE0_DEMO\n",
    "```"
   ]
  },
  {
   "cell_type": "markdown",
   "metadata": {},
   "source": [
    "FrozenJSON 类的关键是 \\_\\_getattr__ 方法。仅当无法使用常规方式获取属性，解释器才会调用特殊的 \\_\\_getattr__ 方法"
   ]
  },
  {
   "cell_type": "code",
   "execution_count": 6,
   "metadata": {},
   "outputs": [],
   "source": [
    "# BEGIN EXPLORE0\n",
    "from collections import abc\n",
    "\n",
    "\n",
    "class FrozenJSON:\n",
    "    \"\"\"一个只读接口，使用属性表示法访问JSON类对象\n",
    "    \"\"\"\n",
    "\n",
    "    def __init__(self, mapping):\n",
    "        self.__data = dict(mapping)  # 使用 mapping 参数构建一个字典，这么做有两个好处，一是确认传入的是字典，二是生成副本\n",
    "\n",
    "    def __getattr__(self, name):  # 进且仅当没有指定名称的属性时才会调用 __getattr__ 方法\n",
    "        if hasattr(self.__data, name):\n",
    "            return getattr(self.__data, name)  # 如果 name 是实例属性 __data 的属性，返回那个属性。调用 keys 等方法就是通过这种方式处理的\n",
    "        else:\n",
    "            return FrozenJSON.build(self.__data[name])  # 否则，从 self.__data 获取 name 键对应的元素，返回调用 FrozenJSON.build() 方法得到的结果\n",
    "\n",
    "    @classmethod\n",
    "    def build(cls, obj):  # 这是一个备选构造方法\n",
    "        if isinstance(obj, abc.Mapping):  # 如果 obj 是映射，那就构造一个 FrozenJSON 对象\n",
    "            return cls(obj)\n",
    "        elif isinstance(obj, abc.MutableSequence):  # 如果是 MutableSequence 对象，必然是列表，因此，我们把 obj 中每个元素递归传给 .build() 方法，构建一个列表\n",
    "            return [cls.build(item) for item in obj]\n",
    "        else:  # 对于其他元素，原封不动地返回\n",
    "            return obj\n",
    "# END EXPLORE0"
   ]
  },
  {
   "cell_type": "markdown",
   "metadata": {},
   "source": [
    "注意，我们没有缓存或转换原始数据源。在迭代数据源的过程中，嵌套的数据结构不断被转换成 FrozenJSON 对象。"
   ]
  },
  {
   "cell_type": "markdown",
   "metadata": {},
   "source": [
    "## 19.1.2 处理无效属性名\n",
    "\n",
    "FrozenJSON 类有个缺陷: 没有对名称为 Python 关键字的属性做特殊处理，比如说以下情况：\n",
    "```python\n",
    "    >>> grad = FrozenJSON({'name': 'Jim Bo', 'class': 1982})\n",
    "```\n",
    "此时无法读取 grad.class 的值，因为在 Python 中 class 是保留字\n",
    "\n",
    "当然，可以这么做:\n",
    "```python\n",
    "    >>> getattr(grad, 'class')\n",
    "    1982\n",
    "```\n",
    "但是，FrozenJSON 类的目的是为了便于访问数据，因此更好的方法是检查传给 FrozenJSON.\\_\\_init__ 方法的映射中是否有键的名称为关键字，如果有，那么在键名后加上_，然后通过以下方式读取:\n",
    "```python\n",
    "    >>> grad.class_\n",
    "    1982\n",
    "```\n",
    "因此，我们需要修改初始化方法"
   ]
  },
  {
   "cell_type": "code",
   "execution_count": null,
   "metadata": {},
   "outputs": [],
   "source": [
    "# BEGIN EXPLORE1\n",
    "    def __init__(self, mapping):\n",
    "        self.__data = {}\n",
    "        for key, value in mapping.items():\n",
    "            if keyword.iskeyword(key):  # keyword.iskeyword\n",
    "                key += '_'\n",
    "            self.__data[key] = value\n",
    "# END EXPLORE1"
   ]
  },
  {
   "cell_type": "markdown",
   "metadata": {},
   "source": [
    "如果 JSON 对象中的键不是有效的 Python 标识符，也会遇到类似的问题:"
   ]
  },
  {
   "cell_type": "code",
   "execution_count": 8,
   "metadata": {},
   "outputs": [
    {
     "ename": "SyntaxError",
     "evalue": "invalid syntax (Temp/ipykernel_12976/4144259857.py, line 2)",
     "output_type": "error",
     "traceback": [
      "\u001b[1;36m  File \u001b[1;32m\"C:\\Users\\16052\\AppData\\Local\\Temp/ipykernel_12976/4144259857.py\"\u001b[1;36m, line \u001b[1;32m2\u001b[0m\n\u001b[1;33m    x.2be\u001b[0m\n\u001b[1;37m     ^\u001b[0m\n\u001b[1;31mSyntaxError\u001b[0m\u001b[1;31m:\u001b[0m invalid syntax\n"
     ]
    }
   ],
   "source": [
    "x = FrozenJSON({'2be': 'or not'})\n",
    "x.2be"
   ]
  },
  {
   "cell_type": "markdown",
   "metadata": {},
   "source": [
    "这种有问题的键在 Python3 中易于检测，因为 str 类提供的 s.isidentifier() 方法能根据语言的语法判断 s 是否为有效的 Python 标识符。但把无效的标识符变成有效的属性名却不容易。对此，有两个简单的解决办法，一个是抛出异常，另一个是把无效的键换成通用名称。例如 attr_0、attr_1，等等。为了简单起见，我将忽略这个问题"
   ]
  },
  {
   "cell_type": "markdown",
   "metadata": {},
   "source": [
    "## 19.1.3 使用 \\_\\_new__ 方法以灵活的方式创建对象\n",
    "\n",
    "我们通常把 \\_\\_init__ 称为构造方法，这是从其他语言借鉴过来的属于。其实，用于构建实例的是特殊方法 \\_\\_new__ :   这是个类方法，必须返回一个实例。返回的实例会作为第一个参数(即self)传给 \\_\\_init__ 方法，因为调用 \\_\\_init__ 方法时要传入实例，而且禁止返回任何值，所以 \\_\\_init__ 方法其实是初始化方法。真正的构造方法是 \\_\\_new__ 。我们几乎不需要自己编写 \\_\\_new__ 方法，因为继承的实现就足够了。\n",
    "\n",
    "但是 \\_\\_new__ 方法也可以返回其他类的实例，此时，解释器不会调用 \\_\\_init__ 方法。\n",
    "\n",
    "Python 构建对象的过程可以用下述伪代码概括: \n",
    "```python\n",
    "    # 构建对象的伪代码\n",
    "    def object_maker(the_class, some_arg):\n",
    "        new_object = the_class.__new__(some_arg)\n",
    "        if isintance(new_object, the_class):\n",
    "            the_class.__init__(new_object, some_arg)\n",
    "```"
   ]
  },
  {
   "cell_type": "code",
   "execution_count": 10,
   "metadata": {},
   "outputs": [
    {
     "ename": "IndentationError",
     "evalue": "unindent does not match any outer indentation level (<tokenize>, line 18)",
     "output_type": "error",
     "traceback": [
      "\u001b[1;36m  File \u001b[1;32m\"<tokenize>\"\u001b[1;36m, line \u001b[1;32m18\u001b[0m\n\u001b[1;33m    0p      self.__data = {}\u001b[0m\n\u001b[1;37m    ^\u001b[0m\n\u001b[1;31mIndentationError\u001b[0m\u001b[1;31m:\u001b[0m unindent does not match any outer indentation level\n"
     ]
    }
   ],
   "source": [
    "# BEGIN EXPLORE2\n",
    "from collections import abc\n",
    "\n",
    "\n",
    "class FrozenJSON:\n",
    "    \"\"\"一个只读接口，使用属性表示法访问JSON类对象\n",
    "    \"\"\"\n",
    "\n",
    "    def __new__(cls, arg):  # 类方法，第一个参数是类本身，余下的参数与 __init__ 方法一样，只不过没有 self\n",
    "        if isinstance(arg, abc.Mapping):\n",
    "            return super().__new__(cls)  # 默认是行为是委托给超类的 new 方法，把唯一的参数设为 FrozenJSON\n",
    "        elif isinstance(arg, abc.MutableSequence):  # 余下的代码与原先的 build 方法完全一样\n",
    "            return [cls(item) for item in arg]\n",
    "        else:\n",
    "            return arg\n",
    "\n",
    "    def __init__(self, mapping):\n",
    "        self.__data = {}\n",
    "        for key, value in mapping.items():\n",
    "            if iskeyword(key):\n",
    "                key += '_'\n",
    "            self.__data[key] = value\n",
    "\n",
    "    def __getattr__(self, name):\n",
    "        if hasattr(self.__data, name):\n",
    "            return getattr(self.__data, name)\n",
    "        else:\n",
    "            return FrozenJSON(self.__data[name])  # 之前，这里调用的是 FrozenJSON.build 方法，现在只需调用 FrozenJSON 构造方法\n",
    "# END EXPLORE2"
   ]
  },
  {
   "cell_type": "markdown",
   "metadata": {},
   "source": [
    "##  19.1.4 使用 shelve 模块调整 OSCON 数据源的结果\n",
    "\n",
    "shelve(架子)模块提供了pickle(泡菜)存储方式。\n",
    "\n",
    "shelve.open 高阶函数返回一个 shelve.Shelf 实例，这是简单的键值对象数据库，背后由 dbm 模块支持，具有下述特点。\n",
    "* shelve.Shelf 是 abc.MutableMapping 的子类，因此提供了处理映射类型的重要方法\n",
    "* 此外，shelve.Shelf 类还提供了几个管理 I/0 的方法，如 sync 和 close；它也是一个上下文管理器\n",
    "* 只要把新值赋予键，就会保存键和值\n",
    "* 键必须是字符串\n",
    "* 值必须是 pickle 模块能处理的对象\n",
    "\n",
    "shelve 为识别 OSCON 的日程数据提供了以中简单有效的方式。我们将从 JSON 文件中读取所有记录，将其存在一个 shelve.Shelf 对象中，键由记录类型和编号组成，而值是我们即将定义的 Record 类的实例。"
   ]
  },
  {
   "cell_type": "markdown",
   "metadata": {},
   "source": [
    "测试 schedule1 脚本\n",
    "```python\n",
    "# BEGIN SCHEDULE1_DEMO\n",
    "    >>> import shelve\n",
    "    >>> db = shelve.open(DB_NAME)  # shelve.open 函数打开现有的数据库文件，或者新建一个\n",
    "    >>> if CONFERENCE not in db:  # 判断数据库是否填充的简便方法是，检查某个已知的键是否存在；这里检查的键是 conference.115，即 conference 记录的一个键\n",
    "    ...     load_db(db)  # 如果数据库是空的，使用 load_db 加载数据\n",
    "    ...\n",
    "    >>> speaker = db['speaker.3471']  # 获取一条 speaker 数据\n",
    "    >>> type(speaker)  # 打印类型为 Record 实例\n",
    "    <class 'schedule1.Record'>\n",
    "    >>> speaker.name, speaker.twitter  # 每个 Record 实例都有一系列自定义的属性，对应于底层 JSON 记录里的字段\n",
    "    ('Anna Martelli Ravenscroft', 'annaraven')\n",
    "    >>> db.close()  # 一定要记得关闭 shelve.Shelf 对象。\n",
    "\n",
    "# END SCHEDULE1_DEMO\n",
    "```"
   ]
  },
  {
   "cell_type": "code",
   "execution_count": null,
   "metadata": {},
   "outputs": [],
   "source": [
    "# BEGIN OSCONFEED\n",
    "from urllib.request import urlopen\n",
    "import warnings\n",
    "import os\n",
    "import json\n",
    "\n",
    "URL = 'http://www.oreilly.com/pub/sc/osconfeed'\n",
    "JSON = 'data/osconfeed.json'\n",
    "\n",
    "\n",
    "def load():\n",
    "    if not os.path.exists(JSON):\n",
    "        msg = 'downloading {} to {}'.format(URL, JSON)\n",
    "        warnings.warn(msg)  # <1>\n",
    "        with urlopen(URL) as remote, open(JSON, 'wb') as local:\n",
    "            local.write(remote.read())\n",
    "\n",
    "    with open(JSON) as fp:\n",
    "        return json.load(fp)\n",
    "\n",
    "# END OSCONFEED\n",
    "\n",
    "# BEGIN SCHEDULE1\n",
    "import warnings\n",
    "\n",
    "DB_NAME = 'data/schedule1_db'\n",
    "CONFERENCE = 'conference.115'\n",
    "\n",
    "\n",
    "class Record:\n",
    "    def __init__(self, **kwargs):\n",
    "        self.__dict__.update(kwargs)  # 这是使用关键字参数传入的属性构建实例的常用简便方式\n",
    "\n",
    "\n",
    "def load_db(db):\n",
    "    raw_data = load()  # 如果本地没有副本，从网上下载\n",
    "    warnings.warn('loading ' + DB_NAME)\n",
    "    for collection, rec_list in raw_data['Schedule'].items():  # 迭代集合\n",
    "        record_type = collection[:-1]  # record_type 的值是去掉尾部 's' 后的集合名( events -> event )\n",
    "        for record in rec_list:\n",
    "            key = '{}.{}'.format(record_type, record['serial'])  # 使用 record_type 和 serial 字段构成 key\n",
    "            record['serial'] = key  # 把 serial 字段的值设为完整的键\n",
    "            db[key] = Record(**record)  # 构建 Record 实例，存储在数据库的 key 键名下\n",
    "\n",
    "# END SCHEDULE1"
   ]
  },
  {
   "cell_type": "markdown",
   "metadata": {},
   "source": [
    "## 19.1.5 使用特性获取链接的记录\n",
    "\n",
    "下一个版本的目标是，对于从 Shelf 对象中获取的 event 记录来说，读取它的 venue 或 speakers 属性时返回的不是编号，而是完整的记录对象。"
   ]
  },
  {
   "cell_type": "markdown",
   "metadata": {},
   "source": [
    "测试 schedule2 脚本\n",
    "```python\n",
    "# BEGIN SCHEDULE2_DEMO\n",
    "\n",
    "    >>> DbRecord.set_db(db)  # DbRecord 类扩展 Recode 类，添加对数据库的支持\n",
    "    >>> event = DbRecord.fetch('event.33950')  # DbRecord.fetch 类方法能获取任何数据类型\n",
    "    >>> event  # event 是 Event 类的实例，而 Event 类扩展 DbRecord 类\n",
    "    <Event 'There *Will* Be Bugs'>\n",
    "    >>> event.venue  # event.venue 返回一个 DbRecord 实例\n",
    "    <DbRecord serial='venue.1449'>\n",
    "    >>> event.venue.name \n",
    "    'Portland 251'\n",
    "    >>> for spkr in event.speakers:  # 还可以迭代 event.speakers 列表\n",
    "    ...     print('{0.serial}: {0.name}'.format(spkr))\n",
    "    ...\n",
    "    speaker.3471: Anna Martelli Ravenscroft\n",
    "    speaker.5199: Alex Martelli\n",
    "\n",
    "# END SCHEDULE2_DEMO\n",
    "```"
   ]
  },
  {
   "cell_type": "code",
   "execution_count": 15,
   "metadata": {},
   "outputs": [
    {
     "name": "stdout",
     "output_type": "stream",
     "text": [
      "123\n",
      "Foo!\n",
      "inner\n"
     ]
    }
   ],
   "source": [
    "class MyType(type):\n",
    "    print(123)\n",
    "    def __init__(cls, name, bases, attr_dict):\n",
    "        super().__init__(name, bases, attr_dict)\n",
    "\n",
    "        def inner(self):\n",
    "            print('inner')\n",
    "        \n",
    "        cls.method_z = inner\n",
    "    \n",
    "    def __new__(cls, name, bases, attr_dict):\n",
    "        # 创建类\n",
    "        new_cls = super().__new__(cls, name, bases, attr_dict)\n",
    "        return new_cls\n",
    "    \n",
    "    def __call__(self, *args, **kwargs):\n",
    "        # 1.调用子类 new 方法创建对象\n",
    "        empty_object = self.__new__(self)\n",
    "\n",
    "        # 2.调用子类 init 初始化\n",
    "        self.__init__(empty_object, *args, **kwargs)\n",
    "\n",
    "        return empty_object\n",
    "\n",
    "class Foo(object, metaclass = MyType):\n",
    "    def __init__(self, name):\n",
    "        self.name = name\n",
    "    \n",
    "    def __call__(self, *args, **kwargs):\n",
    "        print('Foo!')\n",
    "\n",
    "    def method_z(self):\n",
    "        print('method_z')\n",
    "\n",
    "v1 = Foo('123')\n",
    "v1()\n",
    "v1.method_z()"
   ]
  }
 ],
 "metadata": {
  "interpreter": {
   "hash": "5fd5d179b353a7924b2269f9ae30affc58451699efad8dcc09c53f37c011c4ba"
  },
  "kernelspec": {
   "display_name": "Python 3.9.1 64-bit ('.venv': venv)",
   "language": "python",
   "name": "python3"
  },
  "language_info": {
   "codemirror_mode": {
    "name": "ipython",
    "version": 3
   },
   "file_extension": ".py",
   "mimetype": "text/x-python",
   "name": "python",
   "nbconvert_exporter": "python",
   "pygments_lexer": "ipython3",
   "version": "3.9.1"
  },
  "orig_nbformat": 4
 },
 "nbformat": 4,
 "nbformat_minor": 2
}
