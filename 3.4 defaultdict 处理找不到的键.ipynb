{
 "cells": [
  {
   "cell_type": "code",
   "execution_count": 7,
   "metadata": {},
   "outputs": [
    {
     "data": {
      "text/plain": [
       "list"
      ]
     },
     "execution_count": 7,
     "metadata": {},
     "output_type": "execute_result"
    }
   ],
   "source": [
    "import sys\n",
    "import re\n",
    "import collections\n",
    "\n",
    "'''\n",
    "创建新字典\n",
    "dd = defaultdict(list)\n",
    "如果键 'new-key' 在 dd 中不存在的话，表达式 dd['new-key'] 会按照以下的步骤行事:\n",
    "(1) 调用 list() 来建立一个新列表\n",
    "(2) 把这个新列表作为值, 'new-key' 作为键， 放到 dd 中\n",
    "(3) 返回这个新列表的引用\n",
    "\n",
    "这个用来生成默认值的可调用对象放在名为 default_factory 的实例属性里\n",
    "'''\n",
    "index = collections.defaultdict(list)\n",
    "index['a'].append(5)\n",
    "index.default_factory\n",
    "\n",
    "# 注意 default_factory 只会在 __getitem__ 里调用，在其他的方法里不会生效，比如：\n",
    "# dd 是个 defaultdict， k 是个找不到的键，dd[k] 这个表达式会调用 default_factory，而 dd.get(k) 则会返回 None"
   ]
  }
 ],
 "metadata": {
  "interpreter": {
   "hash": "3648eb3f7f4630f95e394f9f35792eb27dd4017d60edd3fc045930b560630e51"
  },
  "kernelspec": {
   "display_name": "Python 3.9.1 64-bit",
   "language": "python",
   "name": "python3"
  },
  "language_info": {
   "codemirror_mode": {
    "name": "ipython",
    "version": 3
   },
   "file_extension": ".py",
   "mimetype": "text/x-python",
   "name": "python",
   "nbconvert_exporter": "python",
   "pygments_lexer": "ipython3",
   "version": "3.9.1"
  },
  "orig_nbformat": 4
 },
 "nbformat": 4,
 "nbformat_minor": 2
}
