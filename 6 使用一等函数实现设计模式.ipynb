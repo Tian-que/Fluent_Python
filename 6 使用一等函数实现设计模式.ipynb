{
 "cells": [
  {
   "cell_type": "markdown",
   "metadata": {},
   "source": [
    "# 6.1 重构“策略”模式\n",
    "\n",
    "假如一个网店指定了下述折扣规则\n",
    "* 有 1000 或以上积分的顾客，每个订单享 5% 的折扣\n",
    "* 同一个订单中，单个商品的数量达到 20 个或以上，享 10% 折扣\n",
    "* 订单中的不同商品达到 10 个或以上，享 7% 折扣\n",
    "\n",
    "简单起见，我们假定一个订单只能享用一次折扣\n",
    "名词解释：\n",
    "* 上下文    把一些计算委托给不同算法的可交互组件，它提供服务。在这个示例中，上下文是 Order，他会根据不同的算法计算折扣\n",
    "* 策略      实现不同算法的组件的共同接口。在这个示例中，名为 Promotion 的抽象类扮演这个角色\n",
    "* 具体策略  “策略” 的具体子类。 fidelityPromo、BulkPromo 和 LargeOrderPromo 是这里实现的三个具体策略"
   ]
  },
  {
   "cell_type": "code",
   "execution_count": 5,
   "metadata": {},
   "outputs": [],
   "source": [
    "# 实现 Order 类\n",
    "from abc import ABC, abstractmethod\n",
    "from collections import namedtuple\n",
    "\n",
    "Customer = namedtuple('Customer', 'name fidelity')\n",
    "\n",
    "class LineItem:\n",
    "\n",
    "    def __init__(self, product, quantity, price) -> None:\n",
    "        self.product = product\n",
    "        self.quantity = quantity\n",
    "        self.price = price\n",
    "\n",
    "    def total(self):\n",
    "        return self.price * self.quantity\n",
    "\n",
    "class Order: # 上下文\n",
    "\n",
    "    def __init__(self, customer, cart, promotion = None) -> None:\n",
    "        self.customer = customer\n",
    "        self.cart = list(cart)\n",
    "        self.promotion = promotion\n",
    "    \n",
    "    def total(self):\n",
    "        if not hasattr(self, '__total'):\n",
    "            self.__total = sum(item.total() for item in self.cart)\n",
    "        return self.__total\n",
    "    \n",
    "    def due(self):\n",
    "        if self.promotion is None:\n",
    "            discount = 0\n",
    "        else:\n",
    "            discount = self.promotion.discount(self)\n",
    "        return self.total() - discount\n",
    "    \n",
    "    def __repr__(self) -> str:\n",
    "        fmt = '<Order total: {:.2f} due : {:.2f}>'\n",
    "        return fmt.format(self.total(), self.due())\n",
    "\n",
    "class Promotion(ABC):   # 策略:抽象基类\n",
    "\n",
    "    @abstractmethod\n",
    "    def discount(self, order):\n",
    "        \"\"\"返回折扣金额(正值)\"\"\"\n",
    "\n",
    "class FidelityPromo(Promotion): # 第一个具体策略\n",
    "    \"\"\"为积分为 1000 及以上的用户提供 5% 折扣\"\"\"\n",
    "\n",
    "    def discount(self, order):\n",
    "        return order.total() * .05 if order.customer.fidelity >= 1000 else 0\n",
    "\n",
    "class BulkItemPromo(Promotion): # 第二个具体策略\n",
    "    \"\"\"单个商品 20 个及以上时提供 10% 折扣\"\"\"\n",
    "\n",
    "    def discount(self, order):\n",
    "        discount = 0\n",
    "        for item in order.cart:\n",
    "            if item.quantity >= 20:\n",
    "                discount += item.total() * .1\n",
    "        return discount\n",
    "\n",
    "class LargeOrderPromo(Promotion):   # 第三个具体策略\n",
    "    \"\"\"订单中的不同商品达到 10 个或以上时提供 7% 折扣\"\"\"\n",
    "\n",
    "    def discount(self, order):\n",
    "        distinct_items = {item.product for item in order.cart}\n",
    "        if len(distinct_items) >= 10:\n",
    "            return order.total() * .07\n",
    "        return 0"
   ]
  },
  {
   "cell_type": "code",
   "execution_count": 6,
   "metadata": {},
   "outputs": [
    {
     "data": {
      "text/plain": [
       "<Order total: 42.00 due : 42.00>"
      ]
     },
     "execution_count": 6,
     "metadata": {},
     "output_type": "execute_result"
    }
   ],
   "source": [
    "joe = Customer('John Doe', 0)\n",
    "ann = Customer('Ann Smith', 1100)\n",
    "cart = [\n",
    "    LineItem('banana', 4, .5),\n",
    "    LineItem('apple', 10, 1.5),\n",
    "    LineItem('watermellon', 5, 5.0)\n",
    "]\n",
    "\n",
    "Order(joe, cart, FidelityPromo())"
   ]
  },
  {
   "cell_type": "code",
   "execution_count": 7,
   "metadata": {},
   "outputs": [
    {
     "data": {
      "text/plain": [
       "<Order total: 42.00 due : 39.90>"
      ]
     },
     "execution_count": 7,
     "metadata": {},
     "output_type": "execute_result"
    }
   ],
   "source": [
    "Order(ann, cart, FidelityPromo())"
   ]
  },
  {
   "cell_type": "code",
   "execution_count": 8,
   "metadata": {},
   "outputs": [
    {
     "data": {
      "text/plain": [
       "<Order total: 30.00 due : 28.50>"
      ]
     },
     "execution_count": 8,
     "metadata": {},
     "output_type": "execute_result"
    }
   ],
   "source": [
    "banana_cart = [\n",
    "    LineItem('banana', 30, .5),\n",
    "    LineItem('apple', 10, 1.5)\n",
    "]\n",
    "Order(joe, banana_cart, BulkItemPromo())"
   ]
  },
  {
   "cell_type": "code",
   "execution_count": 9,
   "metadata": {},
   "outputs": [
    {
     "data": {
      "text/plain": [
       "<Order total: 10.00 due : 9.30>"
      ]
     },
     "execution_count": 9,
     "metadata": {},
     "output_type": "execute_result"
    }
   ],
   "source": [
    "long_order = [LineItem(str(item_code), 1, 1.0) for item_code in range(10)]\n",
    "Order(joe, long_order, LargeOrderPromo())"
   ]
  },
  {
   "cell_type": "code",
   "execution_count": 12,
   "metadata": {},
   "outputs": [],
   "source": [
    "# 使用函数实现”策略“模式\n",
    "from collections import namedtuple\n",
    "\n",
    "Customer = namedtuple('Customer', 'name fidelity')\n",
    "\n",
    "class LineItem:\n",
    "\n",
    "    def __init__(self, product, quantity, price) -> None:\n",
    "        self.product = product\n",
    "        self.quantity = quantity\n",
    "        self.price = price\n",
    "\n",
    "    def total(self):\n",
    "        return self.price * self.quantity\n",
    "\n",
    "class Order:\n",
    "\n",
    "    def __init__(self, customer, cart, promotion = None) -> None:\n",
    "        self.customer = customer\n",
    "        self.cart = list(cart)\n",
    "        self.promotion = promotion\n",
    "    \n",
    "    def total(self):\n",
    "        if not hasattr(self, '__total'):\n",
    "            self.__total = sum(item.total() for item in self.cart)\n",
    "        return self.__total\n",
    "    \n",
    "    def due(self):\n",
    "        if self.promotion is None:\n",
    "            discount = 0\n",
    "        else:\n",
    "            discount = self.promotion(self) # 此处直接调用函数\n",
    "        return self.total() - discount\n",
    "    \n",
    "    def __repr__(self) -> str:\n",
    "        fmt = '<Order total: {:.2f} due : {:.2f}>'\n",
    "        return fmt.format(self.total(), self.due())\n",
    "\n",
    "# 没有使用抽象基类\n",
    "\n",
    "def fidelity_promo(order): # 直接定义函数而不是类\n",
    "    return order.total() * .05 if order.customer.fidelity >= 1000 else 0\n",
    "\n",
    "def bulk_item_promo(order):\n",
    "    discount = 0\n",
    "    for item in order.cart:\n",
    "        if item.quantity >= 20:\n",
    "            discount += item.total() * .1\n",
    "    return discount\n",
    "\n",
    "def large_order_promo(order):\n",
    "    distinct_items = {item.product for item in order.cart}\n",
    "    if len(distinct_items) >= 10:\n",
    "        return order.total() * .07\n",
    "    return 0"
   ]
  },
  {
   "cell_type": "code",
   "execution_count": 13,
   "metadata": {},
   "outputs": [
    {
     "data": {
      "text/plain": [
       "<Order total: 42.00 due : 42.00>"
      ]
     },
     "execution_count": 13,
     "metadata": {},
     "output_type": "execute_result"
    }
   ],
   "source": [
    "joe = Customer('John Doe', 0)\n",
    "ann = Customer('Ann Smith', 1100)\n",
    "cart = [\n",
    "    LineItem('banana', 4, .5),\n",
    "    LineItem('apple', 10, 1.5),\n",
    "    LineItem('watermellon', 5, 5.0)\n",
    "]\n",
    "\n",
    "# 把函数当作参数传入而不是实例当参数\n",
    "Order(joe, cart, fidelity_promo)"
   ]
  },
  {
   "cell_type": "code",
   "execution_count": 21,
   "metadata": {},
   "outputs": [],
   "source": [
    "# 选择最佳策略：简单的方式\n",
    "promos = [fidelity_promo, bulk_item_promo, large_order_promo]\n",
    "\n",
    "def best_promo(order):\n",
    "    \"\"\"选择最佳折扣\"\"\"\n",
    "    return max(promo(order) for promo in promos)"
   ]
  },
  {
   "cell_type": "code",
   "execution_count": 17,
   "metadata": {},
   "outputs": [
    {
     "data": {
      "text/plain": [
       "<Order total: 30.00 due : 28.50>"
      ]
     },
     "execution_count": 17,
     "metadata": {},
     "output_type": "execute_result"
    }
   ],
   "source": [
    "# 选择 large_order_promo\n",
    "Order (joe, long_order, best_promo)"
   ]
  },
  {
   "cell_type": "code",
   "execution_count": null,
   "metadata": {},
   "outputs": [],
   "source": [
    "# 选择 bulk_item_promo\n",
    "Order (joe, banana_cart, best_promo)"
   ]
  },
  {
   "cell_type": "code",
   "execution_count": 18,
   "metadata": {},
   "outputs": [
    {
     "data": {
      "text/plain": [
       "<Order total: 42.00 due : 39.90>"
      ]
     },
     "execution_count": 18,
     "metadata": {},
     "output_type": "execute_result"
    }
   ],
   "source": [
    "# 选择 fidelity_promo\n",
    "Order (ann, cart, best_promo)"
   ]
  },
  {
   "cell_type": "markdown",
   "metadata": {},
   "source": [
    "##### 找出模块中的全部策略\n",
    "在上面的实现方式中，如果添加新策略那就需要改动 promos 列表，但我们也可以使用 globale() 来找出可用的 *_promo 函数  \n",
    "\n",
    "__globals()__  \n",
    "    返回一个字典，表示当前的全局符号表。这个符号表始终针对当前模块(对函数或方法来说，是指定义它们的模块，而不是调用它们的模块)"
   ]
  },
  {
   "cell_type": "code",
   "execution_count": 23,
   "metadata": {},
   "outputs": [
    {
     "data": {
      "text/plain": [
       "<Order total: 10.00 due : 9.30>"
      ]
     },
     "execution_count": 23,
     "metadata": {},
     "output_type": "execute_result"
    }
   ],
   "source": [
    "# 内省模块的命名空间构建 promos 列表\n",
    "promos = [globals()[name] for name in globals()\n",
    "            if name.endswith('_promo')\n",
    "            and name != 'best_promo']\n",
    "\n",
    "def best_promo(order):\n",
    "    \"\"\"选择最佳折扣\"\"\"\n",
    "    return max(promo(order) for promo in promos)\n",
    "\n",
    "Order (joe, long_order, best_promo)"
   ]
  },
  {
   "cell_type": "code",
   "execution_count": 32,
   "metadata": {},
   "outputs": [
    {
     "name": "stdout",
     "output_type": "stream",
     "text": [
      "[<function fidelity_promo at 0x000001BD61645E50>, <function bulk_item_promo at 0x000001BD61649280>, <function large_order_promo at 0x000001BD61649310>, <function best_promo at 0x000001BD61649D30>]\n"
     ]
    }
   ],
   "source": [
    "print([globals()[name] for name in globals() if name.endswith('_promo')])"
   ]
  },
  {
   "cell_type": "code",
   "execution_count": null,
   "metadata": {},
   "outputs": [],
   "source": [
    "# 也可以使用 inspect 内省名为 promotions(promos都定义在这个模块)\n",
    "import inspect\n",
    "promos= [func for name, func in inspect.getmembers(promotions, inspect.isfunction)]\n",
    "\n",
    "# inspect.getmembers 用于获取函数对象的属性，第二个参数是可选的判断条件(一个 bool 函数)，此处使用 inspect.isfunction，只获取其中的函数"
   ]
  }
 ],
 "metadata": {
  "interpreter": {
   "hash": "5fd5d179b353a7924b2269f9ae30affc58451699efad8dcc09c53f37c011c4ba"
  },
  "kernelspec": {
   "display_name": "Python 3.9.1 64-bit ('.venv': venv)",
   "language": "python",
   "name": "python3"
  },
  "language_info": {
   "codemirror_mode": {
    "name": "ipython",
    "version": 3
   },
   "file_extension": ".py",
   "mimetype": "text/x-python",
   "name": "python",
   "nbconvert_exporter": "python",
   "pygments_lexer": "ipython3",
   "version": "3.9.1"
  },
  "orig_nbformat": 4
 },
 "nbformat": 4,
 "nbformat_minor": 2
}
