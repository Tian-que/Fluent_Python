{
 "cells": [
  {
   "cell_type": "markdown",
   "metadata": {},
   "source": [
    "# 12.1 子类化内置类型很麻烦\n",
    "\n",
    "内置类型（使用C语言编写）不会调用用户定义的类覆盖的特殊方法"
   ]
  },
  {
   "cell_type": "code",
   "execution_count": 1,
   "metadata": {},
   "outputs": [
    {
     "data": {
      "text/plain": [
       "{'one': 1}"
      ]
     },
     "execution_count": 1,
     "metadata": {},
     "output_type": "execute_result"
    }
   ],
   "source": [
    "# 内置类型 dict 的 __init__ 和 __update__ 方法会忽略我们覆盖的 __setitem__ 方法\n",
    "class DoppelDict(dict):\n",
    "    def __setitem__(self, key, value):\n",
    "        super().__setitem__(key, [value] * 2)\n",
    "\n",
    "# 继承自 dict 的 __init__ 方法线然忽略了我们覆盖的 __setitem__ 方法： 'one' 的值没有出现重复\n",
    "dd = DoppelDict(one = 1)\n",
    "dd\n"
   ]
  },
  {
   "cell_type": "code",
   "execution_count": 2,
   "metadata": {},
   "outputs": [],
   "source": [
    "# [] 运算会调用我们覆盖的 __setitem__ 方法\n",
    "dd['two'] = 2"
   ]
  },
  {
   "cell_type": "code",
   "execution_count": 3,
   "metadata": {},
   "outputs": [],
   "source": [
    "# 继承自 dict 的 update 方法也不会使用我们覆盖的 __setitem__ 方法\n",
    "dd.update(three = 3)"
   ]
  },
  {
   "cell_type": "markdown",
   "metadata": {},
   "source": [
    "直接子类化内部类型容易出错，用户自己定义的类应该继承 collections 模块，例如 UserDict、UserList 和 UserString ，这些类做了特殊设计，因此易于扩展。  \n",
    "这些问题只会发生在 C 语言实现的内置类型内部的方法委托上，而且之影响直接继承内置类型的用户自定义类，如果子类化使用的是 Python 编写的类，就不会受此影响。"
   ]
  },
  {
   "cell_type": "markdown",
   "metadata": {},
   "source": [
    "# 12.2 多重继承和方法解析顺序\n",
    "\n",
    "<img src=.\\Figure12-1.png >"
   ]
  },
  {
   "cell_type": "code",
   "execution_count": 2,
   "metadata": {},
   "outputs": [],
   "source": [
    "class A:\n",
    "    def ping(self):\n",
    "        print('ping:', self)\n",
    "\n",
    "\n",
    "class B(A):\n",
    "    def pong(self):\n",
    "        print('pong:', self)\n",
    "\n",
    "\n",
    "class C(A):\n",
    "    def pong(self):\n",
    "        print('PONG:', self)\n",
    "\n",
    "\n",
    "class D(B, C):\n",
    "\n",
    "    def ping(self):\n",
    "        super().ping()\n",
    "        print('post-ping:', self)\n",
    "\n",
    "    def pingpong(self):\n",
    "        self.ping()\n",
    "        super().ping()\n",
    "        self.pong()\n",
    "        super().pong()\n",
    "        C.pong(self)"
   ]
  },
  {
   "cell_type": "markdown",
   "metadata": {},
   "source": [
    "注意：B 和 C 都实现了 pong 方法，二者之间唯一的区别是，C.pong 方法输出的是大写的 PONG\n",
    "\n",
    "在 D 的实例上调用 D.pong() 方法的话，运行的是那个 pong 方法呢"
   ]
  },
  {
   "cell_type": "code",
   "execution_count": 6,
   "metadata": {},
   "outputs": [
    {
     "name": "stdout",
     "output_type": "stream",
     "text": [
      "pong: <__main__.D object at 0x000001E98E1479D0>\n",
      "PONG: <__main__.D object at 0x000001E98E1479D0>\n"
     ]
    }
   ],
   "source": [
    "# 对类D的实例的pong方法调用的两种形式\n",
    "d = D()\n",
    "\n",
    "# 直接调用 d.pong() 运行的是 B 类中的版本\n",
    "d.pong()\n",
    "\n",
    "# 超类中的方法都可以直接调用，此视要把实例作为显示参数传入\n",
    "C.pong(d)"
   ]
  },
  {
   "cell_type": "markdown",
   "metadata": {},
   "source": [
    "Python 能区分 d.pong() 调用的是哪个方法，是因为 Python 会按照特定的顺序遍历继承图。这个顺序叫方法解析顺序（Method Resolution Order，MRO）。类都有一个名为 \\_\\_mro__ 的属性，它的值是一个元组，按照方法解析顺序列出各个超类"
   ]
  },
  {
   "cell_type": "code",
   "execution_count": 7,
   "metadata": {},
   "outputs": [
    {
     "data": {
      "text/plain": [
       "(__main__.D, __main__.B, __main__.C, __main__.A, object)"
      ]
     },
     "execution_count": 7,
     "metadata": {},
     "output_type": "execute_result"
    }
   ],
   "source": [
    "D.__mro__"
   ]
  },
  {
   "cell_type": "markdown",
   "metadata": {},
   "source": [
    "若想把方法调用委托给超类，推荐的方式是使用内置的 super() 函数，在 Python3 中，这种方式变得更容易了，如示例 12-4 中 D 类的 pingpong 方法表示  \n",
    "然而，有时可能需要绕过方法解析顺序，直接调用某个超类的方法 —— 这样做有时更方便。所以 D.ping 方法可以这样写"
   ]
  },
  {
   "cell_type": "code",
   "execution_count": null,
   "metadata": {},
   "outputs": [],
   "source": [
    "def ping(self):\n",
    "    A.ping(self)\n",
    "    print('post-ping', self)"
   ]
  },
  {
   "cell_type": "markdown",
   "metadata": {},
   "source": [
    "注意，直接在类上调用实例方法时，必须显式的传入 self 参数，因为这样访问的是 未绑定的方法  \n",
    "然而，使用 super() 最安全，也不易过时。调用框架或不受自己控制的类层次结构中的方法时，尤其适合使用 super()。"
   ]
  },
  {
   "cell_type": "code",
   "execution_count": 3,
   "metadata": {},
   "outputs": [
    {
     "name": "stdout",
     "output_type": "stream",
     "text": [
      "ping: <__main__.D object at 0x000002295D9B6430>\n",
      "post-ping: <__main__.D object at 0x000002295D9B6430>\n"
     ]
    }
   ],
   "source": [
    "# 使用 super() 函数调用 ping 方法\n",
    "d = D()\n",
    "d.ping()"
   ]
  },
  {
   "cell_type": "markdown",
   "metadata": {},
   "source": [
    "D 类的 ping 方法做了两次调用  \n",
    "第一个调用是 super().ping(); super 函数把 ping 调用委托给 A 类；这一行由 A.ping 输出\n",
    "第二个调用是 print('post-ping', self)"
   ]
  },
  {
   "cell_type": "code",
   "execution_count": 4,
   "metadata": {},
   "outputs": [
    {
     "name": "stdout",
     "output_type": "stream",
     "text": [
      "ping: <__main__.D object at 0x000002295D9B6430>\n",
      "post-ping: <__main__.D object at 0x000002295D9B6430>\n",
      "ping: <__main__.D object at 0x000002295D9B6430>\n",
      "pong: <__main__.D object at 0x000002295D9B6430>\n",
      "pong: <__main__.D object at 0x000002295D9B6430>\n",
      "PONG: <__main__.D object at 0x000002295D9B6430>\n"
     ]
    }
   ],
   "source": [
    "# pingpong 的 5 个调用\n",
    "d.pingpong()"
   ]
  },
  {
   "cell_type": "markdown",
   "metadata": {},
   "source": [
    "第一个是 self.ping() 调用 D 类的 ping 方法  \n",
    "第二个是 super().ping() 跳过 D 类的 ping 方法，找到 D 类的 ping 方法  \n",
    "第三个是 self.pong() 根据 \\_\\_mro__ 找到 B 类实现的 ping 方法  \n",
    "第四个是 super().pong() 根据 \\_\\_mro__ 找到 B 类实现的 ping 方法  \n",
    "第五个是 C.pong(self) 显示的调用超类 C 的 pong 方法  "
   ]
  },
  {
   "cell_type": "markdown",
   "metadata": {},
   "source": [
    "方法解析顺序不仅考虑继承图，还考虑子类声明中列出超类的顺序，所以在 D 的超类顺序中， B 在 C 之前  \n",
    "分析类时，可以查看 \\_\\_mro__ 以便了解具体情况"
   ]
  },
  {
   "cell_type": "code",
   "execution_count": 5,
   "metadata": {},
   "outputs": [
    {
     "data": {
      "text/plain": [
       "(bool, int, object)"
      ]
     },
     "execution_count": 5,
     "metadata": {},
     "output_type": "execute_result"
    }
   ],
   "source": [
    "bool.__mro__"
   ]
  },
  {
   "cell_type": "code",
   "execution_count": 6,
   "metadata": {},
   "outputs": [],
   "source": [
    "def print_mro(cls):\n",
    "    print(', '.join(c.__name__ for c in cls.__mro__))"
   ]
  },
  {
   "cell_type": "code",
   "execution_count": 8,
   "metadata": {},
   "outputs": [
    {
     "name": "stdout",
     "output_type": "stream",
     "text": [
      "Integral, Rational, Real, Complex, Number, object\n",
      "test, object\n"
     ]
    }
   ],
   "source": [
    "import numbers\n",
    "print_mro(numbers.Integral)\n",
    "\n",
    "class test:\n",
    "    pass\n",
    "print_mro(test)"
   ]
  },
  {
   "cell_type": "markdown",
   "metadata": {},
   "source": [
    "# 12.3 多重继承的真实应用\n",
    "\n",
    "麻了，图太多，看书吧"
   ]
  }
 ],
 "metadata": {
  "interpreter": {
   "hash": "5fd5d179b353a7924b2269f9ae30affc58451699efad8dcc09c53f37c011c4ba"
  },
  "kernelspec": {
   "display_name": "Python 3.9.1 64-bit ('.venv': venv)",
   "language": "python",
   "name": "python3"
  },
  "language_info": {
   "codemirror_mode": {
    "name": "ipython",
    "version": 3
   },
   "file_extension": ".py",
   "mimetype": "text/x-python",
   "name": "python",
   "nbconvert_exporter": "python",
   "pygments_lexer": "ipython3",
   "version": "3.9.1"
  },
  "orig_nbformat": 4
 },
 "nbformat": 4,
 "nbformat_minor": 2
}
