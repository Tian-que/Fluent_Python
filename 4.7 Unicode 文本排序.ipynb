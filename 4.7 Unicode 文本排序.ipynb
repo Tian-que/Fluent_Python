{
 "cells": [
  {
   "cell_type": "code",
   "execution_count": null,
   "metadata": {},
   "outputs": [],
   "source": [
    "# 使用 pyuca.Collator.sort_key 方法\n",
    "# PyUCA 是 Unicode 排序算法的纯 Python 实现\n",
    "import pyuca\n",
    "coll = pyuca.Collator()\n",
    "sorted = sorted(txt, key = coll.sort_key)"
   ]
  }
 ],
 "metadata": {
  "language_info": {
   "name": "python"
  },
  "orig_nbformat": 4
 },
 "nbformat": 4,
 "nbformat_minor": 2
}
