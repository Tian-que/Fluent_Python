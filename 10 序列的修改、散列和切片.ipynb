{
 "cells": [
  {
   "cell_type": "markdown",
   "metadata": {},
   "source": [
    "10.2 Vector 类第一版：与Vector2d 类兼容\n",
    "在这里先故意让他们不兼容"
   ]
  },
  {
   "cell_type": "code",
   "execution_count": null,
   "metadata": {},
   "outputs": [],
   "source": [
    "from array import array\n",
    "import math\n",
    "import reprlib\n",
    "\n",
    "class Vector:\n",
    "    typecode = 'd'\n",
    "\n",
    "    def __init__(self, components) -> None:\n",
    "        # self._components是受保护的实例属性，把 Vector 分量保存在一个数组中\n",
    "        self._components = array(self.typecode, components)\n",
    "    \n",
    "    def __iter__(self): # 将实例变成可迭代的对象\n",
    "        return iter(self._components)\n",
    "    \n",
    "    def __repr__(self) -> str:\n",
    "        components = reprlib.repr(self._components) # reprlib.repr() 可以让输出太多的时候使用 ... 省略一部分\n",
    "        components = components[components.find('['):-1] # 先去掉前面的 array('d' 和 后面的 )\n",
    "        return 'Vector{[]}'.format(components)\n",
    "\n",
    "    def __str__(self) -> str:\n",
    "        return str(tuple(self))\n",
    "    \n",
    "    def __bytes__(self):\n",
    "        return (bytes([ord(self.typecode)]) + \n",
    "                bytes(self._components))\n",
    "    \n",
    "    def __eq__(self, other):\n",
    "        return tuple(self) == tuple(other)\n",
    "    \n",
    "    def __abs__(self):  # 直接计算平方和\n",
    "        return math.sqrt(sum(x * x for x in self))\n",
    "    \n",
    "    def __bool__(self):\n",
    "        return bool(abs(self))\n",
    "    \n",
    "    @classmethod    # 直接传入 memoryview 给构造方法，而不是拆包\n",
    "    def frombytes(cls, octets):\n",
    "        typecode = chr(octets[0])\n",
    "        memv = memoryview(octets[1:]).cast(typecode)\n",
    "        return cls(memv)"
   ]
  },
  {
   "cell_type": "markdown",
   "metadata": {},
   "source": [
    "# 10.4  Vector 类第 2 版 ：可切片的序列\n",
    "支持序列属性非常简单。只需要实现 \\_\\_len__ 和 \\_\\_getitem__ 方法"
   ]
  },
  {
   "cell_type": "code",
   "execution_count": null,
   "metadata": {},
   "outputs": [],
   "source": [
    "class Vector:\n",
    "    # 省略\n",
    "    # ...\n",
    "\n",
    "    def __len__(self):\n",
    "        return len(self._components)\n",
    "    \n",
    "    def __getitem__(self, index):\n",
    "        return self._components[index]"
   ]
  },
  {
   "cell_type": "code",
   "execution_count": 8,
   "metadata": {},
   "outputs": [],
   "source": [
    "# 完整代码\n",
    "from array import array\n",
    "import math\n",
    "import reprlib\n",
    "\n",
    "class Vector:\n",
    "    typecode = 'd'\n",
    "\n",
    "    def __init__(self, components) -> None:\n",
    "        # self._components是受保护的实例属性，把 Vector 分量保存在一个数组中\n",
    "        self._components = array(self.typecode, components)\n",
    "    \n",
    "    def __iter__(self): # 将实例变成可迭代的对象\n",
    "        return iter(self._components)\n",
    "    \n",
    "    def __repr__(self) -> str:\n",
    "        components = reprlib.repr(self._components) # reprlib.repr() 可以让输出太多的时候使用 ... 省略一部分\n",
    "        components = components[components.find('['):-1] # 先去掉前面的 array('d' 和 后面的 )\n",
    "        return 'Vector{[]}'.format(components)\n",
    "\n",
    "    def __str__(self) -> str:\n",
    "        return str(tuple(self))\n",
    "    \n",
    "    def __bytes__(self):\n",
    "        return (bytes([ord(self.typecode)]) + \n",
    "                bytes(self._components))\n",
    "    \n",
    "    def __eq__(self, other):\n",
    "        return tuple(self) == tuple(other)\n",
    "    \n",
    "    def __abs__(self):  # 直接计算平方和\n",
    "        return math.sqrt(sum(x * x for x in self))\n",
    "    \n",
    "    def __bool__(self):\n",
    "        return bool(abs(self))\n",
    "    \n",
    "    @classmethod    # 直接传入 memoryview 给构造方法，而不是拆包\n",
    "    def frombytes(cls, octets):\n",
    "        typecode = chr(octets[0])\n",
    "        memv = memoryview(octets[1:]).cast(typecode)\n",
    "        return cls(memv)\n",
    "\n",
    "    def __len__(self):\n",
    "        return len(self._components)\n",
    "    \n",
    "    def __getitem__(self, index):\n",
    "        return self._components[index]"
   ]
  },
  {
   "cell_type": "code",
   "execution_count": 9,
   "metadata": {},
   "outputs": [
    {
     "data": {
      "text/plain": [
       "3"
      ]
     },
     "execution_count": 9,
     "metadata": {},
     "output_type": "execute_result"
    }
   ],
   "source": [
    "# 添加这两个方法后，就能执行下面的操作了\n",
    "v1 = Vector([3, 4, 5])\n",
    "len(v1)"
   ]
  },
  {
   "cell_type": "code",
   "execution_count": 10,
   "metadata": {},
   "outputs": [
    {
     "data": {
      "text/plain": [
       "(3.0, 5.0)"
      ]
     },
     "execution_count": 10,
     "metadata": {},
     "output_type": "execute_result"
    }
   ],
   "source": [
    "v1[0], v1[-1]"
   ]
  },
  {
   "cell_type": "code",
   "execution_count": 12,
   "metadata": {},
   "outputs": [
    {
     "data": {
      "text/plain": [
       "array('d', [1.0, 2.0, 3.0])"
      ]
     },
     "execution_count": 12,
     "metadata": {},
     "output_type": "execute_result"
    }
   ],
   "source": [
    "v7 = Vector(range(7))\n",
    "v7[1:4]"
   ]
  },
  {
   "cell_type": "markdown",
   "metadata": {},
   "source": [
    "可以看到，现在连切片都支持了，不过尚不完美，如果切片返回的也是 Vector 实例就更好了。为了把 Vector 实例的切片也变成 Vector 实例，我们不能简单地委托给数组切片，我们要分析传给 __getitem__ 方法的参数，做适当的处理"
   ]
  },
  {
   "cell_type": "markdown",
   "metadata": {},
   "source": [
    "## 10.4.1 切片原理 "
   ]
  },
  {
   "cell_type": "code",
   "execution_count": 14,
   "metadata": {},
   "outputs": [],
   "source": [
    "# 了解 __getitem__ 和切片的行为\n",
    "class MySeq:\n",
    "    def __getitem__(self, index):\n",
    "        return index\n",
    "\n",
    "s = MySeq()"
   ]
  },
  {
   "cell_type": "code",
   "execution_count": 19,
   "metadata": {},
   "outputs": [
    {
     "name": "stdout",
     "output_type": "stream",
     "text": [
      "1\n",
      "slice(1, 4, None)\n",
      "slice(1, 4, 2)\n",
      "(slice(1, 4, 2), 9)\n",
      "(slice(1, 4, 2), slice(7, 9, None))\n"
     ]
    }
   ],
   "source": [
    "print(s[1]) # 单个索引\n",
    "print(s[1:4])   # 1:4 表示法变成了 slice(1, 4, None)\n",
    "print(s[1:4:2])   # slice(1, 4, 2) 表示从 1 开始，到 4 结束，步幅为 2\n",
    "print(s[1:4:2, 9]) # 如果 [] 中有逗号，那么__getitem__收到的是元组\n",
    "print(s[1:4:2, 7:9]) # 元组可以有多个切片对象"
   ]
  },
  {
   "cell_type": "code",
   "execution_count": 20,
   "metadata": {},
   "outputs": [
    {
     "data": {
      "text/plain": [
       "slice"
      ]
     },
     "execution_count": 20,
     "metadata": {},
     "output_type": "execute_result"
    }
   ],
   "source": [
    "# 查看 slice 类的属性\n",
    "slice"
   ]
  },
  {
   "cell_type": "code",
   "execution_count": 21,
   "metadata": {},
   "outputs": [
    {
     "data": {
      "text/plain": [
       "['__class__',\n",
       " '__delattr__',\n",
       " '__dir__',\n",
       " '__doc__',\n",
       " '__eq__',\n",
       " '__format__',\n",
       " '__ge__',\n",
       " '__getattribute__',\n",
       " '__gt__',\n",
       " '__hash__',\n",
       " '__init__',\n",
       " '__init_subclass__',\n",
       " '__le__',\n",
       " '__lt__',\n",
       " '__ne__',\n",
       " '__new__',\n",
       " '__reduce__',\n",
       " '__reduce_ex__',\n",
       " '__repr__',\n",
       " '__setattr__',\n",
       " '__sizeof__',\n",
       " '__str__',\n",
       " '__subclasshook__',\n",
       " 'indices',\n",
       " 'start',\n",
       " 'step',\n",
       " 'stop']"
      ]
     },
     "execution_count": 21,
     "metadata": {},
     "output_type": "execute_result"
    }
   ],
   "source": [
    "dir(slice)"
   ]
  },
  {
   "cell_type": "markdown",
   "metadata": {},
   "source": [
    "通过审查 slice，发现它有 start、stop 和 step 属性，以及 indices 方法  \n",
    "indices方法有很大的作用"
   ]
  },
  {
   "cell_type": "code",
   "execution_count": 22,
   "metadata": {},
   "outputs": [
    {
     "name": "stdout",
     "output_type": "stream",
     "text": [
      "Help on method_descriptor:\n",
      "\n",
      "indices(...)\n",
      "    S.indices(len) -> (start, stop, stride)\n",
      "    \n",
      "    Assuming a sequence of length len, calculate the start and stop\n",
      "    indices, and the stride length of the extended slice described by\n",
      "    S. Out of bounds indices are clipped in a manner consistent with the\n",
      "    handling of normal slices.\n",
      "\n"
     ]
    }
   ],
   "source": [
    "help(slice.indices)"
   ]
  },
  {
   "cell_type": "markdown",
   "metadata": {},
   "source": [
    "S.indices(len) -> (start, stop, stride)  \n",
    "给定长度为 len 的序列，计算 S 表示的扩展切片的起始，结尾以及步幅，他会“整顿”元组以让输出的参数为正"
   ]
  },
  {
   "cell_type": "code",
   "execution_count": 23,
   "metadata": {},
   "outputs": [
    {
     "data": {
      "text/plain": [
       "(0, 5, 2)"
      ]
     },
     "execution_count": 23,
     "metadata": {},
     "output_type": "execute_result"
    }
   ],
   "source": [
    "slice(None, 10, 2).indices(5)"
   ]
  },
  {
   "cell_type": "code",
   "execution_count": 24,
   "metadata": {},
   "outputs": [
    {
     "data": {
      "text/plain": [
       "(2, 5, 1)"
      ]
     },
     "execution_count": 24,
     "metadata": {},
     "output_type": "execute_result"
    }
   ],
   "source": [
    "slice(-3, None, None).indices(5)"
   ]
  },
  {
   "cell_type": "markdown",
   "metadata": {},
   "source": [
    "Vector 类中无需使用 slice.indices() 方法，因为受到切片参数时，我们会委托 _components 数组处理。但如果你没有底层序列类型作为依靠，那么使用这个方法能节省大量时间。"
   ]
  },
  {
   "cell_type": "markdown",
   "metadata": {},
   "source": [
    "# 10.4.2 能处理切片的 __getitem__ 方法"
   ]
  },
  {
   "cell_type": "code",
   "execution_count": null,
   "metadata": {},
   "outputs": [],
   "source": [
    "import numbers\n",
    "class Vector:\n",
    "    # 省略\n",
    "    # ...\n",
    "\n",
    "    def __len__(self):\n",
    "        return len(self._components)\n",
    "    \n",
    "    def __getitem__(self, index):\n",
    "        cls = type(self)\n",
    "        if isinstance(index, slice):     # 如果参数是 slice 对象\n",
    "            return cls(self._components[index]) # 返回新的类\n",
    "        elif isinstance(index, numbers.Integral):\n",
    "            return self._components[index]\n",
    "        else:\n",
    "            msg = '{cls.__name__} indices must be initegers'\n",
    "            raise TypeError(msg.format(cls = cls))"
   ]
  },
  {
   "cell_type": "code",
   "execution_count": 32,
   "metadata": {},
   "outputs": [],
   "source": [
    "# 完整代码\n",
    "from array import array\n",
    "import math\n",
    "import reprlib\n",
    "import numbers\n",
    "\n",
    "class Vector:\n",
    "    typecode = 'd'\n",
    "\n",
    "    def __len__(self):\n",
    "        return len(self._components)\n",
    "    \n",
    "    def __getitem__(self, index):\n",
    "        cls = type(self)\n",
    "        if isinstance(index, slice):     # 如果参数是 slice 对象\n",
    "            return cls(self._components[index]) # 返回新的类\n",
    "        elif isinstance(index, numbers.Integral):\n",
    "            return self._components[index]\n",
    "        else:\n",
    "            msg = '{cls.__name__} indices must be initegers'\n",
    "            raise TypeError(msg.format(cls = cls))\n",
    "\n",
    "    def __init__(self, components) -> None:\n",
    "        # self._components是受保护的实例属性，把 Vector 分量保存在一个数组中\n",
    "        self._components = array(self.typecode, components)\n",
    "    \n",
    "    def __iter__(self): # 将实例变成可迭代的对象\n",
    "        return iter(self._components)\n",
    "    \n",
    "    def __repr__(self) -> str:\n",
    "        components = reprlib.repr(self._components) # reprlib.repr() 可以让输出太多的时候使用 ... 省略一部分\n",
    "        components = components[components.find('['):-1] # 先去掉前面的 array('d' 和 后面的 )\n",
    "        return 'Vector({})'.format(components)\n",
    "\n",
    "    def __str__(self) -> str:\n",
    "        return str(tuple(self))\n",
    "    \n",
    "    def __bytes__(self):\n",
    "        return (bytes([ord(self.typecode)]) + \n",
    "                bytes(self._components))\n",
    "    \n",
    "    def __eq__(self, other):\n",
    "        return tuple(self) == tuple(other)\n",
    "    \n",
    "    def __abs__(self):  # 直接计算平方和\n",
    "        return math.sqrt(sum(x * x for x in self))\n",
    "    \n",
    "    def __bool__(self):\n",
    "        return bool(abs(self))\n",
    "    \n",
    "    @classmethod    # 直接传入 memoryview 给构造方法，而不是拆包\n",
    "    def frombytes(cls, octets):\n",
    "        typecode = chr(octets[0])\n",
    "        memv = memoryview(octets[1:]).cast(typecode)\n",
    "        return cls(memv)"
   ]
  },
  {
   "cell_type": "code",
   "execution_count": 33,
   "metadata": {},
   "outputs": [
    {
     "data": {
      "text/plain": [
       "6.0"
      ]
     },
     "execution_count": 33,
     "metadata": {},
     "output_type": "execute_result"
    }
   ],
   "source": [
    "v7 = Vector(range(7))\n",
    "v7[-1]"
   ]
  },
  {
   "cell_type": "code",
   "execution_count": 34,
   "metadata": {},
   "outputs": [
    {
     "data": {
      "text/plain": [
       "Vector([1.0, 2.0])"
      ]
     },
     "execution_count": 34,
     "metadata": {},
     "output_type": "execute_result"
    }
   ],
   "source": [
    "v7[1:3]"
   ]
  },
  {
   "cell_type": "markdown",
   "metadata": {},
   "source": [
    "# 10.5 Vector 类第 3 版：动态存取属性\n",
    "Vector2d 变成 Vector 后，就没办法通过名称访问向量分量了(如 v.x 和 v.y)。现在我们处理的向量可能有大量分量，不过，若能通过单个字母访问几个分量的话会很方便  \n",
    "在 Vector2d 中，我们使用 @property 装饰器把 x 和 y标记为只读特性，我们可以在 Vector 中编写四个特效，但这样太麻烦  \n",
    "特殊方法 \\_\\_getattr__ 提供了更好的方式\n",
    "\n",
    "属性查找失败后，解释器会调用 \\_\\_getattr__ 方法。简单来说，对 my_obj.x 表达式，Python 会检查 my_obj 实例有没有名为 x 的属性，如果没有就到类 (my_obj.\\_\\_class__) 中查找。如果还没有，会顺着继承树继续查找。如果依旧找不到，调用 my_obj 所属类定义的 \\_\\_getattr__ 方法，传入 self 和属性名称的字符串形式(如 'x')"
   ]
  },
  {
   "cell_type": "code",
   "execution_count": null,
   "metadata": {},
   "outputs": [],
   "source": [
    "# 支持 Vector 查找 xyzt 属性\n",
    "shortcut_names = 'xyzt'\n",
    "\n",
    "def __getattr__(self, name):\n",
    "    cls = type(self)\n",
    "    if len(name) == 1:\n",
    "        pos = cls.shortcut_names.find(name)\n",
    "        if 0 <= pos < len(self._components):\n",
    "            return self._components[pos]\n",
    "    msg = '{.__name__!r} object is has no attribute {!r}'\n",
    "    raise AttributeError(msg.format(cls, name))\n"
   ]
  },
  {
   "cell_type": "markdown",
   "metadata": {},
   "source": [
    "但这样会出现一个问题，当用户为实例赋值时，会添加给真正的 v.x 后续则不会有限调用 _getattr__  \n",
    "为了避免这种情况，我们要改写 Vector 中设置属性的逻辑"
   ]
  },
  {
   "cell_type": "code",
   "execution_count": null,
   "metadata": {},
   "outputs": [],
   "source": [
    "def __setattr__(self, name, value):\n",
    "    cls = type(self)\n",
    "    if len(name) == 1:  # 特别处理名称为单字符的属性\n",
    "        if name in cls.shortcut_names:\n",
    "            # 对 xyzt 名称特殊输出\n",
    "            error = 'readonly attribute {attr_name!r}'\n",
    "        elif name.islower():\n",
    "            # 对小写字母设置输出\n",
    "            error = \"can't set attributes 'a' to 'z' in {cls_name!r}\"\n",
    "        else:\n",
    "            error = ''\n",
    "        if error:\n",
    "            msg = error.format(cls_name = cls.__name__,attr_name = name)\n",
    "            raise AttributeError(msg)\n",
    "    super().__setattr__(name, value)    # 在超类调用__setattr__方法，提供标准行为"
   ]
  },
  {
   "cell_type": "markdown",
   "metadata": {},
   "source": [
    "# 10.6 Vector 类第 4 版：散列和快速等值测试\n",
    "我们要再次实现 \\_\\_hash__ 方法，加上现有的 \\_\\_eq__ 方法，这会吧 Vector 实例变成可散列的对象  \n",
    "上次我们只对两个值使用异或计算，而这次我们需要对每一个值的hash进行异或，所以这里可以用到归约函数 reduce  \n",
    "funtools.reduce() 的原理：把一系列值归约成单个值。reduce() 函数的第一个参数是接受两个参数的函数，第二个参数是一个可迭代对象。加入有个接受两个参数的 fn 函数和一个 lst 列表，调用 reduce(fn, lst) 时，fn 会应用到第一对元素上，即 fb(lst[0], lst[1])，生成第一个结果r1，然后，fn 会应用到 r1 到下一个元素上，即 fn(r1, lst[2])，生成 r2，以此类推，直到最后一个元素，返回结果 rn"
   ]
  },
  {
   "cell_type": "code",
   "execution_count": null,
   "metadata": {},
   "outputs": [],
   "source": [
    "#计算整数 0~5 的累计异或的 3 种方式\n",
    "n = 0\n",
    "for i in range(1, 6):\n",
    "    n ^= i\n",
    "\n",
    "#\n",
    "import functools\n",
    "functools.reduce(lambda a, b:a^b, range(1, 6))\n",
    "\n",
    "#\n",
    "import operator\n",
    "functools.reduce(operator.xor , range(1, 6))"
   ]
  },
  {
   "cell_type": "code",
   "execution_count": 36,
   "metadata": {},
   "outputs": [],
   "source": [
    "# vector_v4.py 部分代码，在上一个版本 的基础上导入两个模块，添加 __hash__ 方法\n",
    "from array import array\n",
    "import reprlib, math, functools, operator\n",
    "\n",
    "class Vector:\n",
    "    typecode = 'd'\n",
    "\n",
    "    # 省略 ...\n",
    "\n",
    "    def __eq__(self, other) -> bool:\n",
    "        return tuple(self) == tuple(other)\n",
    "    \n",
    "    def __hash__(self) -> int:\n",
    "        hashes = (hash(x) for x in self._components)\n",
    "        return functools.reduce(operator.xor, hashes, 0)    # 注意 0 是初始值"
   ]
  },
  {
   "cell_type": "code",
   "execution_count": 37,
   "metadata": {},
   "outputs": [
    {
     "name": "stdout",
     "output_type": "stream",
     "text": [
      "Help on built-in function reduce in module _functools:\n",
      "\n",
      "reduce(...)\n",
      "    reduce(function, sequence[, initial]) -> value\n",
      "    \n",
      "    Apply a function of two arguments cumulatively to the items of a sequence,\n",
      "    from left to right, so as to reduce the sequence to a single value.\n",
      "    For example, reduce(lambda x, y: x+y, [1, 2, 3, 4, 5]) calculates\n",
      "    ((((1+2)+3)+4)+5).  If initial is present, it is placed before the items\n",
      "    of the sequence in the calculation, and serves as a default when the\n",
      "    sequence is empty.\n",
      "\n"
     ]
    }
   ],
   "source": [
    "help(functools.reduce)"
   ]
  },
  {
   "cell_type": "markdown",
   "metadata": {},
   "source": [
    "使用 reduce 函数时最好提供第三个参数，reduce(function, sequence[, initial])，这样能避免这个异常 TypeError: reduce() of empty sequence with no initial value  \n",
    "如果序列为空，initial 应是返回的结果；否则，在归约中使用它作为第一个参数，因此应该使用恒等值。比如 对 +、| 和 ^ 来说，应使用 0 作为 initial，而对 * 或 & 来说，使用 1\n",
    "\n",
    "这种实现方法是以中映射归约计算：把函数应用到各个元素上，生成一个新序列（映射，map），然后计算整个值（归约，reduce）"
   ]
  },
  {
   "cell_type": "code",
   "execution_count": null,
   "metadata": {},
   "outputs": [],
   "source": [
    "# 使用 map 实现的 __hash__\n",
    "def __hash__(self):\n",
    "    hashes = map(hash,self._components)\n",
    "    return functools.reduce(operator.xor, hashes, 0)"
   ]
  },
  {
   "cell_type": "markdown",
   "metadata": {},
   "source": [
    "优化 \\_\\_eq__ 方法，减少处理时间和内存用量，而且对于之前的实现 Vector([1, 2]) 和 (1, 2) 是相等的，这或许是个问题。"
   ]
  },
  {
   "cell_type": "code",
   "execution_count": null,
   "metadata": {},
   "outputs": [],
   "source": [
    "# 提高效率的 __eq__ 方法\n",
    "def __eq__(self, other):\n",
    "    if len(self) != len(other):\n",
    "        return False\n",
    "    for a,b in zip(self, other):\n",
    "        if a != b:\n",
    "            return False\n",
    "    return True"
   ]
  },
  {
   "cell_type": "markdown",
   "metadata": {},
   "source": [
    "上面的实现效率不错，但用于计算聚合值的整个 for 循环可以替换成一行 all 函数调用：如果所有分量比对效果是 True，那就返回 True，否则返回 False"
   ]
  },
  {
   "cell_type": "code",
   "execution_count": null,
   "metadata": {},
   "outputs": [],
   "source": [
    "def __eq__(self, other):\n",
    "    return len(self) == len(other) and all(a == b for a,b in zip(self, other))"
   ]
  },
  {
   "cell_type": "markdown",
   "metadata": {},
   "source": [
    "注：zip 和 enumerate 生成器函数在循环体中很有用"
   ]
  },
  {
   "cell_type": "markdown",
   "metadata": {},
   "source": [
    "# 10.7 Vector 类第 5 版：格式化\n",
    "Vector 类的 \\_\\_format__ 方法与 Vector2d 类相似，但不适用极坐标，而使用球面坐标（也称超球面坐标），因为它可能有很多维度，超过四维后，球体变成了超球体，因此我们将自定义格式中的后缀由 'p' 变为 'h'  \n",
    "例如，对四维空间 (len(v) == 4) 中的 Vector 对象来说，'h' 代码所得到的结果是这样：<r, Φ1, Φ2, Φ3>。其中，r 是模 (abs(v))，余下三个是角坐标。\n",
    "\n",
    "与上次一样，我们需要定义两个辅助方法：一个是 angle(n)，用于计算某个角坐标;另一个是angles()，返回由所有角坐标构成的可迭代对象。"
   ]
  },
  {
   "cell_type": "code",
   "execution_count": null,
   "metadata": {},
   "outputs": [],
   "source": [
    "import itertools\n",
    "class Vector:\n",
    "    typecode = 'd'\n",
    "\n",
    "    # 省略\n",
    "    # ...\n",
    "\n",
    "    # 使用 n 维球体公式计算某个角坐标\n",
    "    def angle(self, n):\n",
    "        r = math.sqrt(sum(x * x for x in self[n:]))\n",
    "        a = math.atan2(r, self[n-1])\n",
    "        if (n == len(self) - 1) and (self[-1] < 0):\n",
    "            return math.pi * 2 - a\n",
    "        else:\n",
    "            return a\n",
    "    \n",
    "    # 创建生成器表达式，按需计算所有角坐标\n",
    "    def angles(self):\n",
    "        return (self.angle(n) for n in range(1, len(self)))\n",
    "\n",
    "    def __format__(self, fmt_spec: str) -> str:\n",
    "        if fmt_spec.endswith('h'):  # 超球面坐标\n",
    "            fmt_spec = fmt_spec[:-1]\n",
    "            coords = itertools.chain([abs(self)], self.angles())    # 使用 itertools.chain 函数生成生成器表达式，无缝迭代向量的模和各个角坐标\n",
    "            outer_fmt = '<{}>'\n",
    "        else:\n",
    "            coords = self\n",
    "            outer_fmt = '({})'\n",
    "        components = (format(c, fmt_spec) for c in coords)\n",
    "        return outer_fmt.format(', '.join(components))"
   ]
  }
 ],
 "metadata": {
  "interpreter": {
   "hash": "5fd5d179b353a7924b2269f9ae30affc58451699efad8dcc09c53f37c011c4ba"
  },
  "kernelspec": {
   "display_name": "Python 3.9.1 64-bit ('.venv': venv)",
   "language": "python",
   "name": "python3"
  },
  "language_info": {
   "codemirror_mode": {
    "name": "ipython",
    "version": 3
   },
   "file_extension": ".py",
   "mimetype": "text/x-python",
   "name": "python",
   "nbconvert_exporter": "python",
   "pygments_lexer": "ipython3",
   "version": "3.9.1"
  },
  "orig_nbformat": 4
 },
 "nbformat": 4,
 "nbformat_minor": 2
}
